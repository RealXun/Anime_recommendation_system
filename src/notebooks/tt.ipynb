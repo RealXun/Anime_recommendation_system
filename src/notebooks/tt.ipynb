{
 "cells": [
  {
   "cell_type": "code",
   "execution_count": null,
   "metadata": {},
   "outputs": [],
   "source": [
    "def model_NearestNeighbors(df):\n",
    "    # Build and \"train\" the model using NearestNeighbors algorithm\n",
    "    # algorithm: algorithm used to compute the nearest neighbors (‘auto’, ‘ball_tree’, ‘kd_tree’, ‘brute’)\n",
    "    # leaf_size: leaf size passed to BallTree or KDTree\n",
    "    # metric: distance metric used for the tree. Can be 'minkowski', 'euclidean', etc.\n",
    "    # n_neighbors: number of neighbors to use for kneighbors queries\n",
    "    # p: power parameter for the Minkowski metric. When p = 1, this is equivalent to using manhattan_distance\n",
    "    neigh = NearestNeighbors(algorithm= 'auto', leaf_size= 30, metric= 'minkowski', n_neighbors= 100, p= 1, radius= 0.0).fit(df)\n",
    "\n",
    "    # Get the distances and indices of the nearest neighbors\n",
    "    # distances: array representing the lengths to points, only present if return_distance=True\n",
    "    # indices: indices of the nearest points in the population matrix\n",
    "    distances, indices = neigh.kneighbors(df)\n",
    "\n",
    "    # Save the model to a file using joblib.dump\n",
    "    joblib.dump(indices, saved_models_folder + \"/\" + \"kNearest_user_content_new_model.pkl\")\n",
    "\n",
    "    # Return the indices of the nearest neighbors\n",
    "    return indices\n",
    "\n",
    "def print_similar_animes(query):\n",
    "    ind = joblib.load(saved_models_folder + \"/\" + \"kNearest_user_content_new_model.pkl\") # Load the trained model\n",
    "    #anime = joblib.load(processed_data + \"/\" + \"_anime_to_compare_with_name.pkl\")\n",
    "    anime = pd.read_csv(processed_data + \"/\" + \"_anime_to_compare_with_name.csv\")# load anime df\n",
    "    closest_title, distance_score = finding_the_closest_title(query,anime) # find the closest title\n",
    "       \n",
    "    if distance_score == 100: # When a user does not make misspellings\n",
    "        names = []\n",
    "        errors = []\n",
    "        print('These are the recommendations for similar animes to '+'\\033[1m'+str(query)+'\\033[0m'+'','\\n')\n",
    "        found_id = from_title_to_index(query,anime) # return the matched index number of the anime name\n",
    "        array = ind[found_id][1:] # return the matched index number of the anime name that user did input\n",
    "        indi = np.where(array==found_id) # return the position of the anime index that user did input (if it is in the list)\n",
    "        array = np.delete(array, indi) # erase the anime index that matches the anime name that used did input\n",
    "        #array = array[0:n] # print the number of anime recommendations that userd chosed\n",
    "        for id in array:\n",
    "            try :\n",
    "                names.append(anime[anime.index == id]['name'].values[0])\n",
    "            except IndexError :\n",
    "                errors.append(id)\n",
    "        return names\n",
    "\n",
    "   # When a user makes misspellings    \n",
    "    else:\n",
    "        names = []\n",
    "        errors = []\n",
    "        print('I guess you misspelled the name\\n Are you looking similitudes for the anime named '+'\\033[1m'+str(closest_title)+'\\033[0m'+'?','\\n' + 'Here are the recommendations:')\n",
    "        found_id = from_title_to_index(closest_title,anime) # return the matched index number of the anime name that user did input\n",
    "        array = ind[found_id][1:] # create and array with anime indexes to recoomend according to the anime \n",
    "        indi = np.where(array==found_id) # return the position of the anime index that user did input (if it is in the list)\n",
    "        array = np.delete(array, indi) # erase the anime index that matches the anime name that user did input\n",
    "        #array = array[0:n] # print the number of anime recommendations that userd chosed\n",
    "        for id in array:\n",
    "            try :\n",
    "                names.append(anime[anime.index == id]['name'].values[0])\n",
    "            except IndexError :\n",
    "                errors.append(id)\n",
    "        return names"
   ]
  },
  {
   "cell_type": "code",
   "execution_count": 1,
   "metadata": {},
   "outputs": [
    {
     "name": "stderr",
     "output_type": "stream",
     "text": [
      "c:\\Users\\Chrisitan\\miniconda3\\envs\\stlit\\lib\\site-packages\\fuzzywuzzy\\fuzz.py:11: UserWarning: Using slow pure-python SequenceMatcher. Install python-Levenshtein to remove this warning\n",
      "  warnings.warn('Using slow pure-python SequenceMatcher. Install python-Levenshtein to remove this warning')\n"
     ]
    }
   ],
   "source": [
    "# Standard library imports\n",
    "import os # allows access to OS-dependent functionalities\n",
    "import sys # to manipulate different parts of the Python runtime environment\n",
    "\n",
    "# Get the current working directory\n",
    "cwd = os.getcwd()\n",
    "\n",
    "# Add the path of the utils directory to sys.path\n",
    "utils_path = os.path.abspath(os.path.join(cwd, '..', 'utils'))\n",
    "sys.path.append(utils_path)\n",
    "\n",
    "# Utils libraries\n",
    "from cleaning import *\n",
    "from recommend import *"
   ]
  },
  {
   "cell_type": "code",
   "execution_count": 2,
   "metadata": {},
   "outputs": [
    {
     "name": "stdout",
     "output_type": "stream",
     "text": [
      "I guess you misspelled the name\n",
      " Are you looking similitudes for the anime named \u001b[1mnaruto\u001b[0m? \n",
      "Here are the recommendations:\n"
     ]
    },
    {
     "ename": "AttributeError",
     "evalue": "'numpy.ndarray' object has no attribute 'kneighbors'",
     "output_type": "error",
     "traceback": [
      "\u001b[1;31m---------------------------------------------------------------------------\u001b[0m",
      "\u001b[1;31mAttributeError\u001b[0m                            Traceback (most recent call last)",
      "Cell \u001b[1;32mIn[2], line 1\u001b[0m\n\u001b[1;32m----> 1\u001b[0m create_dict(print_similar_animes(\u001b[39m\"\u001b[39;49m\u001b[39mNaruti\u001b[39;49m\u001b[39m\"\u001b[39;49m,\u001b[39m5\u001b[39;49m),[\u001b[39m\"\u001b[39m\u001b[39mShounen\u001b[39m\u001b[39m\"\u001b[39m],[\u001b[39m\"\u001b[39m\u001b[39mTV\u001b[39m\u001b[39m\"\u001b[39m],\u001b[39m\"\u001b[39m\u001b[39mor\u001b[39m\u001b[39m\"\u001b[39m)\n",
      "File \u001b[1;32md:\\Github\\Anime_recommendation_system\\src\\utils\\recommend.py:283\u001b[0m, in \u001b[0;36mprint_similar_animes\u001b[1;34m(query, n_neighbors)\u001b[0m\n\u001b[0;32m    280\u001b[0m \u001b[39mprint\u001b[39m(\u001b[39m'\u001b[39m\u001b[39mI guess you misspelled the name\u001b[39m\u001b[39m\\n\u001b[39;00m\u001b[39m Are you looking similitudes for the anime named \u001b[39m\u001b[39m'\u001b[39m \u001b[39m+\u001b[39m \u001b[39m'\u001b[39m\u001b[39m\\033\u001b[39;00m\u001b[39m[1m\u001b[39m\u001b[39m'\u001b[39m \u001b[39m+\u001b[39m\n\u001b[0;32m    281\u001b[0m       \u001b[39mstr\u001b[39m(closest_title) \u001b[39m+\u001b[39m \u001b[39m'\u001b[39m\u001b[39m\\033\u001b[39;00m\u001b[39m[0m\u001b[39m\u001b[39m'\u001b[39m \u001b[39m+\u001b[39m \u001b[39m'\u001b[39m\u001b[39m?\u001b[39m\u001b[39m'\u001b[39m, \u001b[39m'\u001b[39m\u001b[39m\\n\u001b[39;00m\u001b[39m'\u001b[39m \u001b[39m+\u001b[39m \u001b[39m'\u001b[39m\u001b[39mHere are the recommendations:\u001b[39m\u001b[39m'\u001b[39m)\n\u001b[0;32m    282\u001b[0m found_id \u001b[39m=\u001b[39m from_title_to_index(closest_title, anime)  \u001b[39m# return the matched index number of the anime name that user did input\u001b[39;00m\n\u001b[1;32m--> 283\u001b[0m distances, indices \u001b[39m=\u001b[39m model\u001b[39m.\u001b[39;49mkneighbors(anime\u001b[39m.\u001b[39miloc[found_id]\u001b[39m.\u001b[39mvalues\u001b[39m.\u001b[39mreshape(\u001b[39m1\u001b[39m, \u001b[39m-\u001b[39m\u001b[39m1\u001b[39m), n_neighbors\u001b[39m=\u001b[39mn_neighbors \u001b[39m+\u001b[39m \u001b[39m1\u001b[39m)\n\u001b[0;32m    284\u001b[0m indices \u001b[39m=\u001b[39m indices\u001b[39m.\u001b[39mflatten()[\u001b[39m1\u001b[39m:]  \u001b[39m# exclude the input index itself\u001b[39;00m\n\u001b[0;32m    285\u001b[0m \u001b[39mfor\u001b[39;00m \u001b[39mid\u001b[39m \u001b[39min\u001b[39;00m indices:\n",
      "\u001b[1;31mAttributeError\u001b[0m: 'numpy.ndarray' object has no attribute 'kneighbors'"
     ]
    }
   ],
   "source": [
    "create_dict(print_similar_animes(\"Naruti\",5),[\"Shounen\"],[\"TV\"],\"or\")"
   ]
  }
 ],
 "metadata": {
  "kernelspec": {
   "display_name": "stlit",
   "language": "python",
   "name": "python3"
  },
  "language_info": {
   "codemirror_mode": {
    "name": "ipython",
    "version": 3
   },
   "file_extension": ".py",
   "mimetype": "text/x-python",
   "name": "python",
   "nbconvert_exporter": "python",
   "pygments_lexer": "ipython3",
   "version": "3.10.6"
  },
  "orig_nbformat": 4,
  "vscode": {
   "interpreter": {
    "hash": "cecd28889de614796b096279bba34faf450ea72cc4d265581beb94f7bfeace2c"
   }
  }
 },
 "nbformat": 4,
 "nbformat_minor": 2
}
