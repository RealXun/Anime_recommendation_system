{
 "cells": [
  {
   "attachments": {},
   "cell_type": "markdown",
   "metadata": {},
   "source": [
    "# Supervised user based collaborative filtering"
   ]
  },
  {
   "attachments": {},
   "cell_type": "markdown",
   "metadata": {},
   "source": [
    "## Import Libraries"
   ]
  },
  {
   "cell_type": "code",
   "execution_count": 2,
   "metadata": {},
   "outputs": [
    {
     "name": "stderr",
     "output_type": "stream",
     "text": [
      "c:\\Users\\Chrisitan\\AppData\\Local\\Programs\\Python\\Python38\\lib\\site-packages\\fuzzywuzzy\\fuzz.py:11: UserWarning: Using slow pure-python SequenceMatcher. Install python-Levenshtein to remove this warning\n",
      "  warnings.warn('Using slow pure-python SequenceMatcher. Install python-Levenshtein to remove this warning')\n"
     ]
    }
   ],
   "source": [
    "# Standard library imports\n",
    "import os # allows access to OS-dependent functionalities\n",
    "import re #  regular expression matching operations similar to those found in Perl\n",
    "import sys # to manipulate different parts of the Python runtime environment\n",
    "import warnings # is used to display the message Warning\n",
    "import pickle # serializing and deserializing a Python object structure.\n",
    "\n",
    "# Third party libraries\n",
    "from fastparquet import write # parquet format, aiming integrate into python-based big data work-flows\n",
    "from fuzzywuzzy import fuzz # used for string matching\n",
    "\n",
    "import numpy as np # functions for working in domain of linear algebra, fourier transform, matrices and arrays\n",
    "import pandas as pd # data analysis and manipulation tool\n",
    "import joblib # set of tools to provide lightweight pipelining in Python\n",
    "\n",
    "# visualization\n",
    "import matplotlib.pyplot as plt # collection of functions that make matplotlib work like MATLAB.\n",
    "\n",
    "# Surprise libraries\n",
    "from surprise import Dataset, Reader, accuracy\n",
    "from surprise.model_selection import GridSearchCV, train_test_split, cross_validate\n",
    "from surprise import SVD, SVDpp, SlopeOne, NMF, NormalPredictor, KNNBaseline, KNNBasic, KNNWithMeans, KNNWithZScore, BaselineOnly, CoClustering\n",
    "\n",
    "# pip install git+https://github.com/NicolasHug/surprise.git\n",
    "\n",
    "pd.set_option('display.max_columns', None)\n",
    "pd.set_option('display.max_rows', None)\n",
    "pd.set_option('display.max_colwidth', None)\n",
    "\n",
    "# Get the current working directory\n",
    "cwd = os.getcwd()\n",
    "\n",
    "# Add the path of the utils directory to sys.path\n",
    "utils_path = os.path.abspath(os.path.join(cwd, '..', 'utils'))\n",
    "sys.path.append(utils_path)\n",
    "\n",
    "# Utils libraries\n",
    "from cleaning import *\n",
    "from recommend import *\n",
    "from testing import *\n",
    "from training import *\n",
    "\n",
    "#Preparing folder variables\n",
    "\n",
    "main_folder = os.path.abspath(os.path.join(os.pardir))\n",
    "data_folder = (main_folder + \"/\" +\"data\")\n",
    "saved_models_folder = (data_folder + \"/\" + \"saved_models\")\n",
    "raw_data = (data_folder + \"/\" + \"_raw\")\n",
    "processed_data = (data_folder + \"/\" + \"processed\")"
   ]
  },
  {
   "attachments": {},
   "cell_type": "markdown",
   "metadata": {},
   "source": [
    "## Loading and cleaning data"
   ]
  },
  {
   "cell_type": "code",
   "execution_count": 17,
   "metadata": {},
   "outputs": [],
   "source": [
    "# loading the data\n",
    "anime = anime()\n",
    "rating = rating()"
   ]
  },
  {
   "cell_type": "code",
   "execution_count": 18,
   "metadata": {},
   "outputs": [
    {
     "data": {
      "text/html": [
       "<div>\n",
       "<style scoped>\n",
       "    .dataframe tbody tr th:only-of-type {\n",
       "        vertical-align: middle;\n",
       "    }\n",
       "\n",
       "    .dataframe tbody tr th {\n",
       "        vertical-align: top;\n",
       "    }\n",
       "\n",
       "    .dataframe thead th {\n",
       "        text-align: right;\n",
       "    }\n",
       "</style>\n",
       "<table border=\"1\" class=\"dataframe\">\n",
       "  <thead>\n",
       "    <tr style=\"text-align: right;\">\n",
       "      <th></th>\n",
       "      <th>user_id</th>\n",
       "      <th>anime_id</th>\n",
       "      <th>rating</th>\n",
       "    </tr>\n",
       "  </thead>\n",
       "  <tbody>\n",
       "    <tr>\n",
       "      <th>0</th>\n",
       "      <td>1</td>\n",
       "      <td>20</td>\n",
       "      <td>-1</td>\n",
       "    </tr>\n",
       "    <tr>\n",
       "      <th>1</th>\n",
       "      <td>1</td>\n",
       "      <td>24</td>\n",
       "      <td>-1</td>\n",
       "    </tr>\n",
       "    <tr>\n",
       "      <th>2</th>\n",
       "      <td>1</td>\n",
       "      <td>79</td>\n",
       "      <td>-1</td>\n",
       "    </tr>\n",
       "    <tr>\n",
       "      <th>3</th>\n",
       "      <td>1</td>\n",
       "      <td>226</td>\n",
       "      <td>-1</td>\n",
       "    </tr>\n",
       "    <tr>\n",
       "      <th>4</th>\n",
       "      <td>1</td>\n",
       "      <td>241</td>\n",
       "      <td>-1</td>\n",
       "    </tr>\n",
       "  </tbody>\n",
       "</table>\n",
       "</div>"
      ],
      "text/plain": [
       "   user_id  anime_id  rating\n",
       "0        1        20      -1\n",
       "1        1        24      -1\n",
       "2        1        79      -1\n",
       "3        1       226      -1\n",
       "4        1       241      -1"
      ]
     },
     "execution_count": 18,
     "metadata": {},
     "output_type": "execute_result"
    }
   ],
   "source": [
    "rating.head()"
   ]
  },
  {
   "cell_type": "code",
   "execution_count": 19,
   "metadata": {},
   "outputs": [
    {
     "data": {
      "text/plain": [
       "(7813737, 3)"
      ]
     },
     "execution_count": 19,
     "metadata": {},
     "output_type": "execute_result"
    }
   ],
   "source": [
    "rating.shape"
   ]
  },
  {
   "cell_type": "code",
   "execution_count": 20,
   "metadata": {},
   "outputs": [
    {
     "data": {
      "text/html": [
       "<div>\n",
       "<style scoped>\n",
       "    .dataframe tbody tr th:only-of-type {\n",
       "        vertical-align: middle;\n",
       "    }\n",
       "\n",
       "    .dataframe tbody tr th {\n",
       "        vertical-align: top;\n",
       "    }\n",
       "\n",
       "    .dataframe thead th {\n",
       "        text-align: right;\n",
       "    }\n",
       "</style>\n",
       "<table border=\"1\" class=\"dataframe\">\n",
       "  <thead>\n",
       "    <tr style=\"text-align: right;\">\n",
       "      <th></th>\n",
       "      <th>user_id</th>\n",
       "      <th>anime_id</th>\n",
       "      <th>rating</th>\n",
       "    </tr>\n",
       "  </thead>\n",
       "  <tbody>\n",
       "    <tr>\n",
       "      <th>count</th>\n",
       "      <td>7.813737e+06</td>\n",
       "      <td>7.813737e+06</td>\n",
       "      <td>7.813737e+06</td>\n",
       "    </tr>\n",
       "    <tr>\n",
       "      <th>mean</th>\n",
       "      <td>3.672796e+04</td>\n",
       "      <td>8.909072e+03</td>\n",
       "      <td>6.144030e+00</td>\n",
       "    </tr>\n",
       "    <tr>\n",
       "      <th>std</th>\n",
       "      <td>2.099795e+04</td>\n",
       "      <td>8.883950e+03</td>\n",
       "      <td>3.727800e+00</td>\n",
       "    </tr>\n",
       "    <tr>\n",
       "      <th>min</th>\n",
       "      <td>1.000000e+00</td>\n",
       "      <td>1.000000e+00</td>\n",
       "      <td>-1.000000e+00</td>\n",
       "    </tr>\n",
       "    <tr>\n",
       "      <th>25%</th>\n",
       "      <td>1.897400e+04</td>\n",
       "      <td>1.240000e+03</td>\n",
       "      <td>6.000000e+00</td>\n",
       "    </tr>\n",
       "    <tr>\n",
       "      <th>50%</th>\n",
       "      <td>3.679100e+04</td>\n",
       "      <td>6.213000e+03</td>\n",
       "      <td>7.000000e+00</td>\n",
       "    </tr>\n",
       "    <tr>\n",
       "      <th>75%</th>\n",
       "      <td>5.475700e+04</td>\n",
       "      <td>1.409300e+04</td>\n",
       "      <td>9.000000e+00</td>\n",
       "    </tr>\n",
       "    <tr>\n",
       "      <th>max</th>\n",
       "      <td>7.351600e+04</td>\n",
       "      <td>3.451900e+04</td>\n",
       "      <td>1.000000e+01</td>\n",
       "    </tr>\n",
       "  </tbody>\n",
       "</table>\n",
       "</div>"
      ],
      "text/plain": [
       "            user_id      anime_id        rating\n",
       "count  7.813737e+06  7.813737e+06  7.813737e+06\n",
       "mean   3.672796e+04  8.909072e+03  6.144030e+00\n",
       "std    2.099795e+04  8.883950e+03  3.727800e+00\n",
       "min    1.000000e+00  1.000000e+00 -1.000000e+00\n",
       "25%    1.897400e+04  1.240000e+03  6.000000e+00\n",
       "50%    3.679100e+04  6.213000e+03  7.000000e+00\n",
       "75%    5.475700e+04  1.409300e+04  9.000000e+00\n",
       "max    7.351600e+04  3.451900e+04  1.000000e+01"
      ]
     },
     "execution_count": 20,
     "metadata": {},
     "output_type": "execute_result"
    }
   ],
   "source": [
    "rating.describe()"
   ]
  },
  {
   "cell_type": "code",
   "execution_count": 21,
   "metadata": {},
   "outputs": [],
   "source": [
    "# Cleaning the data\n",
    "ratingdf = supervised_rating_cleaning(rating)"
   ]
  },
  {
   "attachments": {},
   "cell_type": "markdown",
   "metadata": {},
   "source": [
    "## Preparing the data to try different models"
   ]
  },
  {
   "cell_type": "code",
   "execution_count": 22,
   "metadata": {},
   "outputs": [],
   "source": [
    "data_sample = supervised_prepare_training(ratingdf)"
   ]
  },
  {
   "attachments": {},
   "cell_type": "markdown",
   "metadata": {},
   "source": [
    "## Metrics all together"
   ]
  },
  {
   "cell_type": "code",
   "execution_count": null,
   "metadata": {},
   "outputs": [],
   "source": [
    "def baseline_all(data):\n",
    "    \n",
    "    benchmark = []\n",
    "    # Iterate over all algorithms\n",
    "    svd = SVD()\n",
    "    svdp = SVDpp()\n",
    "    slpo = SlopeOne()\n",
    "    nm  = NMF()\n",
    "    nmlp = NormalPredictor()\n",
    "    #knnbase = KNNBaseline()\n",
    "    #knnb = KNNBasic()\n",
    "    #knnmean = KNNWithMeans()\n",
    "    #knnzs = KNNWithZScore()\n",
    "    baseonly = BaselineOnly()\n",
    "    coclus = CoClustering()\n",
    "\n",
    "    for algorithm in [svd,svdp,slpo,nm,nmlp,baseonly,coclus]:\n",
    "        benchmark_inndividual = []\n",
    "        print(algorithm,\"started\")\n",
    "        # Perform cross validation\n",
    "        results = cross_validate(algorithm, data, measures=['RMSE','MSE','MAE','FCP'], cv=3, verbose=False)\n",
    "        print(algorithm,\"finished\")\n",
    "        # Get results & append algorithm name\n",
    "        tmp = pd.DataFrame.from_dict(results).mean(axis=0)\n",
    "        name = str(algorithm).split(' ')[0].split('.')[-1]\n",
    "        tmp = tmp.append(pd.Series([str(algorithm).split(' ')[0].split('.')[-1]], index=['Algorithm']))\n",
    "        benchmark_inndividual.append(tmp)\n",
    "        benchmark.append(tmp)\n",
    "        \n",
    "        dfscores_individual = pd.DataFrame(benchmark_inndividual).set_index('Algorithm').sort_values('test_rmse')\n",
    "        write(saved_models_folder + \"/\" + name + \"_results.parq\", dfscores_individual)\n",
    "    dfscores = pd.DataFrame(benchmark).set_index('Algorithm').sort_values('test_rmse')\n",
    "    write(saved_models_folder + \"/\" + \"Others_Models_results.parq\", dfscores)\n",
    "\n",
    "    return dfscores"
   ]
  },
  {
   "cell_type": "code",
   "execution_count": null,
   "metadata": {},
   "outputs": [],
   "source": [
    "baseline_all(data_sample)"
   ]
  },
  {
   "cell_type": "markdown",
   "metadata": {},
   "source": [
    "## Merge df resutls"
   ]
  },
  {
   "cell_type": "code",
   "execution_count": null,
   "metadata": {},
   "outputs": [
    {
     "data": {
      "text/html": [
       "<div>\n",
       "<style scoped>\n",
       "    .dataframe tbody tr th:only-of-type {\n",
       "        vertical-align: middle;\n",
       "    }\n",
       "\n",
       "    .dataframe tbody tr th {\n",
       "        vertical-align: top;\n",
       "    }\n",
       "\n",
       "    .dataframe thead th {\n",
       "        text-align: right;\n",
       "    }\n",
       "</style>\n",
       "<table border=\"1\" class=\"dataframe\">\n",
       "  <thead>\n",
       "    <tr style=\"text-align: right;\">\n",
       "      <th></th>\n",
       "      <th>test_rmse</th>\n",
       "      <th>test_mse</th>\n",
       "      <th>test_mae</th>\n",
       "      <th>test_fcp</th>\n",
       "      <th>fit_time</th>\n",
       "      <th>test_time</th>\n",
       "    </tr>\n",
       "    <tr>\n",
       "      <th>Algorithm</th>\n",
       "      <th></th>\n",
       "      <th></th>\n",
       "      <th></th>\n",
       "      <th></th>\n",
       "      <th></th>\n",
       "      <th></th>\n",
       "    </tr>\n",
       "  </thead>\n",
       "  <tbody>\n",
       "    <tr>\n",
       "      <th>SVD</th>\n",
       "      <td>1.410689</td>\n",
       "      <td>1.990173</td>\n",
       "      <td>1.091799</td>\n",
       "      <td>0.549830</td>\n",
       "      <td>1.127742</td>\n",
       "      <td>0.291177</td>\n",
       "    </tr>\n",
       "    <tr>\n",
       "      <th>SVDpp</th>\n",
       "      <td>1.413802</td>\n",
       "      <td>1.998886</td>\n",
       "      <td>1.098086</td>\n",
       "      <td>0.548991</td>\n",
       "      <td>1.091193</td>\n",
       "      <td>0.738526</td>\n",
       "    </tr>\n",
       "    <tr>\n",
       "      <th>BaselineOnly</th>\n",
       "      <td>1.423057</td>\n",
       "      <td>2.025098</td>\n",
       "      <td>1.101095</td>\n",
       "      <td>0.555097</td>\n",
       "      <td>0.325870</td>\n",
       "      <td>0.144077</td>\n",
       "    </tr>\n",
       "    <tr>\n",
       "      <th>CoClustering</th>\n",
       "      <td>1.582529</td>\n",
       "      <td>2.504417</td>\n",
       "      <td>1.207506</td>\n",
       "      <td>0.566946</td>\n",
       "      <td>4.946316</td>\n",
       "      <td>0.224878</td>\n",
       "    </tr>\n",
       "    <tr>\n",
       "      <th>SlopeOne</th>\n",
       "      <td>1.701391</td>\n",
       "      <td>2.894736</td>\n",
       "      <td>1.294262</td>\n",
       "      <td>0.458307</td>\n",
       "      <td>0.578457</td>\n",
       "      <td>0.310630</td>\n",
       "    </tr>\n",
       "    <tr>\n",
       "      <th>NormalPredictor</th>\n",
       "      <td>2.139694</td>\n",
       "      <td>4.578297</td>\n",
       "      <td>1.696845</td>\n",
       "      <td>0.497400</td>\n",
       "      <td>0.116917</td>\n",
       "      <td>0.156717</td>\n",
       "    </tr>\n",
       "    <tr>\n",
       "      <th>NMF</th>\n",
       "      <td>2.499246</td>\n",
       "      <td>6.246258</td>\n",
       "      <td>2.119292</td>\n",
       "      <td>0.553087</td>\n",
       "      <td>3.484730</td>\n",
       "      <td>0.298785</td>\n",
       "    </tr>\n",
       "  </tbody>\n",
       "</table>\n",
       "</div>"
      ],
      "text/plain": [
       "                 test_rmse  test_mse  test_mae  test_fcp  fit_time  test_time\n",
       "Algorithm                                                                    \n",
       "SVD               1.410689  1.990173  1.091799  0.549830  1.127742   0.291177\n",
       "SVDpp             1.413802  1.998886  1.098086  0.548991  1.091193   0.738526\n",
       "BaselineOnly      1.423057  2.025098  1.101095  0.555097  0.325870   0.144077\n",
       "CoClustering      1.582529  2.504417  1.207506  0.566946  4.946316   0.224878\n",
       "SlopeOne          1.701391  2.894736  1.294262  0.458307  0.578457   0.310630\n",
       "NormalPredictor   2.139694  4.578297  1.696845  0.497400  0.116917   0.156717\n",
       "NMF               2.499246  6.246258  2.119292  0.553087  3.484730   0.298785"
      ]
     },
     "metadata": {},
     "output_type": "display_data"
    }
   ],
   "source": [
    "df_others_results = pd.read_parquet(saved_models_folder + \"/\" + \"Others_Models_results.parq\", engine='fastparquet')\n",
    "df_others_results.head(10)"
   ]
  },
  {
   "cell_type": "code",
   "execution_count": null,
   "metadata": {},
   "outputs": [
    {
     "data": {
      "text/html": [
       "<div>\n",
       "<style scoped>\n",
       "    .dataframe tbody tr th:only-of-type {\n",
       "        vertical-align: middle;\n",
       "    }\n",
       "\n",
       "    .dataframe tbody tr th {\n",
       "        vertical-align: top;\n",
       "    }\n",
       "\n",
       "    .dataframe thead th {\n",
       "        text-align: right;\n",
       "    }\n",
       "</style>\n",
       "<table border=\"1\" class=\"dataframe\">\n",
       "  <thead>\n",
       "    <tr style=\"text-align: right;\">\n",
       "      <th></th>\n",
       "      <th>test_rmse</th>\n",
       "      <th>test_mse</th>\n",
       "      <th>test_mae</th>\n",
       "      <th>test_fcp</th>\n",
       "      <th>fit_time</th>\n",
       "      <th>test_time</th>\n",
       "    </tr>\n",
       "    <tr>\n",
       "      <th>Algorithm</th>\n",
       "      <th></th>\n",
       "      <th></th>\n",
       "      <th></th>\n",
       "      <th></th>\n",
       "      <th></th>\n",
       "      <th></th>\n",
       "    </tr>\n",
       "  </thead>\n",
       "  <tbody>\n",
       "    <tr>\n",
       "      <th>KNNBasic</th>\n",
       "      <td>1.643655</td>\n",
       "      <td>2.701632</td>\n",
       "      <td>1.275451</td>\n",
       "      <td>0.462612</td>\n",
       "      <td>35.4829</td>\n",
       "      <td>1.732444</td>\n",
       "    </tr>\n",
       "  </tbody>\n",
       "</table>\n",
       "</div>"
      ],
      "text/plain": [
       "           test_rmse  test_mse  test_mae  test_fcp  fit_time  test_time\n",
       "Algorithm                                                              \n",
       "KNNBasic    1.643655  2.701632  1.275451  0.462612   35.4829   1.732444"
      ]
     },
     "metadata": {},
     "output_type": "display_data"
    }
   ],
   "source": [
    "df_KNNBasic_results = pd.read_parquet(saved_models_folder + \"/\" + \"KNNBasic_results.parq\", engine='fastparquet')\n",
    "df_KNNBasic_results.head(10)"
   ]
  },
  {
   "cell_type": "code",
   "execution_count": null,
   "metadata": {},
   "outputs": [
    {
     "data": {
      "text/html": [
       "<div>\n",
       "<style scoped>\n",
       "    .dataframe tbody tr th:only-of-type {\n",
       "        vertical-align: middle;\n",
       "    }\n",
       "\n",
       "    .dataframe tbody tr th {\n",
       "        vertical-align: top;\n",
       "    }\n",
       "\n",
       "    .dataframe thead th {\n",
       "        text-align: right;\n",
       "    }\n",
       "</style>\n",
       "<table border=\"1\" class=\"dataframe\">\n",
       "  <thead>\n",
       "    <tr style=\"text-align: right;\">\n",
       "      <th></th>\n",
       "      <th>test_rmse</th>\n",
       "      <th>test_mse</th>\n",
       "      <th>test_mae</th>\n",
       "      <th>test_fcp</th>\n",
       "      <th>fit_time</th>\n",
       "      <th>test_time</th>\n",
       "    </tr>\n",
       "    <tr>\n",
       "      <th>Algorithm</th>\n",
       "      <th></th>\n",
       "      <th></th>\n",
       "      <th></th>\n",
       "      <th></th>\n",
       "      <th></th>\n",
       "      <th></th>\n",
       "    </tr>\n",
       "  </thead>\n",
       "  <tbody>\n",
       "    <tr>\n",
       "      <th>KNNBaseline</th>\n",
       "      <td>1.498532</td>\n",
       "      <td>2.245621</td>\n",
       "      <td>1.156121</td>\n",
       "      <td>0.53585</td>\n",
       "      <td>32.409142</td>\n",
       "      <td>1.71859</td>\n",
       "    </tr>\n",
       "  </tbody>\n",
       "</table>\n",
       "</div>"
      ],
      "text/plain": [
       "             test_rmse  test_mse  test_mae  test_fcp   fit_time  test_time\n",
       "Algorithm                                                                 \n",
       "KNNBaseline   1.498532  2.245621  1.156121   0.53585  32.409142    1.71859"
      ]
     },
     "metadata": {},
     "output_type": "display_data"
    }
   ],
   "source": [
    "df_KNNBaseline_results = pd.read_parquet(saved_models_folder + \"/\" + \"KNNBaseline_results.parq\", engine='fastparquet')\n",
    "df_KNNBaseline_results.head(10)"
   ]
  },
  {
   "cell_type": "code",
   "execution_count": null,
   "metadata": {},
   "outputs": [
    {
     "data": {
      "text/html": [
       "<div>\n",
       "<style scoped>\n",
       "    .dataframe tbody tr th:only-of-type {\n",
       "        vertical-align: middle;\n",
       "    }\n",
       "\n",
       "    .dataframe tbody tr th {\n",
       "        vertical-align: top;\n",
       "    }\n",
       "\n",
       "    .dataframe thead th {\n",
       "        text-align: right;\n",
       "    }\n",
       "</style>\n",
       "<table border=\"1\" class=\"dataframe\">\n",
       "  <thead>\n",
       "    <tr style=\"text-align: right;\">\n",
       "      <th></th>\n",
       "      <th>test_rmse</th>\n",
       "      <th>test_mse</th>\n",
       "      <th>test_mae</th>\n",
       "      <th>test_fcp</th>\n",
       "      <th>fit_time</th>\n",
       "      <th>test_time</th>\n",
       "    </tr>\n",
       "    <tr>\n",
       "      <th>Algorithm</th>\n",
       "      <th></th>\n",
       "      <th></th>\n",
       "      <th></th>\n",
       "      <th></th>\n",
       "      <th></th>\n",
       "      <th></th>\n",
       "    </tr>\n",
       "  </thead>\n",
       "  <tbody>\n",
       "    <tr>\n",
       "      <th>KNNWithMeans</th>\n",
       "      <td>1.651630</td>\n",
       "      <td>2.727919</td>\n",
       "      <td>1.258240</td>\n",
       "      <td>0.466116</td>\n",
       "      <td>31.944902</td>\n",
       "      <td>1.796209</td>\n",
       "    </tr>\n",
       "    <tr>\n",
       "      <th>KNNWithZScore</th>\n",
       "      <td>1.666752</td>\n",
       "      <td>2.778087</td>\n",
       "      <td>1.267275</td>\n",
       "      <td>0.468789</td>\n",
       "      <td>36.883558</td>\n",
       "      <td>2.038430</td>\n",
       "    </tr>\n",
       "  </tbody>\n",
       "</table>\n",
       "</div>"
      ],
      "text/plain": [
       "               test_rmse  test_mse  test_mae  test_fcp   fit_time  test_time\n",
       "Algorithm                                                                   \n",
       "KNNWithMeans    1.651630  2.727919  1.258240  0.466116  31.944902   1.796209\n",
       "KNNWithZScore   1.666752  2.778087  1.267275  0.468789  36.883558   2.038430"
      ]
     },
     "metadata": {},
     "output_type": "display_data"
    }
   ],
   "source": [
    "df_knn_results = pd.read_parquet(saved_models_folder + \"/\" + \"KNN_Models_results.parq\", engine='fastparquet')\n",
    "df_knn_results.head(10)"
   ]
  },
  {
   "cell_type": "code",
   "execution_count": null,
   "metadata": {},
   "outputs": [],
   "source": [
    "vertical_concat = pd.concat([df_others_results, df_KNNBasic_results,df_KNNBaseline_results,df_knn_results], axis=0)"
   ]
  },
  {
   "cell_type": "code",
   "execution_count": null,
   "metadata": {},
   "outputs": [
    {
     "data": {
      "text/html": [
       "<div>\n",
       "<style scoped>\n",
       "    .dataframe tbody tr th:only-of-type {\n",
       "        vertical-align: middle;\n",
       "    }\n",
       "\n",
       "    .dataframe tbody tr th {\n",
       "        vertical-align: top;\n",
       "    }\n",
       "\n",
       "    .dataframe thead th {\n",
       "        text-align: right;\n",
       "    }\n",
       "</style>\n",
       "<table border=\"1\" class=\"dataframe\">\n",
       "  <thead>\n",
       "    <tr style=\"text-align: right;\">\n",
       "      <th></th>\n",
       "      <th>test_rmse</th>\n",
       "      <th>test_mse</th>\n",
       "      <th>test_mae</th>\n",
       "      <th>test_fcp</th>\n",
       "      <th>fit_time</th>\n",
       "      <th>test_time</th>\n",
       "    </tr>\n",
       "    <tr>\n",
       "      <th>Algorithm</th>\n",
       "      <th></th>\n",
       "      <th></th>\n",
       "      <th></th>\n",
       "      <th></th>\n",
       "      <th></th>\n",
       "      <th></th>\n",
       "    </tr>\n",
       "  </thead>\n",
       "  <tbody>\n",
       "    <tr>\n",
       "      <th>SVD</th>\n",
       "      <td>1.410689</td>\n",
       "      <td>1.990173</td>\n",
       "      <td>1.091799</td>\n",
       "      <td>0.549830</td>\n",
       "      <td>1.127742</td>\n",
       "      <td>0.291177</td>\n",
       "    </tr>\n",
       "    <tr>\n",
       "      <th>SVDpp</th>\n",
       "      <td>1.413802</td>\n",
       "      <td>1.998886</td>\n",
       "      <td>1.098086</td>\n",
       "      <td>0.548991</td>\n",
       "      <td>1.091193</td>\n",
       "      <td>0.738526</td>\n",
       "    </tr>\n",
       "    <tr>\n",
       "      <th>BaselineOnly</th>\n",
       "      <td>1.423057</td>\n",
       "      <td>2.025098</td>\n",
       "      <td>1.101095</td>\n",
       "      <td>0.555097</td>\n",
       "      <td>0.325870</td>\n",
       "      <td>0.144077</td>\n",
       "    </tr>\n",
       "    <tr>\n",
       "      <th>CoClustering</th>\n",
       "      <td>1.582529</td>\n",
       "      <td>2.504417</td>\n",
       "      <td>1.207506</td>\n",
       "      <td>0.566946</td>\n",
       "      <td>4.946316</td>\n",
       "      <td>0.224878</td>\n",
       "    </tr>\n",
       "    <tr>\n",
       "      <th>SlopeOne</th>\n",
       "      <td>1.701391</td>\n",
       "      <td>2.894736</td>\n",
       "      <td>1.294262</td>\n",
       "      <td>0.458307</td>\n",
       "      <td>0.578457</td>\n",
       "      <td>0.310630</td>\n",
       "    </tr>\n",
       "    <tr>\n",
       "      <th>NormalPredictor</th>\n",
       "      <td>2.139694</td>\n",
       "      <td>4.578297</td>\n",
       "      <td>1.696845</td>\n",
       "      <td>0.497400</td>\n",
       "      <td>0.116917</td>\n",
       "      <td>0.156717</td>\n",
       "    </tr>\n",
       "    <tr>\n",
       "      <th>NMF</th>\n",
       "      <td>2.499246</td>\n",
       "      <td>6.246258</td>\n",
       "      <td>2.119292</td>\n",
       "      <td>0.553087</td>\n",
       "      <td>3.484730</td>\n",
       "      <td>0.298785</td>\n",
       "    </tr>\n",
       "    <tr>\n",
       "      <th>KNNBasic</th>\n",
       "      <td>1.643655</td>\n",
       "      <td>2.701632</td>\n",
       "      <td>1.275451</td>\n",
       "      <td>0.462612</td>\n",
       "      <td>35.482900</td>\n",
       "      <td>1.732444</td>\n",
       "    </tr>\n",
       "    <tr>\n",
       "      <th>KNNBaseline</th>\n",
       "      <td>1.498532</td>\n",
       "      <td>2.245621</td>\n",
       "      <td>1.156121</td>\n",
       "      <td>0.535850</td>\n",
       "      <td>32.409142</td>\n",
       "      <td>1.718590</td>\n",
       "    </tr>\n",
       "    <tr>\n",
       "      <th>KNNWithMeans</th>\n",
       "      <td>1.651630</td>\n",
       "      <td>2.727919</td>\n",
       "      <td>1.258240</td>\n",
       "      <td>0.466116</td>\n",
       "      <td>31.944902</td>\n",
       "      <td>1.796209</td>\n",
       "    </tr>\n",
       "    <tr>\n",
       "      <th>KNNWithZScore</th>\n",
       "      <td>1.666752</td>\n",
       "      <td>2.778087</td>\n",
       "      <td>1.267275</td>\n",
       "      <td>0.468789</td>\n",
       "      <td>36.883558</td>\n",
       "      <td>2.038430</td>\n",
       "    </tr>\n",
       "  </tbody>\n",
       "</table>\n",
       "</div>"
      ],
      "text/plain": [
       "                 test_rmse  test_mse  test_mae  test_fcp   fit_time  test_time\n",
       "Algorithm                                                                     \n",
       "SVD               1.410689  1.990173  1.091799  0.549830   1.127742   0.291177\n",
       "SVDpp             1.413802  1.998886  1.098086  0.548991   1.091193   0.738526\n",
       "BaselineOnly      1.423057  2.025098  1.101095  0.555097   0.325870   0.144077\n",
       "CoClustering      1.582529  2.504417  1.207506  0.566946   4.946316   0.224878\n",
       "SlopeOne          1.701391  2.894736  1.294262  0.458307   0.578457   0.310630\n",
       "NormalPredictor   2.139694  4.578297  1.696845  0.497400   0.116917   0.156717\n",
       "NMF               2.499246  6.246258  2.119292  0.553087   3.484730   0.298785\n",
       "KNNBasic          1.643655  2.701632  1.275451  0.462612  35.482900   1.732444\n",
       "KNNBaseline       1.498532  2.245621  1.156121  0.535850  32.409142   1.718590\n",
       "KNNWithMeans      1.651630  2.727919  1.258240  0.466116  31.944902   1.796209\n",
       "KNNWithZScore     1.666752  2.778087  1.267275  0.468789  36.883558   2.038430"
      ]
     },
     "metadata": {},
     "output_type": "display_data"
    }
   ],
   "source": [
    "vertical_concat.head(20)"
   ]
  },
  {
   "cell_type": "code",
   "execution_count": null,
   "metadata": {},
   "outputs": [
    {
     "name": "stdout",
     "output_type": "stream",
     "text": [
      "the best result in test_rmse is test_rmse    1.410689\n",
      "Name: SVD, dtype: float64\n",
      "the best result in test_mse is test_rmse    1.410689\n",
      "Name: SVD, dtype: float64\n",
      "the best result in test_mae is test_rmse    1.410689\n",
      "Name: SVD, dtype: float64\n",
      "the best result in test_fcp is test_rmse    1.701391\n",
      "Name: SlopeOne, dtype: float64\n"
     ]
    }
   ],
   "source": [
    "listatests =  [\"test_rmse\",\"test_mse\",\"test_mae\",\"test_fcp\"]\n",
    "for i in listatests:\n",
    "    print (\"the best result in\",i,\"is\",vertical_concat.iloc[vertical_concat[i].argmin(), 0:1])"
   ]
  },
  {
   "attachments": {},
   "cell_type": "markdown",
   "metadata": {},
   "source": [
    "## Evaluation selected SVD model"
   ]
  },
  {
   "cell_type": "code",
   "execution_count": 7,
   "metadata": {},
   "outputs": [],
   "source": [
    "anime = anime = pd.read_csv(raw_data + \"/\" + \"anime.csv\")\n",
    "rating = rating = pd.read_csv(raw_data + \"/\" + \"rating.csv.zip\")\n",
    "\n",
    "anime_mapping = anime.copy()\n",
    "anime_mapping.drop(['episodes','members','rating'],axis=1, inplace=True)\n",
    "\n",
    "ratingdf = rating[rating.rating>0]\n",
    "ratingdf = ratingdf.reset_index()\n",
    "ratingdf.drop('index', axis=1,inplace=True)\n",
    "ratingdf.shape\n",
    "\n",
    "#print(rating_sample[\"rating\"].value_counts(normalize=True),f'\\n\\nlength of data {rating_sample.shape}')\n",
    "\n",
    "size = 100000\n",
    "ratingdf = ratingdf.groupby(\"rating\", group_keys=False).apply(lambda x: x.sample(int(np.rint(size*len(x)/len(ratingdf))))).sample(frac=1).reset_index(drop=True)\n",
    "\n",
    "reader = Reader(rating_scale=(1,10))\n",
    "data = Dataset.load_from_df(ratingdf[['user_id', 'anime_id', 'rating']], reader)\n"
   ]
  },
  {
   "cell_type": "code",
   "execution_count": 13,
   "metadata": {},
   "outputs": [
    {
     "name": "stdout",
     "output_type": "stream",
     "text": [
      "1.3850769451177865\n",
      "{'n_factors': 50, 'n_epochs': 30, 'lr_all': 0.01, 'reg_all': 0.1}\n"
     ]
    },
    {
     "data": {
      "text/plain": [
       "['d:\\\\Github\\\\Anime_recommendation_system\\\\src/data/saved_models/SVD_samople_fit.pkl']"
      ]
     },
     "execution_count": 13,
     "metadata": {},
     "output_type": "execute_result"
    }
   ],
   "source": [
    "from fastparquet import write \n",
    "from surprise import SVD,NormalPredictor\n",
    "from surprise.model_selection import GridSearchCV\n",
    "\n",
    "param_grid = {'n_factors':[50,100,150],'n_epochs':[20,30],  'lr_all':[0.005,0.01],'reg_all':[0.02,0.1]}\n",
    "gs = GridSearchCV(SVD, param_grid, measures=[\"rmse\", \"mae\"], cv=3)\n",
    "\n",
    "\n",
    "gs.fit(data)\n",
    "best_params  = gs.best_params['rmse']\n",
    "\n",
    "# best RMSE score\n",
    "print(gs.best_score[\"rmse\"])\n",
    "\n",
    "# combination of parameters that gave the best RMSE score\n",
    "print(gs.best_params[\"rmse\"])\n",
    "\n",
    "# We can now use the algorithm that yields the best rmse:\n",
    "algo = gs.best_estimator[\"rmse\"]\n",
    "algo.fit(data.build_full_trainset())\n",
    "\n",
    "import pandas as pd  # noqa\n",
    "\n",
    "results_df = pd.DataFrame.from_dict(gs.cv_results)\n",
    "\n",
    "write(saved_models_folder + \"/\" + \"results_SVD_sample_fit.parq\", results_df)\n",
    "\n",
    "#1.1341632727982356\n",
    "#{'n_factors': 150, 'n_epochs': 30, 'lr_all': 0.01, 'reg_all': 0.1}\n",
    "\n",
    "# # Serialización del modelo\n",
    "import pickle\n",
    "joblib.dump(algo,saved_models_folder + \"/\" + \"SVD_sample_fit.pkl\")\n",
    "\n"
   ]
  },
  {
   "attachments": {},
   "cell_type": "markdown",
   "metadata": {},
   "source": [
    "## Recommendation building phase SVD model using best_params"
   ]
  },
  {
   "cell_type": "code",
   "execution_count": 14,
   "metadata": {},
   "outputs": [
    {
     "ename": "AttributeError",
     "evalue": "'DatasetAutoFolds' object has no attribute 'n_users'",
     "output_type": "error",
     "traceback": [
      "\u001b[1;31m---------------------------------------------------------------------------\u001b[0m",
      "\u001b[1;31mAttributeError\u001b[0m                            Traceback (most recent call last)",
      "Cell \u001b[1;32mIn[14], line 6\u001b[0m\n\u001b[0;32m      4\u001b[0m \u001b[39m# Fit the new SVD model to the dataset\u001b[39;00m\n\u001b[0;32m      5\u001b[0m trainset \u001b[39m=\u001b[39m data\u001b[39m.\u001b[39mbuild_full_trainset()\n\u001b[1;32m----> 6\u001b[0m best_svd\u001b[39m.\u001b[39;49mfit(data)\n\u001b[0;32m      8\u001b[0m \u001b[39m# # Serialización del modelo\u001b[39;00m\n\u001b[0;32m      9\u001b[0m \u001b[39mimport\u001b[39;00m \u001b[39mpickle\u001b[39;00m\n",
      "File \u001b[1;32mc:\\Users\\Chrisitan\\AppData\\Local\\Programs\\Python\\Python38\\lib\\site-packages\\scikit_surprise-1.1.3-py3.8-win-amd64.egg\\surprise\\prediction_algorithms\\matrix_factorization.pyx:155\u001b[0m, in \u001b[0;36msurprise.prediction_algorithms.matrix_factorization.SVD.fit\u001b[1;34m()\u001b[0m\n",
      "File \u001b[1;32mc:\\Users\\Chrisitan\\AppData\\Local\\Programs\\Python\\Python38\\lib\\site-packages\\scikit_surprise-1.1.3-py3.8-win-amd64.egg\\surprise\\prediction_algorithms\\matrix_factorization.pyx:196\u001b[0m, in \u001b[0;36msurprise.prediction_algorithms.matrix_factorization.SVD.sgd\u001b[1;34m()\u001b[0m\n",
      "\u001b[1;31mAttributeError\u001b[0m: 'DatasetAutoFolds' object has no attribute 'n_users'"
     ]
    }
   ],
   "source": [
    "# Create a new SVD model using the best parameters\n",
    "best_svd = SVD(n_factors=best_params['n_factors'], n_epochs=best_params['n_epochs'], lr_all=best_params['lr_all'], reg_all=best_params['reg_all'])\n",
    "\n",
    "best_svd.fit(data)\n",
    "\n",
    "# Fit the new SVD model to the dataset\n",
    "trainset = data.build_full_trainset()\n",
    "best_svd.fit(data)\n",
    "\n",
    "# # Serialización del modelo\n",
    "import pickle\n",
    "joblib.dump(best_svd,saved_models_folder + \"/\" + \"SVD_final_fit.pkl\")\n"
   ]
  },
  {
   "attachments": {},
   "cell_type": "markdown",
   "metadata": {},
   "source": [
    "## Getting recommendations"
   ]
  },
  {
   "cell_type": "code",
   "execution_count": null,
   "metadata": {},
   "outputs": [],
   "source": [
    "# We can get the recommendation as a dictionary\n",
    "# We input the user ID for we want the recommendations\n",
    "# Then the number of suggestions we have(we might get less if there not so many o none if there is no matches)\n",
    "# Then the genre we want (or write \"All\")\n",
    "# Then the type we want (or write \"All\")\n",
    "\n",
    "create_dict_su(sort_it(25000),[\"Shounen\"],[\"TV\"],\"or\",10)"
   ]
  },
  {
   "cell_type": "code",
   "execution_count": 17,
   "metadata": {},
   "outputs": [],
   "source": [
    "import pandas as pd\n",
    "from surprise import SVD\n",
    "from surprise import Dataset\n",
    "from surprise import Reader\n",
    "from surprise.model_selection import GridSearchCV\n",
    "from surprise.model_selection import train_test_split\n",
    "from surprise import accuracy\n",
    "\n",
    "anime = anime = pd.read_csv(raw_data + \"/\" + \"anime.csv\")\n",
    "rating = rating = pd.read_csv(raw_data + \"/\" + \"rating.csv.zip\")\n",
    "\n",
    "anime_mapping = anime.copy()\n",
    "anime_mapping.drop(['episodes','members','rating'],axis=1, inplace=True)\n",
    "\n",
    "ratingdf = rating[rating.rating>0]\n",
    "ratingdf = ratingdf.reset_index()\n",
    "ratingdf.drop('index', axis=1,inplace=True)\n",
    "ratingdf.shape\n",
    "\n",
    "#print(rating_sample[\"rating\"].value_counts(normalize=True),f'\\n\\nlength of data {rating_sample.shape}')\n",
    "\n",
    "size = 100000\n",
    "ratingdf_sample = ratingdf.groupby(\"rating\", group_keys=False).apply(lambda x: x.sample(int(np.rint(size*len(x)/len(ratingdf))))).sample(frac=1).reset_index(drop=True)\n",
    "\n",
    "reader = Reader(rating_scale=(1,10))\n",
    "data = Dataset.load_from_df(ratingdf_sample[['user_id', 'anime_id', 'rating']], reader)\n",
    "\n",
    "# Define parameter grid for grid search\n",
    "param_grid = {'n_factors': [50, 100, 150], \n",
    "              'n_epochs': [20, 30, 40], \n",
    "              'lr_all': [0.002, 0.005, 0.01],\n",
    "              'reg_all': [0.02, 0.05, 0.1]}"
   ]
  },
  {
   "cell_type": "code",
   "execution_count": 18,
   "metadata": {},
   "outputs": [
    {
     "name": "stdout",
     "output_type": "stream",
     "text": [
      "Best RMSE score: 1.3821686121611811\n",
      "Best MAE score: 1.0672782540321568\n",
      "Best parameters for RMSE: {'n_factors': 50, 'n_epochs': 30, 'lr_all': 0.01, 'reg_all': 0.1}\n",
      "Best parameters for MAE: {'n_factors': 50, 'n_epochs': 30, 'lr_all': 0.01, 'reg_all': 0.1}\n"
     ]
    }
   ],
   "source": [
    "# Create GridSearchCV object with SVD algorithm\n",
    "gs = GridSearchCV(SVD, param_grid, measures=['rmse', 'mae'], cv=3)\n",
    "\n",
    "# Fit GridSearchCV object to data\n",
    "gs.fit(data)\n",
    "\n",
    "# Print best RMSE and MAE scores, as well as corresponding parameters\n",
    "print(\"Best RMSE score:\", gs.best_score['rmse'])\n",
    "print(\"Best MAE score:\", gs.best_score['mae'])\n",
    "print(\"Best parameters for RMSE:\", gs.best_params['rmse'])\n",
    "print(\"Best parameters for MAE:\", gs.best_params['mae'])"
   ]
  },
  {
   "cell_type": "code",
   "execution_count": 19,
   "metadata": {},
   "outputs": [
    {
     "data": {
      "text/plain": [
       "<surprise.prediction_algorithms.matrix_factorization.SVD at 0x2e77c174340>"
      ]
     },
     "execution_count": 19,
     "metadata": {},
     "output_type": "execute_result"
    }
   ],
   "source": [
    "# Split data into training and testing sets\n",
    "trainset, testset = train_test_split(data, test_size=0.2)\n",
    "\n",
    "# Train SVD algorithm on training set with best parameters\n",
    "best_params = SVD(n_factors=gs.best_params['rmse']['n_factors'], \n",
    "           n_epochs=gs.best_params['rmse']['n_epochs'], \n",
    "           lr_all=gs.best_params['rmse']['lr_all'], \n",
    "           reg_all=gs.best_params['rmse']['reg_all'])\n",
    "best_params.fit(trainset)"
   ]
  },
  {
   "cell_type": "code",
   "execution_count": 20,
   "metadata": {},
   "outputs": [
    {
     "data": {
      "text/plain": [
       "['d:\\\\Github\\\\Anime_recommendation_system\\\\src/data/saved_models/SVD_sample_fit.pkl']"
      ]
     },
     "execution_count": 20,
     "metadata": {},
     "output_type": "execute_result"
    }
   ],
   "source": [
    "# # Serialización del modelo\n",
    "import pickle\n",
    "joblib.dump(best_params,saved_models_folder + \"/\" + \"SVD_sample_fit.pkl\")"
   ]
  },
  {
   "cell_type": "code",
   "execution_count": 21,
   "metadata": {},
   "outputs": [
    {
     "name": "stdout",
     "output_type": "stream",
     "text": [
      "RMSE: 1.3433\n",
      "MAE:  1.0321\n",
      "RMSE: 1.3433194514421487\n",
      "MAE: 1.0320873653580798\n"
     ]
    }
   ],
   "source": [
    "# Make predictions on testing set\n",
    "predictions = algo.test(testset)\n",
    "\n",
    "# Calculate RMSE and MAE\n",
    "rmse = accuracy.rmse(predictions)\n",
    "mae = accuracy.mae(predictions)\n",
    "\n",
    "print(\"RMSE:\", rmse)\n",
    "print(\"MAE:\", mae)"
   ]
  },
  {
   "cell_type": "code",
   "execution_count": 3,
   "metadata": {},
   "outputs": [
    {
     "data": {
      "text/plain": [
       "[{'name': 'Gintama',\n",
       "  'english_title': 'Gintama',\n",
       "  'japanses_title': '銀魂',\n",
       "  'genre': 'Shounen',\n",
       "  'type': 'TV',\n",
       "  'source': 'Manga',\n",
       "  'duration': '24 min per ep',\n",
       "  'episodes': '201',\n",
       "  'rating': 'PG-13 - Teens 13 or older',\n",
       "  'score': 8.94,\n",
       "  'rank': 17.0,\n",
       "  'members': 336376,\n",
       "  'synopsis': 'Edo is a city that was home to the vigor and ambition of samurai across the country. However, following feudal Japan\\'s surrender to powerful aliens known as the \"Amanto,\" those aspirations now seem unachievable. With the once-influential shogunate rebuilt as a puppet government, a new law is passed that promptly prohibits all swords in public. \\r\\n\\r\\nEnter Gintoki Sakata, an eccentric silver-haired man who always carries around a wooden sword and maintains his stature as a samurai despite the ban. As the founder of Yorozuya, a small business for odd jobs, Gintoki often embarks on endeavors to help other people—though usually in rather strange and unforeseen ways. \\r\\n\\r\\nAssisted by Shinpachi Shimura, a boy with glasses supposedly learning the way of the samurai; Kagura, a tomboyish girl with superhuman strength and an endless appetite; and Sadaharu, their giant pet dog who loves biting on people\\'s heads, the Yorozuya encounter anything from alien royalty to scuffles with local gangs in the ever-changing world of Edo.\\r\\n\\r\\n[Written by MAL Rewrite]',\n",
       "  'cover': 'https://cdn.myanimelist.net/images/anime/10/73274l.jpg',\n",
       "  'Estimate_Score': 9.165261179154598},\n",
       " {'name': 'Fullmetal Alchemist: Brotherhood',\n",
       "  'english_title': 'Fullmetal Alchemist: Brotherhood',\n",
       "  'japanses_title': '鋼の錬金術師 FULLMETAL ALCHEMIST',\n",
       "  'genre': 'Shounen',\n",
       "  'type': 'TV',\n",
       "  'source': 'Manga',\n",
       "  'duration': '24 min per ep',\n",
       "  'episodes': '64',\n",
       "  'rating': 'R - 17+ (violence & profanity)',\n",
       "  'score': 9.11,\n",
       "  'rank': 1.0,\n",
       "  'members': 793665,\n",
       "  'synopsis': 'After a horrific alchemy experiment goes wrong in the Elric household, brothers Edward and Alphonse are left in a catastrophic new reality. Ignoring the alchemical principle banning human transmutation, the boys attempted to bring their recently deceased mother back to life. Instead, they suffered brutal personal loss: Alphonse\\'s body disintegrated while Edward lost a leg and then sacrificed an arm to keep Alphonse\\'s soul in the physical realm by binding it to a hulking suit of armor.\\r\\n\\r\\nThe brothers are rescued by their neighbor Pinako Rockbell and her granddaughter Winry. Known as a bio-mechanical engineering prodigy, Winry creates prosthetic limbs for Edward by utilizing \"automail,\" a tough, versatile metal used in robots and combat armor. After years of training, the Elric brothers set off on a quest to restore their bodies by locating the Philosopher\\'s Stone—a powerful gem that allows an alchemist to defy the traditional laws of Equivalent Exchange.\\r\\n\\r\\nAs Edward becomes an infamous alchemist and gains the nickname \"Fullmetal,\" the boys\\' journey embroils them in a growing conspiracy that threatens the fate of the world.\\r\\n\\r\\n[Written by MAL Rewrite]',\n",
       "  'cover': 'https://cdn.myanimelist.net/images/anime/1208/94745l.jpg',\n",
       "  'Estimate_Score': 9.162783436873635},\n",
       " {'name': 'Haikyuu!!: Karasuno Koukou VS Shiratorizawa Gakuen Koukou',\n",
       "  'english_title': 'Haikyuu!! Karasuno Koukou vs. Shiratorizawa Gakuen Koukou',\n",
       "  'japanses_title': 'ハイキュー!! 烏野高校 VS 白鳥沢学園高校',\n",
       "  'genre': 'Shounen',\n",
       "  'type': 'TV',\n",
       "  'source': 'Manga',\n",
       "  'duration': '24 min per ep',\n",
       "  'episodes': '10',\n",
       "  'rating': 'PG-13 - Teens 13 or older',\n",
       "  'score': 8.78,\n",
       "  'rank': 35.0,\n",
       "  'members': 93351,\n",
       "  'synopsis': 'After the victory against Aoba Jousai High, Karasuno High School, once called “a fallen powerhouse, a crow that can’t fly,” has finally reached the climax of the heated Spring tournament. Now, to advance to nationals, the Karasuno team has to defeat the powerhouse Shiratorizawa Academy. Karasuno’s greatest hurdle is their adversary’s ace, Wakatoshi Ushijima, the number one player in the Miyagi Prefecture, and one of the country’s top three aces.\\r\\n\\r\\nOnly the strongest team will make it to the national tournament. Since this match is the third-year players’ last chance to qualify for nationals, Karasuno has to use everything they learned during the training camp and prior matches to attain victory. Filled with restlessness and excitement, both teams are determined to come out on top in the third season of Haikyuu!!.\\r\\n\\r\\n[Written by MAL Rewrite]',\n",
       "  'cover': 'https://cdn.myanimelist.net/images/anime/7/81992l.jpg',\n",
       "  'Estimate_Score': 9.106472681326242},\n",
       " {'name': 'Gintama°',\n",
       "  'english_title': 'Gintama°',\n",
       "  'japanses_title': '銀魂°',\n",
       "  'genre': 'Shounen',\n",
       "  'type': 'TV',\n",
       "  'source': 'Manga',\n",
       "  'duration': '24 min per ep',\n",
       "  'episodes': '51',\n",
       "  'rating': 'PG-13 - Teens 13 or older',\n",
       "  'score': 9.07,\n",
       "  'rank': 4.0,\n",
       "  'members': 114262,\n",
       "  'synopsis': \"Gintoki, Shinpachi, and Kagura return as the fun-loving but broke members of the Yorozuya team! Living in an alternate-reality Edo, where swords are prohibited and alien overlords have conquered Japan, they try to thrive on doing whatever work they can get their hands on. However, Shinpachi and Kagura still haven't been paid... Does Gin-chan really spend all that cash playing pachinko?\\r\\n\\r\\nMeanwhile, when Gintoki drunkenly staggers home one night, an alien spaceship crashes nearby. A fatally injured crew member emerges from the ship and gives Gintoki a strange, clock-shaped device, warning him that it is incredibly powerful and must be safeguarded. Mistaking it for his alarm clock, Gintoki proceeds to smash the device the next morning and suddenly discovers that the world outside his apartment has come to a standstill. With Kagura and Shinpachi at his side, he sets off to get the device fixed; though, as usual, nothing is ever that simple for the Yorozuya team.\\r\\n\\r\\nFilled with tongue-in-cheek humor and moments of heartfelt emotion, Gintama's fourth season finds Gintoki and his friends facing both their most hilarious misadventures and most dangerous crises yet.\\r\\n\\r\\n[Written by MAL Rewrite]\",\n",
       "  'cover': 'https://cdn.myanimelist.net/images/anime/3/72078l.jpg',\n",
       "  'Estimate_Score': 9.072383502095947},\n",
       " {'name': 'Gintama&#039;: Enchousen',\n",
       "  'english_title': \"Gintama': Enchousen\",\n",
       "  'japanses_title': \"銀魂' 延長戦\",\n",
       "  'genre': 'Shounen',\n",
       "  'type': 'TV',\n",
       "  'source': 'Manga',\n",
       "  'duration': '24 min per ep',\n",
       "  'episodes': '13',\n",
       "  'rating': 'PG-13 - Teens 13 or older',\n",
       "  'score': 9.03,\n",
       "  'rank': 10.0,\n",
       "  'members': 81109,\n",
       "  'synopsis': \"While Gintoki Sakata was away, the Yorozuya found themselves a new leader: Kintoki, Gintoki's golden-haired doppelganger. In order to regain his former position, Gintoki will need the help of those around him, a troubling feat when no one can remember him! Between Kintoki and Gintoki, who will claim the throne as the main character?\\r\\n\\r\\nIn addition, Yorozuya make a trip back down to red-light district of Yoshiwara to aid an elderly courtesan in her search for her long-lost lover. Although the district is no longer in chains beneath the earth's surface, the trio soon learn of the tragic backstories of Yoshiwara's inhabitants that still haunt them. With flashback after flashback, this quest has Yorozuya witnessing everlasting love and protecting it as best they can with their hearts and souls.\\r\\n\\r\\n[Written by MAL Rewrite]\",\n",
       "  'cover': 'https://cdn.myanimelist.net/images/anime/1452/123686l.jpg',\n",
       "  'Estimate_Score': 9.047799706097274},\n",
       " {'name': 'Gintama&#039;',\n",
       "  'english_title': \"Gintama'\",\n",
       "  'japanses_title': \"銀魂'\",\n",
       "  'genre': 'Shounen',\n",
       "  'type': 'TV',\n",
       "  'source': 'Manga',\n",
       "  'duration': '24 min per ep',\n",
       "  'episodes': '51',\n",
       "  'rating': 'PG-13 - Teens 13 or older',\n",
       "  'score': 9.04,\n",
       "  'rank': 8.0,\n",
       "  'members': 151266,\n",
       "  'synopsis': \"After a one-year hiatus, Shinpachi Shimura returns to Edo, only to stumble upon a shocking surprise: Gintoki and Kagura, his fellow Yorozuya members, have become completely different characters! Fleeing from the Yorozuya headquarters in confusion, Shinpachi finds that all the denizens of Edo have undergone impossibly extreme changes, in both appearance and personality. Most unbelievably, his sister Otae has married the Shinsengumi chief and shameless stalker Isao Kondou and is pregnant with their first child.\\r\\n\\r\\nBewildered, Shinpachi agrees to join the Shinsengumi at Otae and Kondou's request and finds even more startling transformations afoot both in and out of the ranks of the the organization. However, discovering that Vice Chief Toushirou Hijikata has remained unchanged, Shinpachi and his unlikely Shinsengumi ally set out to return the city of Edo to how they remember it.\\r\\n\\r\\nWith even more dirty jokes, tongue-in-cheek parodies, and shameless references, Gintama' follows the Yorozuya team through more of their misadventures in the vibrant, alien-filled world of Edo.\\r\\n\\r\\n[Written by MAL Rewrite]\",\n",
       "  'cover': 'https://cdn.myanimelist.net/images/anime/4/50361l.jpg',\n",
       "  'Estimate_Score': 9.046526888522893},\n",
       " {'name': 'Aria The Origination',\n",
       "  'english_title': 'Aria the Origination',\n",
       "  'japanses_title': 'ARIA The ORIGINATION',\n",
       "  'genre': 'Shounen',\n",
       "  'type': 'TV',\n",
       "  'source': 'Manga',\n",
       "  'duration': '24 min per ep',\n",
       "  'episodes': '13',\n",
       "  'rating': 'G - All Ages',\n",
       "  'score': 8.49,\n",
       "  'rank': 130.0,\n",
       "  'members': 56162,\n",
       "  'synopsis': 'In the 24th century on the planet Aqua, three girls—Akari Mizunashi, Alice Carroll, and Aika S. Granzchesta—continue to work hard toward achieving their goal of becoming Prima Undines: professional tour guide gondoliers. Luckily, the girls have the guidance of the three best Prima Undines in Neo-Venezia—Alicia Florence, Athena Glory, and Akira E. Ferrari—who are known as the \"Water Fairies\" in honor of their skill. With their help, the young apprentices train hard and work to overcome any situations that they find themselves in.\\r\\n\\r\\nAria The Origination follows the hardships and daily lives of these three young girls, who are doing their best to improve as tour gondoliers in Neo-Venezia, a terraformed replica of Venice.\\r\\n\\r\\n[Written by MAL Rewrite]',\n",
       "  'cover': 'https://cdn.myanimelist.net/images/anime/1394/129606l.jpg',\n",
       "  'Estimate_Score': 9.043589804021938},\n",
       " {'name': 'Hunter x Hunter (2011)',\n",
       "  'english_title': 'Hunter x Hunter (2011)',\n",
       "  'japanses_title': 'HUNTER×HUNTER（ハンター×ハンター）',\n",
       "  'genre': 'Shounen',\n",
       "  'type': 'TV',\n",
       "  'source': 'Manga',\n",
       "  'duration': '23 min per ep',\n",
       "  'episodes': '148',\n",
       "  'rating': 'PG-13 - Teens 13 or older',\n",
       "  'score': 9.04,\n",
       "  'rank': 9.0,\n",
       "  'members': 425855,\n",
       "  'synopsis': \"Hunters devote themselves to accomplishing hazardous tasks, all from traversing the world's uncharted territories to locating rare items and monsters. Before becoming a Hunter, one must pass the Hunter Examination—a high-risk selection process in which most applicants end up handicapped or worse, deceased.\\r\\n\\r\\nAmbitious participants who challenge the notorious exam carry their own reason. What drives 12-year-old Gon Freecss is finding Ging, his father and a Hunter himself. Believing that he will meet his father by becoming a Hunter, Gon takes the first step to walk the same path.\\r\\n\\r\\nDuring the Hunter Examination, Gon befriends the medical student Leorio Paladiknight, the vindictive Kurapika, and ex-assassin Killua Zoldyck. While their motives vastly differ from each other, they band together for a common goal and begin to venture into a perilous world.\\r\\n\\r\\n[Written by MAL Rewrite]\",\n",
       "  'cover': 'https://cdn.myanimelist.net/images/anime/1337/99013l.jpg',\n",
       "  'Estimate_Score': 9.019899850713799},\n",
       " {'name': 'Hajime no Ippo',\n",
       "  'english_title': 'Hajime no Ippo',\n",
       "  'japanses_title': 'はじめの一歩 THE FIGHTING!',\n",
       "  'genre': 'Shounen',\n",
       "  'type': 'TV',\n",
       "  'source': 'Manga',\n",
       "  'duration': '23 min per ep',\n",
       "  'episodes': '75',\n",
       "  'rating': 'PG-13 - Teens 13 or older',\n",
       "  'score': 8.75,\n",
       "  'rank': 41.0,\n",
       "  'members': 157670,\n",
       "  'synopsis': \"In his father's absence, teenager Ippo Makunouchi works hard to help his mother run her fishing boat rental business. Ippo's timid nature, his lack of sleep, and the sea smell make him an easy target for relentless bullies who leave him bruised and beaten on a daily basis. Mamoru Takamura, an up-and-coming boxer, rescues Ippo from a violent after-school incident and takes him back to the Kamogawa Boxing Gym for recovery. Takamura and his fellow boxers, Masaru Aoki and Tatsuya Kimura, are stunned by Ippo's powerful punches—a result of strong muscles developed through years serving his physically taxing family business. \\r\\n\\r\\nFollowing brief training under Takamura, Ippo impresses the other boxers in a practice match against prodigy Ichirou Miyata. He gains a rival in Miyata and a coach in Genji Kamogawa, the gym owner and a former boxer himself. As Ippo takes the first steps in his official boxing career, he faces off against a series of challenging opponents, each more powerful than the last. Victory, loss, and a cycle of dedicated training await Ippo on his journey to achieve greatness. With his tough body and unstoppable fighting spirit, the kind young man seeks to take on the world.\\r\\n\\r\\n[Written by MAL Rewrite]\",\n",
       "  'cover': 'https://cdn.myanimelist.net/images/anime/4/86334l.jpg',\n",
       "  'Estimate_Score': 8.871802081879727},\n",
       " {'name': 'Hajime no Ippo: Rising',\n",
       "  'english_title': 'Hajime no Ippo: Rising',\n",
       "  'japanses_title': 'はじめの一歩 Rising',\n",
       "  'genre': 'Shounen',\n",
       "  'type': 'TV',\n",
       "  'source': 'Manga',\n",
       "  'duration': '22 min per ep',\n",
       "  'episodes': '25',\n",
       "  'rating': 'PG-13 - Teens 13 or older',\n",
       "  'score': 8.59,\n",
       "  'rank': 85.0,\n",
       "  'members': 66756,\n",
       "  'synopsis': \"Japanese Featherweight Champion Makunouchi Ippo has defended his title belt once more with the help of his devastating signature move: the Dempsey Roll. However, new challengers are rising up left and right, claiming to have an answer for the move responsible for crushing his opponents. Will Ippo be able to step up to the challenge, or will the weight of his pride destroy him before he finds out just what it means to be strong? Meanwhile, fellow Kamogawa Gym mate Aoki Masaru is just a hop, skip, and a Frog Punch away from claiming his own belt, ready to take on the Japanese Lightweight Champion!\\r\\n\\r\\nHajime no Ippo: Rising continues Ippo's quest to become stronger, featuring the same cast of loveable dimwits from Kamogawa Gym, as they put their bodies and hearts on the line to make their way in the harsh world of professional boxing. With a will of iron, Ippo steps into the ring once again.\\r\\n\\r\\n[Written by MAL Rewrite]\",\n",
       "  'cover': 'https://cdn.myanimelist.net/images/anime/6/56147l.jpg',\n",
       "  'Estimate_Score': 8.861065749314534}]"
      ]
     },
     "execution_count": 3,
     "metadata": {},
     "output_type": "execute_result"
    }
   ],
   "source": [
    "create_dict_su(sort_it(25000),[\"Shounen\"],[\"TV\"],\"or\",10)"
   ]
  }
 ],
 "metadata": {
  "kernelspec": {
   "display_name": "Python 3",
   "language": "python",
   "name": "python3"
  },
  "language_info": {
   "codemirror_mode": {
    "name": "ipython",
    "version": 3
   },
   "file_extension": ".py",
   "mimetype": "text/x-python",
   "name": "python",
   "nbconvert_exporter": "python",
   "pygments_lexer": "ipython3",
   "version": "3.8.0"
  },
  "orig_nbformat": 4,
  "vscode": {
   "interpreter": {
    "hash": "b81dc10ae865b1cfc2801720682109336e501398cc38da3c954913355cae8fad"
   }
  }
 },
 "nbformat": 4,
 "nbformat_minor": 2
}
