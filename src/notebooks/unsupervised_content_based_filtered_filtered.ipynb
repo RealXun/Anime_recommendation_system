{
 "cells": [
  {
   "attachments": {},
   "cell_type": "markdown",
   "metadata": {},
   "source": [
    "# Unsupervised content based recommendation system"
   ]
  },
  {
   "attachments": {},
   "cell_type": "markdown",
   "metadata": {},
   "source": [
    "## Import Libraries"
   ]
  },
  {
   "cell_type": "code",
   "execution_count": 36,
   "metadata": {},
   "outputs": [],
   "source": [
    "# Standard library imports\n",
    "import os # allows access to OS-dependent functionalities\n",
    "import sys # provides access to system-specific parameters and functions in Python.\n",
    "\n",
    "import numpy as np # functions for working in domain of linear algebra, fourier transform, matrices and arrays\n",
    "import pandas as pd # data analysis and manipulation tool\n",
    "import warnings\n",
    "\n",
    "# setting display options\n",
    "pd.set_option('display.max_columns', None)\n",
    "pd.set_option('display.max_rows', None)\n",
    "pd.set_option('display.max_colwidth', None)\n",
    "\n",
    "# Get the current working directory\n",
    "cwd = os.getcwd()\n",
    "\n",
    "# Add the path of the utils directory to sys.path\n",
    "utils_path = os.path.abspath(os.path.join(cwd, '..', 'utils'))\n",
    "sys.path.append(utils_path)\n",
    "\n",
    "# Utils libraries\n",
    "from cleaning import *\n",
    "from recommend import *\n",
    "from testing import *\n",
    "from training import *\n",
    "\n",
    "#Preparing folder variables\n",
    "main_folder = os.path.abspath(os.path.join(os.pardir))\n",
    "data_folder = (main_folder + \"/\" +\"data\")\n",
    "saved_models_folder = (data_folder + \"/\" + \"saved_models\")\n",
    "raw_data = (data_folder + \"/\" + \"_raw\")\n",
    "processed_data = (data_folder + \"/\" + \"processed\")\n",
    "content_based_supervised_data = (main_folder + \"/\" + \"processed\" + \"/\" + \"content_based_supervised\")"
   ]
  },
  {
   "attachments": {},
   "cell_type": "markdown",
   "metadata": {},
   "source": [
    "## Cleaning and preparing the data"
   ]
  },
  {
   "attachments": {},
   "cell_type": "markdown",
   "metadata": {},
   "source": [
    "### Checking "
   ]
  },
  {
   "cell_type": "code",
   "execution_count": 37,
   "metadata": {},
   "outputs": [],
   "source": [
    "# CSV file called \"anime.csv\" from a directory called raw_data and returns the contents as a Pandas DataFrame\n",
    "anime = pd.read_csv(raw_data + \"/\" + \"anime.csv\") \n",
    "\n",
    "# CSV file called \"rating.csv.zip\" from a directory called raw_data and returns the contents as a Pandas DataFrame\n",
    "rating = pd.read_csv(raw_data + \"/\" + \"rating.csv.zip\")"
   ]
  },
  {
   "cell_type": "code",
   "execution_count": 38,
   "metadata": {},
   "outputs": [
    {
     "name": "stdout",
     "output_type": "stream",
     "text": [
      "Unique values of column: rating \n",
      "\n",
      "['R - 17+ (violence & profanity)' 'PG-13 - Teens 13 or older'\n",
      " 'PG - Children' 'R+ - Mild Nudity' 'G - All Ages' 'Rx - Hentai' nan] \n",
      "\n",
      "Unique values of column: genre \n",
      "\n",
      "['Action, Adventure, Comedy, Drama, Sci-Fi, Space'\n",
      " 'Action, Drama, Mystery, Sci-Fi, Space' 'Action, Comedy, Sci-Fi' ...\n",
      " 'Action, Fantasy, Super Power, Supernatural, Vampire'\n",
      " 'Action, Adventure, Fantasy, Game, Kids'\n",
      " 'Comedy, Fantasy, Slice of Life, Supernatural'] \n",
      "\n",
      "Unique values of column: type \n",
      "\n",
      "['TV' 'Movie' 'OVA' 'Special' 'ONA' 'Music' nan] \n",
      "\n",
      "Unique values of column: source \n",
      "\n",
      "['Original' 'Manga' 'Light novel' 'Game' 'Visual novel' '4-koma manga'\n",
      " 'Novel' 'Other' 'Unknown' 'Picture book' 'Web manga' 'Music' 'Radio'\n",
      " 'Book' 'Card game' 'Mixed media'] \n",
      "\n"
     ]
    }
   ],
   "source": [
    "# Checking for unique values.\n",
    "to_check = [\"rating\",\"genre\",\"type\",\"source\"]\n",
    "for i in to_check:\n",
    "    print (\"Unique values of column:\",i,\"\\n\")\n",
    "    print (anime[i].unique(),\"\\n\")"
   ]
  },
  {
   "attachments": {},
   "cell_type": "markdown",
   "metadata": {},
   "source": [
    "We can see that we have some NaN and Unknown values."
   ]
  },
  {
   "cell_type": "code",
   "execution_count": 39,
   "metadata": {},
   "outputs": [
    {
     "name": "stdout",
     "output_type": "stream",
     "text": [
      "score             14.048029\n",
      "rank               9.572986\n",
      "synopsis           2.475207\n",
      "rating             1.614622\n",
      "genre              0.499959\n",
      "type               0.172117\n",
      "japanses_title     0.155725\n",
      "anime_id           0.000000\n",
      "name               0.000000\n",
      "english_title      0.000000\n",
      "source             0.000000\n",
      "duration           0.000000\n",
      "episodes           0.000000\n",
      "members            0.000000\n",
      "cover              0.000000\n",
      "dtype: float64\n",
      "Total number of records: 12201\n"
     ]
    }
   ],
   "source": [
    "# the null values\n",
    "print(((anime.isnull().sum() / len(anime))*100).sort_values(ascending = False))\n",
    "print(f\"Total number of records: {len(anime)}\")"
   ]
  },
  {
   "attachments": {},
   "cell_type": "markdown",
   "metadata": {},
   "source": [
    "### Cleaning "
   ]
  },
  {
   "attachments": {},
   "cell_type": "markdown",
   "metadata": {},
   "source": [
    "The columns rank, synopsis and japanses_title will only be use for showing the results of the recommendation, so we do not care about this 3 columns.\n",
    "\n",
    "We will deal with the others.\n",
    "\n",
    "To do that we will call the next functions from cleaning.py in utils folder.\n",
    "- clean_anime_df\n",
    "- predict_source\n",
    "- clean_synopsis"
   ]
  },
  {
   "cell_type": "code",
   "execution_count": 40,
   "metadata": {},
   "outputs": [
    {
     "name": "stdout",
     "output_type": "stream",
     "text": [
      "The function clean_anime_df() takes an anime dataframe as input and performs several \n",
      "    cleaning and preprocessing steps, such as removing special characters from anime names, \n",
      "    converting all names to lowercase, filling missing values for \"episodes\" and \"score\" \n",
      "    columns with their median, dropping rows with null values for \"genre\" or \"type\" columns, \n",
      "    and saving the cleaned dataframe to a CSV file. The cleaned dataframe is also returned as output.\n"
     ]
    }
   ],
   "source": [
    "print(clean_anime_df.__doc__)"
   ]
  },
  {
   "cell_type": "code",
   "execution_count": 41,
   "metadata": {},
   "outputs": [
    {
     "name": "stdout",
     "output_type": "stream",
     "text": [
      "\n",
      "    The function takes a pandas dataframe containing anime data and \n",
      "    fills in missing values in the 'source' column using a Decision \n",
      "    Tree Classifier based on the 'episodes' and 'type' columns. The \n",
      "    'type' column is converted to categorical data using get_dummies \n",
      "    before fitting the model. The function returns the original \n",
      "    dataframe with missing values filled in and the model accuracy score.\n",
      "    \n"
     ]
    }
   ],
   "source": [
    "print(predict_source.__doc__)"
   ]
  },
  {
   "cell_type": "code",
   "execution_count": 42,
   "metadata": {},
   "outputs": [
    {
     "name": "stdout",
     "output_type": "stream",
     "text": [
      "\n",
      "    This code uses regular expressions to clean up the text in the \"synopsis\" column\n",
      "    of a pandas DataFrame. It removes any text in square brackets, removes any c\n",
      "    arriage returns or newline characters, and removes any extra whitespace at \n",
      "    the beginning or end of the string.\n",
      "    \n"
     ]
    }
   ],
   "source": [
    "print(clean_synopsis.__doc__)"
   ]
  },
  {
   "attachments": {},
   "cell_type": "markdown",
   "metadata": {},
   "source": [
    "The steps of this function:\n",
    "- Create a copy of the original dataframe called anime_cleaned\n",
    "- Remove all non-word characters from the name column and replace them with spaces\n",
    "- Convert all names to lowercase\n",
    "- Replace all \"Unknown\" values in the episodes column with NaN\n",
    "- Replace all NaN values in the episodes column with the median of the column\n",
    "- Convert the score column to float type\n",
    "- Replace all NaN values in the score column with the median of the column\n",
    "- Convert the members column to float type\n",
    "- Apply the clean_synopsis function to the synopsis column\n",
    "    - Remove \\r and \\n from synopsis\n",
    "    - Remove extra spaces from synopsis\n",
    "    - Replace encoded characters\n",
    "    - Return synopsis\n",
    "- Add prediction to the source column of the dataframe using the predict_source function\n",
    "    - change unknown values to NaN from 'source' column\n",
    "    - fill missing values in the 'episodes' column with 0\n",
    "    - create dummy variables for the 'type' column\n",
    "    - create dummy variables for the 'rating' column\n",
    "    - First, we area going to split the genre column by comma, then expand the list, so there is a column for each genre. We will have 13 columns, because the anime with most genres tags has 13 tags\n",
    "    - Now we can get the list of unique genres. We \"convert\" the dataframe into a single dimension array and take the unique values\n",
    "    - Getting the dummy variables will result in having a lot more columns than unique genres\n",
    "    - So we sum up the columns with the same genre to have a single column for each genre\n",
    "    - split the data into training and validation sets\n",
    "    - create the decision tree classifier\n",
    "    - train the model using the training data\n",
    "    - predict the 'source' values for the validation data\n",
    "    - fill the 'NaN' 'source' values in the original DataFrame with the predicted values\n",
    "    - undo the get_dummies() operation to convert the one-hot encoded 'type' and 'rating' columns back to a single categorical column\n",
    "    - Dropping unnecessary columns\n",
    "    - calculate the accuracy of the model\n",
    "- Replace all NaN values in the genre column with the mode of the column\n",
    "- Replace all NaN values in the rating column with the mode of the column\n",
    "- Replace all NaN values in the type column with the mode of the column\n",
    "- Save the cleaned dataframe to a CSV file called \"_anime_to_compare_with_name.csv\" "
   ]
  },
  {
   "cell_type": "code",
   "execution_count": 43,
   "metadata": {},
   "outputs": [
    {
     "name": "stdout",
     "output_type": "stream",
     "text": [
      "The accuracy of source prediction is 0.8886884550084889\n"
     ]
    }
   ],
   "source": [
    "anime_cleaned = clean_anime_df(anime)# from cleaning.py"
   ]
  },
  {
   "cell_type": "code",
   "execution_count": 44,
   "metadata": {},
   "outputs": [
    {
     "data": {
      "text/plain": [
       "(12201, 15)"
      ]
     },
     "execution_count": 44,
     "metadata": {},
     "output_type": "execute_result"
    }
   ],
   "source": [
    "anime_cleaned.shape"
   ]
  },
  {
   "attachments": {},
   "cell_type": "markdown",
   "metadata": {},
   "source": [
    "We can see that we have no null values in the columns we need."
   ]
  },
  {
   "cell_type": "code",
   "execution_count": 45,
   "metadata": {},
   "outputs": [
    {
     "name": "stdout",
     "output_type": "stream",
     "text": [
      "rank              9.572986\n",
      "synopsis          2.475207\n",
      "japanses_title    0.155725\n",
      "anime_id          0.000000\n",
      "name              0.000000\n",
      "english_title     0.000000\n",
      "genre             0.000000\n",
      "source            0.000000\n",
      "duration          0.000000\n",
      "episodes          0.000000\n",
      "score             0.000000\n",
      "members           0.000000\n",
      "cover             0.000000\n",
      "type              0.000000\n",
      "rating            0.000000\n",
      "dtype: float64\n",
      "Total number of records: 12201\n"
     ]
    }
   ],
   "source": [
    "# let's check the result of this cleaning process.\n",
    "print(((anime_cleaned.isnull().sum() / len(anime_cleaned))*100).sort_values(ascending = False))\n",
    "print(f\"Total number of records: {len(anime_cleaned)}\")"
   ]
  },
  {
   "attachments": {},
   "cell_type": "markdown",
   "metadata": {},
   "source": [
    "### Preparing the data"
   ]
  },
  {
   "attachments": {},
   "cell_type": "markdown",
   "metadata": {},
   "source": [
    "Now we are going to prepare the data for NearestNeighbors model\n",
    "\n",
    "To do that we will call the next function from cleaning.py in utils folder.\n",
    "- prepare_supervised_content_based\n",
    "\n",
    "Since que are the columnas \"episodes\", \"score\" and \"members\", we will as well use:\n",
    "\n",
    "- MinMaxScaler and calling fit_transform()."
   ]
  },
  {
   "cell_type": "code",
   "execution_count": 46,
   "metadata": {},
   "outputs": [
    {
     "name": "stdout",
     "output_type": "stream",
     "text": [
      "\n",
      "    This function prepares the content-based features for a supervised \n",
      "    learning model. It first splits the genres into separate columns and \n",
      "    gets unique genres. It then creates dummy variables for genres and \n",
      "    type, and sum up the columns for the same genre to have a single \n",
      "    column for each genre. Finally, it drops irrelevant columns and saves \n",
      "    the resulting dataframe to a CSV file. The function returns the resulting dataframe.\n",
      "    \n"
     ]
    }
   ],
   "source": [
    "print(prepare_supervised_content_based.__doc__)"
   ]
  },
  {
   "cell_type": "markdown",
   "metadata": {},
   "source": [
    "The steps of this function:\n",
    "- Split the \"genre\" column into multiple columns  \n",
    "- Get unique genre values \n",
    "- Create dummy variables for the genre columns  \n",
    "- For each unique genre, sum up the corresponding dummy variables and add a new column for that genre  \n",
    "- Create dummy variables for the \"type\" column  \n",
    "- Create dummy variables for the \"rating\" column \n",
    "- Create dummy variables for the \"source\" column   \n",
    "- Concatenate the \"type\" dummy variables with the existing DataFrame  \n",
    "- Drop unnecessary columns  \n",
    "- Create a new DataFrame that is a copy of the modified DataFrame\n",
    "- Reset the index of the new DataFrame\n",
    "- Save the modified DataFrame as a CSV file\n",
    "- Return the modified DataFrame\n"
   ]
  },
  {
   "cell_type": "code",
   "execution_count": 47,
   "metadata": {},
   "outputs": [],
   "source": [
    "anime_features = prepare_supervised_content_based(anime_cleaned) # from cleaning.py"
   ]
  },
  {
   "attachments": {},
   "cell_type": "markdown",
   "metadata": {},
   "source": [
    "anime_features.head(5)"
   ]
  },
  {
   "cell_type": "code",
   "execution_count": 48,
   "metadata": {},
   "outputs": [
    {
     "data": {
      "text/plain": [
       "(12201, 73)"
      ]
     },
     "execution_count": 48,
     "metadata": {},
     "output_type": "execute_result"
    }
   ],
   "source": [
    "anime_features.shape"
   ]
  },
  {
   "attachments": {},
   "cell_type": "markdown",
   "metadata": {},
   "source": [
    "In order to apply the MinMaxScaler to a dataset, typically we need to first \"fit\" the scaler to the data, which means calculating the minimum and maximum values for each feature in the dataset. This is done using the fit() method of the MinMaxScaler object. After fitting the scaler, you can then \"transform\" the data using the transform() method, which applies the scaling formula to each feature.\n",
    "\n",
    "However, in some cases, if better to both fit the scaler to the data and transform the data in a single step. This is where the fit_transform() method comes in handy. Calling fit_transform() on a MinMaxScaler object will both fit the scaler to the data and transform the data in a single step.\n",
    "\n",
    "Using a MinMaxScaler and calling fit_transform() is a common way to scale feature values to be within a specific range."
   ]
  },
  {
   "cell_type": "code",
   "execution_count": 49,
   "metadata": {},
   "outputs": [],
   "source": [
    "min_max = MinMaxScaler()\n",
    "min_max_features = min_max.fit_transform(anime_features)"
   ]
  },
  {
   "cell_type": "code",
   "execution_count": 50,
   "metadata": {},
   "outputs": [
    {
     "data": {
      "text/plain": [
       "(12201, 73)"
      ]
     },
     "execution_count": 50,
     "metadata": {},
     "output_type": "execute_result"
    }
   ],
   "source": [
    "min_max_features.shape"
   ]
  },
  {
   "cell_type": "code",
   "execution_count": 51,
   "metadata": {},
   "outputs": [
    {
     "data": {
      "text/plain": [
       "array([[1.37589433e-02, 9.50413223e-01, 4.80139302e-01, ...,\n",
       "        0.00000000e+00, 0.00000000e+00, 1.00000000e+00],\n",
       "       [0.00000000e+00, 8.99449036e-01, 1.35742550e-01, ...,\n",
       "        0.00000000e+00, 0.00000000e+00, 0.00000000e+00],\n",
       "       [1.37589433e-02, 8.77410468e-01, 2.79180047e-01, ...,\n",
       "        0.00000000e+00, 0.00000000e+00, 1.00000000e+00],\n",
       "       ...,\n",
       "       [5.50357733e-04, 6.43250689e-01, 3.70840862e-04, ...,\n",
       "        0.00000000e+00, 0.00000000e+00, 1.00000000e+00],\n",
       "       [5.50357733e-04, 6.30853994e-01, 1.01586725e-04, ...,\n",
       "        0.00000000e+00, 0.00000000e+00, 1.00000000e+00],\n",
       "       [0.00000000e+00, 6.33608815e-01, 0.00000000e+00, ...,\n",
       "        0.00000000e+00, 0.00000000e+00, 0.00000000e+00]])"
      ]
     },
     "execution_count": 51,
     "metadata": {},
     "output_type": "execute_result"
    }
   ],
   "source": [
    "min_max_features"
   ]
  },
  {
   "attachments": {},
   "cell_type": "markdown",
   "metadata": {},
   "source": [
    "Rounding the values using np.round(min_max_features, 2) will round each value in min_max_features to 2 decimal places, which can make the resulting array easier to read and work with. This is especially useful when dealing with large arrays or matrices, where the values can be difficult to interpret if there are too many decimal places.\n",
    "\n",
    "It's worth noting that the use of np.round() in this code is not strictly necessary and is largely a matter of personal preference. Some people might prefer to work with the original unscaled values or may choose to use a different rounding method depending on the specific requirements of their project."
   ]
  },
  {
   "cell_type": "code",
   "execution_count": 52,
   "metadata": {},
   "outputs": [
    {
     "data": {
      "text/plain": [
       "array([[0.01, 0.95, 0.48, ..., 0.  , 0.  , 1.  ],\n",
       "       [0.  , 0.9 , 0.14, ..., 0.  , 0.  , 0.  ],\n",
       "       [0.01, 0.88, 0.28, ..., 0.  , 0.  , 1.  ],\n",
       "       ...,\n",
       "       [0.  , 0.64, 0.  , ..., 0.  , 0.  , 1.  ],\n",
       "       [0.  , 0.63, 0.  , ..., 0.  , 0.  , 1.  ],\n",
       "       [0.  , 0.63, 0.  , ..., 0.  , 0.  , 0.  ]])"
      ]
     },
     "execution_count": 52,
     "metadata": {},
     "output_type": "execute_result"
    }
   ],
   "source": [
    "np.round(min_max_features,2)"
   ]
  },
  {
   "attachments": {},
   "cell_type": "markdown",
   "metadata": {},
   "source": [
    "## Finding the best parameters for NearestNeighbors model"
   ]
  },
  {
   "cell_type": "code",
   "execution_count": 53,
   "metadata": {},
   "outputs": [
    {
     "name": "stdout",
     "output_type": "stream",
     "text": [
      "\n",
      "    The function param_NearestNeighbors uses GridSearchCV from scikit-learn \n",
      "    to perform a grid search over a range of hyperparameters for the \n",
      "    NearestNeighbors model. It takes a dataframe df as input and returns \n",
      "    the best hyperparameters found during the grid search. The hyperparameters \n",
      "    being searched over include n_neighbors, radius, algorithm, leaf_size, \n",
      "    metric, and p. The scoring metric being used is \"accuracy\" and the refit \n",
      "    parameter is set to \"precision_score\". cv=2 sets the number of cross-validation \n",
      "    folds to 2, and n_jobs=-1 sets the number of CPU cores used to parallelize \n",
      "    the search to be the maximum available.\n",
      "    \n"
     ]
    }
   ],
   "source": [
    "print(param_NearestNeighbors.__doc__)"
   ]
  },
  {
   "attachments": {},
   "cell_type": "markdown",
   "metadata": {},
   "source": [
    "The GridSearchCV function works by training and evaluating the estimator (in this case, the NearestNeighbors() object) for each combination of parameter values specified in the param_grid argument. It then returns the combination of parameter values that resulted in the best performance, as determined by the specified scoring metric.\n",
    "\n",
    "Overall, using GridSearchCV in NearestNeighbors() allows us to fine-tune the hyperparameters of the k-nearest neighbors algorithm to improve its accuracy and make better recommendations."
   ]
  },
  {
   "attachments": {},
   "cell_type": "markdown",
   "metadata": {},
   "source": [
    "We will finde the best parameters passing the min_max_features.\n",
    "\n",
    "Steps:\n",
    "- Define dictionary of hyperparameters to test using GridSearchCV\n",
    "- Create GridSearchCV object with NearestNeighbors algorithm and hyperparameters defined in the parametros dictionary\n",
    "- Return the best hyperparameters found by the grid search"
   ]
  },
  {
   "cell_type": "code",
   "execution_count": null,
   "metadata": {},
   "outputs": [],
   "source": [
    "param_NearestNeighbors(min_max_features) # from testing.py "
   ]
  },
  {
   "attachments": {},
   "cell_type": "markdown",
   "metadata": {},
   "source": [
    "## Building the model"
   ]
  },
  {
   "cell_type": "code",
   "execution_count": 55,
   "metadata": {},
   "outputs": [
    {
     "name": "stdout",
     "output_type": "stream",
     "text": [
      "\n",
      "    The function model_NearestNeighbors builds and trains a \n",
      "    k-Nearest Neighbors model on a given dataset, using specified \n",
      "    parameters. It then saves the indices of the nearest neighbors \n",
      "    to a file and returns them.\n",
      "    \n"
     ]
    }
   ],
   "source": [
    "print(model_NearestNeighbors.__doc__) # from testing.py "
   ]
  },
  {
   "attachments": {},
   "cell_type": "markdown",
   "metadata": {},
   "source": [
    "- Build and \"train\" the model using NearestNeighbors algorithm\n",
    "\t- algorithm: algorithm used to compute the nearest neighbors (‘auto’, ‘ball_tree’, ‘kd_tree’, ‘brute’)\n",
    "\t- leaf_size: leaf size passed to BallTree or KDTree\n",
    "\t- metric: distance metric used for the tree. Can be 'minkowski', 'euclidean', etc.\n",
    "\t- n_neighbors: number of neighbors to use for kneighbors queries\n",
    "\t- p: power parameter for the Minkowski metric. When p = 1, this is equivalent to using manhattan_distance\n",
    "- Get the distances and indices of the nearest neighbors\n",
    "\t- distances: array representing the lengths to points, only present if return_distance=True\n",
    "\t- indices: indices of the nearest points in the population matrix\n",
    "- Save the model to a file using joblib.dump\n",
    "- Return the indices of the nearest neighbors"
   ]
  },
  {
   "cell_type": "code",
   "execution_count": 56,
   "metadata": {},
   "outputs": [
    {
     "data": {
      "text/plain": [
       "array([[    0,  3445, 10833, ...,   533,  2205,  1041],\n",
       "       [    1,  7697,  4530, ...,  9351,   992,  7474],\n",
       "       [    2,  3409, 11218, ...,  3136,  1181,  2198],\n",
       "       ...,\n",
       "       [12198,  7973,  5977, ...,  1850,  8626,  8464],\n",
       "       [12199,  1825,   187, ...,  2339,  4352,  4780],\n",
       "       [12200,  8769,  9684, ...,  4427,  8354,  2523]], dtype=int64)"
      ]
     },
     "execution_count": 56,
     "metadata": {},
     "output_type": "execute_result"
    }
   ],
   "source": [
    "model_NearestNeighbors(min_max_features)"
   ]
  },
  {
   "attachments": {},
   "cell_type": "markdown",
   "metadata": {},
   "source": [
    "## Get recommendations"
   ]
  },
  {
   "attachments": {},
   "cell_type": "markdown",
   "metadata": {},
   "source": [
    "To get the recommendations we will use the next functions:"
   ]
  },
  {
   "cell_type": "code",
   "execution_count": 57,
   "metadata": {},
   "outputs": [
    {
     "name": "stdout",
     "output_type": "stream",
     "text": [
      "\n",
      "    This function takes a user input anime name query and returns a list of recommended anime similar to the query.\n",
      "    It uses a pre-trained model and a dataset of anime information to find recommendations. \n",
      "    If the user query has any misspelling, the function tries to find the closest match to \n",
      "    the query and provides recommendations based on that.\n",
      "    \n"
     ]
    }
   ],
   "source": [
    "print(print_similar_animes.__doc__)"
   ]
  },
  {
   "attachments": {},
   "cell_type": "markdown",
   "metadata": {},
   "source": [
    "Steps of print_similar_animes:\n",
    "- Load pre-trained k-Nearest Neighbors model from file\n",
    "- Load anime data from CSV file\n",
    "- Find the closest title in the anime dataset to the user's query\n",
    "- If the distance score is 100, the user's query is an exact match for a title in the dataset\n",
    "\t- Get the index of the exact match in the dataset \n",
    "\t- Get the indices of the k-nearest neighbors of the exact match\n",
    "\t- Remove the index of the exact match from the array of neighbors\n",
    "\t- For each neighbor index, get the name of the anime and add it to the list of recommendations\n",
    "\t- Return the list of recommendations\n",
    "- If the distance score is not 100, the user's query is a misspelling or a partial match  \n",
    "\t- Ask the user if they meant the closest title found in the dataset\n",
    "\t- Get the index of the closest title in the dataset\n",
    "\t- Get the indices of the k-nearest neighbors of the closest title\n",
    "\t- Remove the index of the closest title from the array of neighbors\n",
    "\t- For each neighbor index, get the name of the anime and add it to the list of recommendations       \n",
    "\t- Return the list of recommendations"
   ]
  },
  {
   "cell_type": "code",
   "execution_count": 58,
   "metadata": {},
   "outputs": [
    {
     "name": "stdout",
     "output_type": "stream",
     "text": [
      "\n",
      "    Function that takes in a string title and a pandas DataFrame df as input arguments, \n",
      "    and returns a tuple containing the closest matching title to the input title \n",
      "    and the Levenshtein distance score between the closest title and the input title.\n",
      "    in other words, the function returns the most similar title to the name a user typed\n",
      "    \n"
     ]
    }
   ],
   "source": [
    "print(finding_the_closest_title.__doc__)"
   ]
  },
  {
   "attachments": {},
   "cell_type": "markdown",
   "metadata": {},
   "source": [
    "Steps of finding_the_closest_title:\n",
    "- This function takes a string `title` and a pandas DataFrame `df` as input arguments.\n",
    "- Create a new variable `anime` to hold the DataFrame `df` for readability.\n",
    "- Calculate the Levenshtein distance between each title in the 'name' column of the DataFrame and the input `title`.\n",
    "- The `match_the_score` function is used to calculate the distance score.\n",
    "- The `enumerate` function adds an index number to each distance score.\n",
    "- Sort the list of (index, distance score) tuples in descending order by the distance score. sorted_levenshtein_scores = sorted(levenshtein_scores, key=lambda x: x[1], reverse=True)\n",
    "- Get the closest matching title to the input `title` by using the index of the highest scoring match.\n",
    "- The `from_index_to_title` function is used to return the title string from the DataFrame given an index.\n",
    "- Get the Levenshtein distance score of the closest matching title.\n",
    "- Return a tuple containing the closest matching title and its Levenshtein distance score."
   ]
  },
  {
   "cell_type": "code",
   "execution_count": 59,
   "metadata": {},
   "outputs": [
    {
     "name": "stdout",
     "output_type": "stream",
     "text": [
      "\n",
      "    Function to return the matched index number of the anime name\n",
      "    \n"
     ]
    }
   ],
   "source": [
    "print(from_title_to_index.__doc__) # just one step"
   ]
  },
  {
   "cell_type": "code",
   "execution_count": 60,
   "metadata": {},
   "outputs": [
    {
     "name": "stdout",
     "output_type": "stream",
     "text": [
      "\n",
      "    Function to find the closest title, It uses Levenshtein Distance to calculate the differences between sequences\n",
      "    \n"
     ]
    }
   ],
   "source": [
    "print(match_the_score.__doc__) # just one step"
   ]
  },
  {
   "cell_type": "code",
   "execution_count": 61,
   "metadata": {},
   "outputs": [
    {
     "name": "stdout",
     "output_type": "stream",
     "text": [
      "\n",
      "    Function to return the anime name that mtches de index number\n",
      "    \n"
     ]
    }
   ],
   "source": [
    "print(from_index_to_title.__doc__) # just one step"
   ]
  },
  {
   "attachments": {},
   "cell_type": "markdown",
   "metadata": {},
   "source": [
    "The information resulted is pass to:\n",
    "- create_dict\n",
    "- filtering_and\n",
    "- filtering_or"
   ]
  },
  {
   "cell_type": "code",
   "execution_count": 62,
   "metadata": {},
   "outputs": [
    {
     "name": "stdout",
     "output_type": "stream",
     "text": [
      "\n",
      "    The create_dict() function takes in four arguments - names (list of anime names to search for), \n",
      "    gen (list of genres to filter by), typ (list of anime types to filter by), \n",
      "    method (string indicating whether to filter by \"or\" or \"and\"), \n",
      "    and an optional n parameter indicating the maximum number of results to return. \n",
      "    It reads in a pre-processed anime DataFrame, filters it based on the input criteria, \n",
      "    and returns a dictionary of the resulting rows. If there are no matches, \n",
      "    it returns a string indicating it.\n",
      "    \n"
     ]
    }
   ],
   "source": [
    "print(create_dict.__doc__)"
   ]
  },
  {
   "attachments": {},
   "cell_type": "markdown",
   "metadata": {},
   "source": [
    "Steps of create_dict:\n",
    "- This function takes in a list of anime titles `names`, lists of `gen`res and `typ`es, a filtering method `method`, and an optional number of results `n`.\n",
    "- Load the anime dataframe from a CSV file using pandas.\n",
    "- Filter the anime dataframe to only include titles that match those in the input list `names`.\n",
    "- Remove the 'anime_id' and 'members' columns from the resulting dataframe.\n",
    "- Reset the index of the resulting dataframe.\n",
    "- Apply a filtering method based on the input `method`.\n",
    "- If 'or', use the `filtering_or()` function to filter the dataframe.\n",
    "- If 'and', use the `filtering_and()` function to filter the dataframe.\n",
    "- If `method` is neither 'or' nor 'and', raise a ValueError.\n",
    "- Drop any duplicate titles from the resulting dataframe.\n",
    "- Limit the resulting dataframe to the first `n` rows.\n",
    "- If the resulting dataframe is empty, print an error message and return None.\n",
    "- Otherwise, convert the resulting dataframe to a dictionary and return the dictionary."
   ]
  },
  {
   "cell_type": "code",
   "execution_count": 63,
   "metadata": {},
   "outputs": [
    {
     "name": "stdout",
     "output_type": "stream",
     "text": [
      "\n",
      "    This function takes a DataFrame df, a list of genres, and a list of types as input arguments. \n",
      "    The function first creates a boolean mask genre_mask by applying a lambda function to \n",
      "    the 'genre' column of the DataFrame. The lambda function checks if the value is a \n",
      "    string using isinstance(x, str) and if all genres in the genres list are present \n",
      "    in the string, which is split by comma and space using x.split(', '). \n",
      "    The all() function returns True if all genres in the genres list are present \n",
      "    in the string. The resulting genre_mask will be True for rows where the genre \n",
      "    column contains all of the genres in the genres list.\n",
      "\n",
      "    Then the function creates another boolean mask type_mask by using the isin() \n",
      "    method to check if each value in the 'type' column of the DataFrame is in the types list.\n",
      "\n",
      "    Finally, the function applies both masks to the DataFrame df using the & operator \n",
      "    to create a new DataFrame filtered_df that includes only rows where both m\n",
      "    asks are True. The function returns the filtered DataFrame.\n",
      "    \n"
     ]
    }
   ],
   "source": [
    "print(filtering_and.__doc__)"
   ]
  },
  {
   "attachments": {},
   "cell_type": "markdown",
   "metadata": {},
   "source": [
    "Steps of filtering_and:\n",
    "- This function takes a DataFrame `df`, a list of `genres`, and a list of `types` as input arguments.\n",
    "- Create a boolean mask that filters rows where the genre column contains all of the genres in the `genres` list.\n",
    "- Create a boolean mask that filters rows where the type column is in the `types` list.\n",
    "- Apply both masks to the DataFrame `df` and create a new DataFrame `filtered_df` that includes only rows where both masks are True.\n",
    "- Return the filtered DataFrame."
   ]
  },
  {
   "cell_type": "code",
   "execution_count": 64,
   "metadata": {},
   "outputs": [
    {
     "name": "stdout",
     "output_type": "stream",
     "text": [
      "\n",
      "    The code defines a function \"filtering_or\" that filters a pandas dataframe based on user-defined \n",
      "    genres and types using an \"OR\" method. The function allows the user to select one or all possible \n",
      "    genres and types and returns a filtered dataframe with the selected genres and types. \n",
      "    The function also splits the genre and type columns and explodes them to account for multiple entries.\n",
      "    \n"
     ]
    }
   ],
   "source": [
    "print(filtering_or.__doc__)"
   ]
  },
  {
   "attachments": {},
   "cell_type": "markdown",
   "metadata": {},
   "source": [
    "Steps of filtering_or:\n",
    "- Make a copy of the input DataFrame\n",
    "- Split the genre column into a list of genres\n",
    "- Explode the genre column to create a new row for each genre in the list\n",
    "- If genres are specified and 'ALL' is not one of them, filter the DataFrame to keep only rows where the genre is in the specified list  \n",
    "- If types are specified and 'ALL' is not one of them, filter the DataFrame to keep only rows where the type is in the specified list\n",
    "- If both genres and types are specified\n",
    "- If 'ALL' is in the genres list, set genres to be all the unique genres in the filtered DataFrame\n",
    "- If 'ALL' is in the types list, set types to be all the unique types in the filtered DataFrame\n",
    "- Filter the DataFrame to keep only rows where the genre is in the genres list AND the type is in the types list\n",
    "- Return the filtered DataFrame"
   ]
  },
  {
   "cell_type": "code",
   "execution_count": 69,
   "metadata": {},
   "outputs": [
    {
     "name": "stdout",
     "output_type": "stream",
     "text": [
      "I guess you misspelled the name\n",
      " Are you looking similitudes for the anime named \u001b[1mnaruto\u001b[0m? \n",
      "Here are the recommendations:\n",
      "or\n"
     ]
    },
    {
     "data": {
      "text/plain": [
       "[{'name': 'eyeshield 21',\n",
       "  'english_title': 'Eyeshield 21',\n",
       "  'japanses_title': 'アイシールド21',\n",
       "  'genre': 'Shounen',\n",
       "  'source': 'Manga',\n",
       "  'duration': '23 min per ep',\n",
       "  'episodes': 145.0,\n",
       "  'score': 7.92,\n",
       "  'rank': 702.0,\n",
       "  'synopsis': 'Shy, reserved, and small-statured, Deimon High School student Sena Kobayakawa is the perfect target for bullies. However, as a result of running errands throughout his life, Sena has become agile and developed a skill for avoiding crowds of people. After the cunning Youichi Hiruma—captain of the Deimon Devil Bats football team—witnesses Sena\\'s rapid legs in motion, he coerces the timid boy into joining his squad. As Hiruma wants to conceal Sena\\'s identity from other clubs, Sena is forced to hide under the visored helmet of \"Eyeshield 21,\" a mysterious running back wearing the number 21 jersey. The legendary Eyeshield 21 can supposedly run at the speed of light and has achieved remarkable feats in the United States during his time at the Notre Dame College. Accustomed to avoiding his problems in the past, Sena\\'s specialty might just help him become the new secret weapon of the Deimon Devil Bats. As he interacts with his teammates, Sena gradually gains more self-confidence and forges valuable bonds along the way. [Written by MAL Rewrite]',\n",
       "  'cover': 'https://cdn.myanimelist.net/images/anime/12/66961l.jpg',\n",
       "  'type': 'TV',\n",
       "  'rating': 'PG-13 - Teens 13 or older'},\n",
       " {'name': 'one piece',\n",
       "  'english_title': 'One Piece',\n",
       "  'japanses_title': 'ONE PIECE',\n",
       "  'genre': 'Shounen',\n",
       "  'source': 'Manga',\n",
       "  'duration': '24 min',\n",
       "  'episodes': 2.0,\n",
       "  'score': 8.68,\n",
       "  'rank': 57.0,\n",
       "  'synopsis': 'Gol D. Roger was known as the \"Pirate King,\" the strongest and most infamous being to have sailed the Grand Line. The capture and execution of Roger by the World Government brought a change throughout the world. His last words before his death revealed the existence of the greatest treasure in the world, One Piece. It was this revelation that brought about the Grand Age of Pirates, men who dreamed of finding One Piece—which promises an unlimited amount of riches and fame—and quite possibly the pinnacle of glory and the title of the Pirate King. Enter Monkey D. Luffy, a 17-year-old boy who defies your standard definition of a pirate. Rather than the popular persona of a wicked, hardened, toothless pirate ransacking villages for fun, Luffy\\'s reason for being a pirate is one of pure wonder: the thought of an exciting adventure that leads him to intriguing people and ultimately, the promised treasure. Following in the footsteps of his childhood hero, Luffy and his crew travel across the Grand Line, experiencing crazy adventures, unveiling dark mysteries and battling strong enemies, all in order to reach the most coveted of all fortunes—One Piece. [Written by MAL Rewrite]',\n",
       "  'cover': 'https://cdn.myanimelist.net/images/anime/6/73245l.jpg',\n",
       "  'type': 'TV',\n",
       "  'rating': 'PG-13 - Teens 13 or older'}]"
      ]
     },
     "execution_count": 69,
     "metadata": {},
     "output_type": "execute_result"
    }
   ],
   "source": [
    "# We can get the recommendation as a dictionary\n",
    "# We selec the name of the anime we want to find similitudes\n",
    "# Then the genre we want (or write \"All\")\n",
    "# Then the type we want (or write \"All\")\n",
    "# We must select a type or filtering, \"or\"/\"and\" \n",
    "# Then the number of suggestions we have(we might get less if there not so many o none if there is no matches)\n",
    "\n",
    "create_dict(print_similar_animes(\"Naruto\"),[\"Shounen\"],[\"TV\"],\"or\",2)"
   ]
  },
  {
   "cell_type": "code",
   "execution_count": null,
   "metadata": {},
   "outputs": [],
   "source": []
  }
 ],
 "metadata": {
  "kernelspec": {
   "display_name": "stlit",
   "language": "python",
   "name": "python3"
  },
  "language_info": {
   "codemirror_mode": {
    "name": "ipython",
    "version": 3
   },
   "file_extension": ".py",
   "mimetype": "text/x-python",
   "name": "python",
   "nbconvert_exporter": "python",
   "pygments_lexer": "ipython3",
   "version": "3.10.6"
  },
  "orig_nbformat": 4,
  "vscode": {
   "interpreter": {
    "hash": "cecd28889de614796b096279bba34faf450ea72cc4d265581beb94f7bfeace2c"
   }
  }
 },
 "nbformat": 4,
 "nbformat_minor": 2
}
