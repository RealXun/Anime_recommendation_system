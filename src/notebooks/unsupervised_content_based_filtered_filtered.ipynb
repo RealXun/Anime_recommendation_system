{
 "cells": [
  {
   "attachments": {},
   "cell_type": "markdown",
   "metadata": {},
   "source": [
    "# Unsupervised content based recommendation system"
   ]
  },
  {
   "attachments": {},
   "cell_type": "markdown",
   "metadata": {},
   "source": [
    "## Import Libraries"
   ]
  },
  {
   "cell_type": "code",
   "execution_count": 1,
   "metadata": {},
   "outputs": [
    {
     "name": "stderr",
     "output_type": "stream",
     "text": [
      "c:\\Users\\christiandda\\miniconda3\\envs\\stlit\\lib\\site-packages\\fuzzywuzzy\\fuzz.py:11: UserWarning: Using slow pure-python SequenceMatcher. Install python-Levenshtein to remove this warning\n",
      "  warnings.warn('Using slow pure-python SequenceMatcher. Install python-Levenshtein to remove this warning')\n"
     ]
    }
   ],
   "source": [
    "# Standard library imports\n",
    "import os # allows access to OS-dependent functionalities\n",
    "import re #  regular expression matching operations similar to those found in Perl\n",
    "import sys # to manipulate different parts of the Python runtime environment\n",
    "import warnings # is used to display the message Warning\n",
    "import pickle # serializing and deserializing a Python object structure.\n",
    "\n",
    "# Third party libraries\n",
    "from fastparquet import write # parquet format, aiming integrate into python-based big data work-flows\n",
    "from fuzzywuzzy import fuzz # used for string matching\n",
    "\n",
    "import numpy as np # functions for working in domain of linear algebra, fourier transform, matrices and arrays\n",
    "import pandas as pd # data analysis and manipulation tool\n",
    "import joblib # set of tools to provide lightweight pipelining in Python\n",
    "\n",
    "# deal with sparse data libraries\n",
    "from scipy.sparse import csr_matrix # Returns a copy of column i of the matrix, as a (m x 1) CSR matrix (column vector).\n",
    "\n",
    "# visualization\n",
    "#import seaborn as sns # data visualization library based on matplotlib.\n",
    "import matplotlib.pyplot as plt # collection of functions that make matplotlib work like MATLAB.\n",
    "\n",
    "## scikit Preprocessing data libraries\n",
    "from sklearn.preprocessing import MinMaxScaler # Transform features by scaling each feature to a given range.\n",
    "\n",
    "## scikit Feature Extraction libraries\n",
    "from sklearn.feature_extraction.text import TfidfVectorizer # Convert a collection of raw documents to a matrix of TF-IDF features\n",
    "from sklearn.feature_extraction.text import CountVectorizer # Convert a collection of text documents to a matrix of token counts.\n",
    "\n",
    "## scikit Pairwise metrics libraries\n",
    "#implements utilities to evaluate pairwise distances or affinity of sets of samples.\n",
    "from sklearn.metrics.pairwise import sigmoid_kernel\n",
    "from sklearn.metrics.pairwise import cosine_similarity \n",
    "from sklearn.metrics.pairwise import linear_kernel \n",
    "\n",
    "## scikit Cross validation iterators libraries\n",
    "from sklearn.model_selection import GridSearchCV\n",
    "\n",
    "# Unsupervised learner for implementing neighbor searches.\n",
    "from sklearn.neighbors import NearestNeighbors\n",
    "\n",
    "# setting display options\n",
    "pd.set_option('display.max_columns', None)\n",
    "pd.set_option('display.max_rows', None)\n",
    "pd.set_option('display.max_colwidth', None)\n",
    "\n",
    "# Utils libraries\n",
    "from utils import cleaning\n",
    "from utils import recommend\n",
    "from utils import testing\n",
    "from utils import training\n",
    "\n",
    "#Preparing folder variables\n",
    "os.chdir(os.path.dirname(sys.path[0])) # This command makes the notebook the main path and can work in cascade.\n",
    "main_folder = sys.path[0]\n",
    "data_folder = (main_folder + \"\\data\")\n",
    "saved_models_folder = (data_folder + \"\\saved_models\")\n",
    "raw_data = (data_folder + \"\\_raw\")\n",
    "processed_data = (data_folder + \"\\processed\")\n",
    "content_based_supervised_data = (data_folder + \"\\processed\\content_based_supervised\")"
   ]
  },
  {
   "attachments": {},
   "cell_type": "markdown",
   "metadata": {},
   "source": [
    "## Cleaning and preparing the data"
   ]
  },
  {
   "cell_type": "code",
   "execution_count": null,
   "metadata": {},
   "outputs": [],
   "source": [
    "anime = pd.read_csv(raw_data + \"/\" + \"anime.csv\")# load anime df"
   ]
  },
  {
   "cell_type": "code",
   "execution_count": null,
   "metadata": {},
   "outputs": [],
   "source": [
    "anime['genre'] = anime['genre'].str.split(', ')\n",
    "anime = anime.explode('genre')\n",
    "anime"
   ]
  },
  {
   "cell_type": "code",
   "execution_count": null,
   "metadata": {},
   "outputs": [
    {
     "data": {
      "text/plain": [
       "['Drama',\n",
       " 'Romance',\n",
       " 'School',\n",
       " 'Supernatural',\n",
       " 'Action',\n",
       " 'Adventure',\n",
       " 'Fantasy',\n",
       " 'Magic',\n",
       " 'Military',\n",
       " 'Shounen',\n",
       " 'Comedy',\n",
       " 'Historical',\n",
       " 'Parody',\n",
       " 'Samurai',\n",
       " 'Sci-Fi',\n",
       " 'Thriller',\n",
       " 'Sports',\n",
       " 'Super Power',\n",
       " 'Space',\n",
       " 'Slice of Life',\n",
       " 'Mecha',\n",
       " 'Music',\n",
       " 'Mystery',\n",
       " 'Seinen',\n",
       " 'Martial Arts',\n",
       " 'Vampire',\n",
       " 'Shoujo',\n",
       " 'Horror',\n",
       " 'Police',\n",
       " 'Psychological',\n",
       " 'Demons',\n",
       " 'Ecchi',\n",
       " 'Josei',\n",
       " 'Shounen Ai',\n",
       " 'Game',\n",
       " 'Dementia',\n",
       " 'Harem',\n",
       " 'Cars',\n",
       " 'Kids',\n",
       " 'Shoujo Ai',\n",
       " nan,\n",
       " 'Hentai',\n",
       " 'Yaoi',\n",
       " 'Yuri']"
      ]
     },
     "execution_count": 4,
     "metadata": {},
     "output_type": "execute_result"
    }
   ],
   "source": [
    "all_genres = anime['genre'].unique().tolist()\n",
    "all_genres"
   ]
  },
  {
   "cell_type": "code",
   "execution_count": null,
   "metadata": {},
   "outputs": [
    {
     "data": {
      "text/html": [
       "<div>\n",
       "<style scoped>\n",
       "    .dataframe tbody tr th:only-of-type {\n",
       "        vertical-align: middle;\n",
       "    }\n",
       "\n",
       "    .dataframe tbody tr th {\n",
       "        vertical-align: top;\n",
       "    }\n",
       "\n",
       "    .dataframe thead th {\n",
       "        text-align: right;\n",
       "    }\n",
       "</style>\n",
       "<table border=\"1\" class=\"dataframe\">\n",
       "  <thead>\n",
       "    <tr style=\"text-align: right;\">\n",
       "      <th></th>\n",
       "      <th>anime_id</th>\n",
       "      <th>name</th>\n",
       "      <th>genre</th>\n",
       "      <th>type</th>\n",
       "      <th>episodes</th>\n",
       "      <th>rating</th>\n",
       "      <th>members</th>\n",
       "    </tr>\n",
       "  </thead>\n",
       "  <tbody>\n",
       "    <tr>\n",
       "      <th>0</th>\n",
       "      <td>32281</td>\n",
       "      <td>Kimi no Na wa.</td>\n",
       "      <td>Drama, Romance, School, Supernatural</td>\n",
       "      <td>Movie</td>\n",
       "      <td>1</td>\n",
       "      <td>9.37</td>\n",
       "      <td>200630</td>\n",
       "    </tr>\n",
       "    <tr>\n",
       "      <th>1</th>\n",
       "      <td>5114</td>\n",
       "      <td>Fullmetal Alchemist: Brotherhood</td>\n",
       "      <td>Action, Adventure, Drama, Fantasy, Magic, Military, Shounen</td>\n",
       "      <td>TV</td>\n",
       "      <td>64</td>\n",
       "      <td>9.26</td>\n",
       "      <td>793665</td>\n",
       "    </tr>\n",
       "    <tr>\n",
       "      <th>2</th>\n",
       "      <td>28977</td>\n",
       "      <td>Gintama°</td>\n",
       "      <td>Action, Comedy, Historical, Parody, Samurai, Sci-Fi, Shounen</td>\n",
       "      <td>TV</td>\n",
       "      <td>51</td>\n",
       "      <td>9.25</td>\n",
       "      <td>114262</td>\n",
       "    </tr>\n",
       "    <tr>\n",
       "      <th>3</th>\n",
       "      <td>9253</td>\n",
       "      <td>Steins;Gate</td>\n",
       "      <td>Sci-Fi, Thriller</td>\n",
       "      <td>TV</td>\n",
       "      <td>24</td>\n",
       "      <td>9.17</td>\n",
       "      <td>673572</td>\n",
       "    </tr>\n",
       "    <tr>\n",
       "      <th>4</th>\n",
       "      <td>9969</td>\n",
       "      <td>Gintama&amp;#039;</td>\n",
       "      <td>Action, Comedy, Historical, Parody, Samurai, Sci-Fi, Shounen</td>\n",
       "      <td>TV</td>\n",
       "      <td>51</td>\n",
       "      <td>9.16</td>\n",
       "      <td>151266</td>\n",
       "    </tr>\n",
       "  </tbody>\n",
       "</table>\n",
       "</div>"
      ],
      "text/plain": [
       "   anime_id                              name  \\\n",
       "0     32281                    Kimi no Na wa.   \n",
       "1      5114  Fullmetal Alchemist: Brotherhood   \n",
       "2     28977                          Gintama°   \n",
       "3      9253                       Steins;Gate   \n",
       "4      9969                     Gintama&#039;   \n",
       "\n",
       "                                                          genre   type  \\\n",
       "0                          Drama, Romance, School, Supernatural  Movie   \n",
       "1   Action, Adventure, Drama, Fantasy, Magic, Military, Shounen     TV   \n",
       "2  Action, Comedy, Historical, Parody, Samurai, Sci-Fi, Shounen     TV   \n",
       "3                                              Sci-Fi, Thriller     TV   \n",
       "4  Action, Comedy, Historical, Parody, Samurai, Sci-Fi, Shounen     TV   \n",
       "\n",
       "  episodes  rating  members  \n",
       "0        1    9.37   200630  \n",
       "1       64    9.26   793665  \n",
       "2       51    9.25   114262  \n",
       "3       24    9.17   673572  \n",
       "4       51    9.16   151266  "
      ]
     },
     "execution_count": 3,
     "metadata": {},
     "output_type": "execute_result"
    }
   ],
   "source": [
    "anime.head(5)"
   ]
  },
  {
   "cell_type": "code",
   "execution_count": null,
   "metadata": {},
   "outputs": [
    {
     "data": {
      "text/plain": [
       "(12294, 7)"
      ]
     },
     "execution_count": 3,
     "metadata": {},
     "output_type": "execute_result"
    }
   ],
   "source": [
    "anime.shape"
   ]
  },
  {
   "cell_type": "code",
   "execution_count": null,
   "metadata": {},
   "outputs": [
    {
     "data": {
      "text/plain": [
       "array(['Drama', 'Romance', 'School', 'Supernatural', 'Action',\n",
       "       'Adventure', 'Fantasy', 'Magic', 'Military', 'Shounen', 'Comedy',\n",
       "       'Historical', 'Parody', 'Samurai', 'Sci-Fi', 'Thriller', 'Sports',\n",
       "       'Super Power', 'Space', 'Slice of Life', 'Mecha', 'Music',\n",
       "       'Mystery', 'Seinen', 'Martial Arts', 'Vampire', 'Shoujo', 'Horror',\n",
       "       'Police', 'Psychological', 'Demons', 'Ecchi', 'Josei',\n",
       "       'Shounen Ai', 'Game', 'Dementia', 'Harem', 'Cars', 'Kids',\n",
       "       'Shoujo Ai', 'Hentai', 'Yaoi', 'Yuri'], dtype=object)"
      ]
     },
     "execution_count": 6,
     "metadata": {},
     "output_type": "execute_result"
    }
   ],
   "source": [
    "genres_string = anime.genre.str.split(', ',expand=True).stack().unique()\n",
    "genres_string"
   ]
  },
  {
   "cell_type": "code",
   "execution_count": null,
   "metadata": {},
   "outputs": [
    {
     "data": {
      "text/plain": [
       "['Drama',\n",
       " 'Romance',\n",
       " 'School',\n",
       " 'Supernatural',\n",
       " 'Action',\n",
       " 'Adventure',\n",
       " 'Fantasy',\n",
       " 'Magic',\n",
       " 'Military',\n",
       " 'Shounen',\n",
       " 'Comedy',\n",
       " 'Historical',\n",
       " 'Parody',\n",
       " 'Samurai',\n",
       " 'Sci-Fi',\n",
       " 'Thriller',\n",
       " 'Sports',\n",
       " 'Super Power',\n",
       " 'Space',\n",
       " 'Slice of Life',\n",
       " 'Mecha',\n",
       " 'Music',\n",
       " 'Mystery',\n",
       " 'Seinen',\n",
       " 'Martial Arts',\n",
       " 'Vampire',\n",
       " 'Shoujo',\n",
       " 'Horror',\n",
       " 'Police',\n",
       " 'Psychological',\n",
       " 'Demons',\n",
       " 'Ecchi',\n",
       " 'Josei',\n",
       " 'Shounen Ai',\n",
       " 'Game',\n",
       " 'Dementia',\n",
       " 'Harem',\n",
       " 'Cars',\n",
       " 'Kids',\n",
       " 'Shoujo Ai',\n",
       " 'Hentai',\n",
       " 'Yaoi',\n",
       " 'Yuri']"
      ]
     },
     "execution_count": 9,
     "metadata": {},
     "output_type": "execute_result"
    }
   ],
   "source": [
    "genres_list = genres_string.tolist()\n",
    "genres_list"
   ]
  },
  {
   "cell_type": "code",
   "execution_count": null,
   "metadata": {},
   "outputs": [
    {
     "data": {
      "text/plain": [
       "array(['Drama', 'Romance', 'School', 'Supernatural', 'Action',\n",
       "       'Adventure', 'Fantasy', 'Magic', 'Military', 'Shounen', 'Comedy',\n",
       "       'Historical', 'Parody', 'Samurai', 'Sci-Fi', 'Thriller', 'Sports',\n",
       "       'Super Power', 'Space', 'Slice of Life', 'Mecha', 'Music',\n",
       "       'Mystery', 'Seinen', 'Martial Arts', 'Vampire', 'Shoujo', 'Horror',\n",
       "       'Police', 'Psychological', 'Demons', 'Ecchi', 'Josei',\n",
       "       'Shounen Ai', 'Game', 'Dementia', 'Harem', 'Cars', 'Kids',\n",
       "       'Shoujo Ai', 'Hentai', 'Yaoi', 'Yuri'], dtype=object)"
      ]
     },
     "execution_count": 7,
     "metadata": {},
     "output_type": "execute_result"
    }
   ],
   "source": [
    "# Check unique values in genre\n",
    "anime.genre.str.split(', ',expand=True).stack().unique()"
   ]
  },
  {
   "cell_type": "code",
   "execution_count": null,
   "metadata": {},
   "outputs": [
    {
     "data": {
      "text/plain": [
       "array(['Movie', 'TV', 'OVA', 'Special', 'Music', 'ONA', nan], dtype=object)"
      ]
     },
     "execution_count": 6,
     "metadata": {},
     "output_type": "execute_result"
    }
   ],
   "source": [
    "anime['type'].unique()"
   ]
  },
  {
   "cell_type": "code",
   "execution_count": 2,
   "metadata": {},
   "outputs": [],
   "source": [
    "anime = pd.read_csv(processed_data + \"/\" + \"anime_final.csv\",sep=\",\")"
   ]
  },
  {
   "cell_type": "code",
   "execution_count": 3,
   "metadata": {},
   "outputs": [
    {
     "data": {
      "text/html": [
       "<div>\n",
       "<style scoped>\n",
       "    .dataframe tbody tr th:only-of-type {\n",
       "        vertical-align: middle;\n",
       "    }\n",
       "\n",
       "    .dataframe tbody tr th {\n",
       "        vertical-align: top;\n",
       "    }\n",
       "\n",
       "    .dataframe thead th {\n",
       "        text-align: right;\n",
       "    }\n",
       "</style>\n",
       "<table border=\"1\" class=\"dataframe\">\n",
       "  <thead>\n",
       "    <tr style=\"text-align: right;\">\n",
       "      <th></th>\n",
       "      <th>anime_id</th>\n",
       "      <th>name</th>\n",
       "      <th>english_title</th>\n",
       "      <th>japanses_title</th>\n",
       "      <th>genre</th>\n",
       "      <th>type</th>\n",
       "      <th>source</th>\n",
       "      <th>duration</th>\n",
       "      <th>episodes</th>\n",
       "      <th>rating</th>\n",
       "      <th>score</th>\n",
       "      <th>rank</th>\n",
       "      <th>members</th>\n",
       "      <th>synopsis</th>\n",
       "      <th>cover</th>\n",
       "    </tr>\n",
       "  </thead>\n",
       "  <tbody>\n",
       "    <tr>\n",
       "      <th>0</th>\n",
       "      <td>1</td>\n",
       "      <td>cowboy bebop</td>\n",
       "      <td>Cowboy Bebop</td>\n",
       "      <td>カウボーイビバップ</td>\n",
       "      <td>Action, Adventure, Comedy, Drama, Sci-Fi, Space</td>\n",
       "      <td>TV</td>\n",
       "      <td>Original</td>\n",
       "      <td>24 min per ep</td>\n",
       "      <td>26</td>\n",
       "      <td>R - 17+ (violence &amp; profanity)</td>\n",
       "      <td>8.75</td>\n",
       "      <td>40.0</td>\n",
       "      <td>486824.0</td>\n",
       "      <td>Crime is timeless. By the year 2071, humanity has expanded across the galaxy, filling the surface of other planets with settlements like those on Earth. These new societies are plagued by murder, drug use, and theft, and intergalactic outlaws are hunted by a growing number of tough bounty hunters.\\n\\nSpike Spiegel and Jet Black pursue criminals throughout space to make a humble living. Beneath his goofy and aloof demeanor, Spike is haunted by the weight of his violent past. Meanwhile, Jet manages his own troubled memories while taking care of Spike and the Bebop, their ship. The duo is joined by the beautiful con artist Faye Valentine, odd child Edward Wong Hau Pepelu Tivrusky IV, and Ein, a bioengineered Welsh Corgi.\\n\\nWhile developing bonds and working to catch a colorful cast of criminals, the Bebop crew's lives are disrupted by a menace from Spike's past. As a rival's maniacal plot continues to unravel, Spike must choose between life with his newfound family or revenge for his old wounds.\\n\\n[Written by MAL Rewrite]</td>\n",
       "      <td>https://cdn.myanimelist.net/images/anime/4/19644l.jpg</td>\n",
       "    </tr>\n",
       "  </tbody>\n",
       "</table>\n",
       "</div>"
      ],
      "text/plain": [
       "   anime_id          name english_title japanses_title  \\\n",
       "0         1  cowboy bebop  Cowboy Bebop      カウボーイビバップ   \n",
       "\n",
       "                                             genre type    source  \\\n",
       "0  Action, Adventure, Comedy, Drama, Sci-Fi, Space   TV  Original   \n",
       "\n",
       "        duration episodes                          rating  score  rank  \\\n",
       "0  24 min per ep       26  R - 17+ (violence & profanity)   8.75  40.0   \n",
       "\n",
       "    members  \\\n",
       "0  486824.0   \n",
       "\n",
       "                                                                                                                                                                                                                                                                                                                                                                                                                                                                                                                                                                                                                                                                                                                                                                                                                                                                                                                                                                                                                                                                       synopsis  \\\n",
       "0  Crime is timeless. By the year 2071, humanity has expanded across the galaxy, filling the surface of other planets with settlements like those on Earth. These new societies are plagued by murder, drug use, and theft, and intergalactic outlaws are hunted by a growing number of tough bounty hunters.\\n\\nSpike Spiegel and Jet Black pursue criminals throughout space to make a humble living. Beneath his goofy and aloof demeanor, Spike is haunted by the weight of his violent past. Meanwhile, Jet manages his own troubled memories while taking care of Spike and the Bebop, their ship. The duo is joined by the beautiful con artist Faye Valentine, odd child Edward Wong Hau Pepelu Tivrusky IV, and Ein, a bioengineered Welsh Corgi.\\n\\nWhile developing bonds and working to catch a colorful cast of criminals, the Bebop crew's lives are disrupted by a menace from Spike's past. As a rival's maniacal plot continues to unravel, Spike must choose between life with his newfound family or revenge for his old wounds.\\n\\n[Written by MAL Rewrite]   \n",
       "\n",
       "                                                   cover  \n",
       "0  https://cdn.myanimelist.net/images/anime/4/19644l.jpg  "
      ]
     },
     "execution_count": 3,
     "metadata": {},
     "output_type": "execute_result"
    }
   ],
   "source": [
    "anime_cleaned = cleaning.clean_anime_df(anime)\n",
    "anime_cleaned.head(1)\n",
    "\n"
   ]
  },
  {
   "cell_type": "code",
   "execution_count": 4,
   "metadata": {},
   "outputs": [
    {
     "data": {
      "text/plain": [
       "(12121, 15)"
      ]
     },
     "execution_count": 4,
     "metadata": {},
     "output_type": "execute_result"
    }
   ],
   "source": [
    "anime_cleaned.shape"
   ]
  },
  {
   "cell_type": "code",
   "execution_count": 5,
   "metadata": {},
   "outputs": [
    {
     "data": {
      "text/html": [
       "<div>\n",
       "<style scoped>\n",
       "    .dataframe tbody tr th:only-of-type {\n",
       "        vertical-align: middle;\n",
       "    }\n",
       "\n",
       "    .dataframe tbody tr th {\n",
       "        vertical-align: top;\n",
       "    }\n",
       "\n",
       "    .dataframe thead th {\n",
       "        text-align: right;\n",
       "    }\n",
       "</style>\n",
       "<table border=\"1\" class=\"dataframe\">\n",
       "  <thead>\n",
       "    <tr style=\"text-align: right;\">\n",
       "      <th></th>\n",
       "      <th>anime_id</th>\n",
       "      <th>name</th>\n",
       "      <th>english_title</th>\n",
       "      <th>japanses_title</th>\n",
       "      <th>genre</th>\n",
       "      <th>type</th>\n",
       "      <th>source</th>\n",
       "      <th>duration</th>\n",
       "      <th>episodes</th>\n",
       "      <th>rating</th>\n",
       "      <th>score</th>\n",
       "      <th>rank</th>\n",
       "      <th>members</th>\n",
       "      <th>synopsis</th>\n",
       "      <th>cover</th>\n",
       "    </tr>\n",
       "  </thead>\n",
       "  <tbody>\n",
       "    <tr>\n",
       "      <th>0</th>\n",
       "      <td>1</td>\n",
       "      <td>cowboy bebop</td>\n",
       "      <td>Cowboy Bebop</td>\n",
       "      <td>カウボーイビバップ</td>\n",
       "      <td>Action, Adventure, Comedy, Drama, Sci-Fi, Space</td>\n",
       "      <td>TV</td>\n",
       "      <td>Original</td>\n",
       "      <td>24 min per ep</td>\n",
       "      <td>26</td>\n",
       "      <td>R - 17+ (violence &amp; profanity)</td>\n",
       "      <td>8.75</td>\n",
       "      <td>40.0</td>\n",
       "      <td>486824.0</td>\n",
       "      <td>Crime is timeless. By the year 2071, humanity has expanded across the galaxy, filling the surface of other planets with settlements like those on Earth. These new societies are plagued by murder, drug use, and theft, and intergalactic outlaws are hunted by a growing number of tough bounty hunters.\\n\\nSpike Spiegel and Jet Black pursue criminals throughout space to make a humble living. Beneath his goofy and aloof demeanor, Spike is haunted by the weight of his violent past. Meanwhile, Jet manages his own troubled memories while taking care of Spike and the Bebop, their ship. The duo is joined by the beautiful con artist Faye Valentine, odd child Edward Wong Hau Pepelu Tivrusky IV, and Ein, a bioengineered Welsh Corgi.\\n\\nWhile developing bonds and working to catch a colorful cast of criminals, the Bebop crew's lives are disrupted by a menace from Spike's past. As a rival's maniacal plot continues to unravel, Spike must choose between life with his newfound family or revenge for his old wounds.\\n\\n[Written by MAL Rewrite]</td>\n",
       "      <td>https://cdn.myanimelist.net/images/anime/4/19644l.jpg</td>\n",
       "    </tr>\n",
       "    <tr>\n",
       "      <th>1</th>\n",
       "      <td>5</td>\n",
       "      <td>cowboy bebop  tengoku no tobira</td>\n",
       "      <td>Cowboy Bebop: Tengoku no Tobira</td>\n",
       "      <td>カウボーイビバップ 天国の扉</td>\n",
       "      <td>Action, Drama, Mystery, Sci-Fi, Space</td>\n",
       "      <td>Movie</td>\n",
       "      <td>Original</td>\n",
       "      <td>1 hr 55 min</td>\n",
       "      <td>1</td>\n",
       "      <td>R - 17+ (violence &amp; profanity)</td>\n",
       "      <td>8.38</td>\n",
       "      <td>185.0</td>\n",
       "      <td>137636.0</td>\n",
       "      <td>Another day, another bounty—such is the life of the often unlucky crew of the Bebop. However, this routine is interrupted when Faye, who is chasing a fairly worthless target on Mars, witnesses an oil tanker suddenly explode, causing mass hysteria. As casualties mount due to a strange disease spreading through the smoke from the blast, a whopping three hundred million woolong price is placed on the head of the supposed perpetrator.\\n\\nWith lives at stake and a solution to their money problems in sight, the Bebop crew springs into action. Spike, Jet, Faye, and Edward, followed closely by Ein, split up to pursue different leads across Alba City. Through their individual investigations, they discover a cover-up scheme involving a pharmaceutical company, revealing a plot that reaches much further than the ragtag team of bounty hunters could have realized.\\n\\n[Written by MAL Rewrite]</td>\n",
       "      <td>https://cdn.myanimelist.net/images/anime/1439/93480l.jpg</td>\n",
       "    </tr>\n",
       "    <tr>\n",
       "      <th>2</th>\n",
       "      <td>6</td>\n",
       "      <td>trigun</td>\n",
       "      <td>Trigun</td>\n",
       "      <td>トライガン</td>\n",
       "      <td>Action, Comedy, Sci-Fi</td>\n",
       "      <td>TV</td>\n",
       "      <td>Manga</td>\n",
       "      <td>24 min per ep</td>\n",
       "      <td>26</td>\n",
       "      <td>PG-13 - Teens 13 or older</td>\n",
       "      <td>8.22</td>\n",
       "      <td>315.0</td>\n",
       "      <td>283069.0</td>\n",
       "      <td>Vash the Stampede is the man with a $$60,000,000,000 bounty on his head. The reason: he's a merciless villain who lays waste to all those that oppose him and flattens entire cities for fun, garnering him the title \"The Humanoid Typhoon.\" He leaves a trail of death and destruction wherever he goes, and anyone can count themselves dead if they so much as make eye contact—or so the rumors say. In actuality, Vash is a huge softie who claims to have never taken a life and avoids violence at all costs.\\n\\nWith his crazy doughnut obsession and buffoonish attitude in tow, Vash traverses the wasteland of the planet Gunsmoke, all the while followed by two insurance agents, Meryl Stryfe and Milly Thompson, who attempt to minimize his impact on the public. But soon, their misadventures evolve into life-or-death situations as a group of legendary assassins are summoned to bring about suffering to the trio. Vash's agonizing past will be unraveled and his morality and principles pushed to the breaking point.\\n\\n[Written by MAL Rewrite]</td>\n",
       "      <td>https://cdn.myanimelist.net/images/anime/7/20310l.jpg</td>\n",
       "    </tr>\n",
       "    <tr>\n",
       "      <th>3</th>\n",
       "      <td>7</td>\n",
       "      <td>witch hunter robin</td>\n",
       "      <td>Witch Hunter Robin</td>\n",
       "      <td>Witch Hunter ROBIN (ウイッチハンターロビン)</td>\n",
       "      <td>Action, Drama, Magic, Mystery, Police, Supernatural</td>\n",
       "      <td>TV</td>\n",
       "      <td>Original</td>\n",
       "      <td>25 min per ep</td>\n",
       "      <td>26</td>\n",
       "      <td>PG-13 - Teens 13 or older</td>\n",
       "      <td>7.25</td>\n",
       "      <td>2791.0</td>\n",
       "      <td>64905.0</td>\n",
       "      <td>Robin Sena is a powerful craft user drafted into the STNJ—a group of specialized hunters that fight deadly beings known as Witches. Though her fire power is great, she's got a lot to learn about her powers and working with her cool and aloof partner, Amon. But the truth about the Witches and herself will leave Robin on an entirely new path that she never expected!\\n\\n(Source: Funimation)</td>\n",
       "      <td>https://cdn.myanimelist.net/images/anime/10/19969l.jpg</td>\n",
       "    </tr>\n",
       "    <tr>\n",
       "      <th>4</th>\n",
       "      <td>8</td>\n",
       "      <td>beet the vandel buster</td>\n",
       "      <td>Bouken Ou Beet</td>\n",
       "      <td>冒険王ビィト</td>\n",
       "      <td>Adventure, Fantasy, Shounen, Supernatural</td>\n",
       "      <td>TV</td>\n",
       "      <td>Manga</td>\n",
       "      <td>23 min per ep</td>\n",
       "      <td>52</td>\n",
       "      <td>PG - Children</td>\n",
       "      <td>6.94</td>\n",
       "      <td>4310.0</td>\n",
       "      <td>9848.0</td>\n",
       "      <td>It is the dark century and the people are suffering under the rule of the devil, Vandel, who is able to manipulate monsters. The Vandel Busters are a group of people who hunt these devils, and among them, the Zenon Squad is known to be the strongest busters on the continent. A young boy, Beet, dreams of joining the Zenon Squad. However, one day, as a result of Beet's fault, the Zenon squad was defeated by the devil, Beltose. The five dying busters sacrificed their life power into their five weapons, Saiga. After giving their weapons to Beet, they passed away. Years have passed since then and the young Vandel Buster, Beet, begins his adventure to carry out the Zenon Squad's will to put an end to the dark century.</td>\n",
       "      <td>https://cdn.myanimelist.net/images/anime/7/21569l.jpg</td>\n",
       "    </tr>\n",
       "  </tbody>\n",
       "</table>\n",
       "</div>"
      ],
      "text/plain": [
       "   anime_id                             name                    english_title  \\\n",
       "0         1                     cowboy bebop                     Cowboy Bebop   \n",
       "1         5  cowboy bebop  tengoku no tobira  Cowboy Bebop: Tengoku no Tobira   \n",
       "2         6                           trigun                           Trigun   \n",
       "3         7               witch hunter robin               Witch Hunter Robin   \n",
       "4         8           beet the vandel buster                   Bouken Ou Beet   \n",
       "\n",
       "                     japanses_title  \\\n",
       "0                         カウボーイビバップ   \n",
       "1                    カウボーイビバップ 天国の扉   \n",
       "2                             トライガン   \n",
       "3  Witch Hunter ROBIN (ウイッチハンターロビン)   \n",
       "4                            冒険王ビィト   \n",
       "\n",
       "                                                 genre   type    source  \\\n",
       "0      Action, Adventure, Comedy, Drama, Sci-Fi, Space     TV  Original   \n",
       "1                Action, Drama, Mystery, Sci-Fi, Space  Movie  Original   \n",
       "2                               Action, Comedy, Sci-Fi     TV     Manga   \n",
       "3  Action, Drama, Magic, Mystery, Police, Supernatural     TV  Original   \n",
       "4            Adventure, Fantasy, Shounen, Supernatural     TV     Manga   \n",
       "\n",
       "        duration episodes                          rating  score    rank  \\\n",
       "0  24 min per ep       26  R - 17+ (violence & profanity)   8.75    40.0   \n",
       "1    1 hr 55 min        1  R - 17+ (violence & profanity)   8.38   185.0   \n",
       "2  24 min per ep       26       PG-13 - Teens 13 or older   8.22   315.0   \n",
       "3  25 min per ep       26       PG-13 - Teens 13 or older   7.25  2791.0   \n",
       "4  23 min per ep       52                   PG - Children   6.94  4310.0   \n",
       "\n",
       "    members  \\\n",
       "0  486824.0   \n",
       "1  137636.0   \n",
       "2  283069.0   \n",
       "3   64905.0   \n",
       "4    9848.0   \n",
       "\n",
       "                                                                                                                                                                                                                                                                                                                                                                                                                                                                                                                                                                                                                                                                                                                                                                                                                                                                                                                                                                                                                                                                       synopsis  \\\n",
       "0  Crime is timeless. By the year 2071, humanity has expanded across the galaxy, filling the surface of other planets with settlements like those on Earth. These new societies are plagued by murder, drug use, and theft, and intergalactic outlaws are hunted by a growing number of tough bounty hunters.\\n\\nSpike Spiegel and Jet Black pursue criminals throughout space to make a humble living. Beneath his goofy and aloof demeanor, Spike is haunted by the weight of his violent past. Meanwhile, Jet manages his own troubled memories while taking care of Spike and the Bebop, their ship. The duo is joined by the beautiful con artist Faye Valentine, odd child Edward Wong Hau Pepelu Tivrusky IV, and Ein, a bioengineered Welsh Corgi.\\n\\nWhile developing bonds and working to catch a colorful cast of criminals, the Bebop crew's lives are disrupted by a menace from Spike's past. As a rival's maniacal plot continues to unravel, Spike must choose between life with his newfound family or revenge for his old wounds.\\n\\n[Written by MAL Rewrite]   \n",
       "1                                                                                                                                                    Another day, another bounty—such is the life of the often unlucky crew of the Bebop. However, this routine is interrupted when Faye, who is chasing a fairly worthless target on Mars, witnesses an oil tanker suddenly explode, causing mass hysteria. As casualties mount due to a strange disease spreading through the smoke from the blast, a whopping three hundred million woolong price is placed on the head of the supposed perpetrator.\\n\\nWith lives at stake and a solution to their money problems in sight, the Bebop crew springs into action. Spike, Jet, Faye, and Edward, followed closely by Ein, split up to pursue different leads across Alba City. Through their individual investigations, they discover a cover-up scheme involving a pharmaceutical company, revealing a plot that reaches much further than the ragtag team of bounty hunters could have realized.\\n\\n[Written by MAL Rewrite]   \n",
       "2  Vash the Stampede is the man with a $$60,000,000,000 bounty on his head. The reason: he's a merciless villain who lays waste to all those that oppose him and flattens entire cities for fun, garnering him the title \"The Humanoid Typhoon.\" He leaves a trail of death and destruction wherever he goes, and anyone can count themselves dead if they so much as make eye contact—or so the rumors say. In actuality, Vash is a huge softie who claims to have never taken a life and avoids violence at all costs.\\n\\nWith his crazy doughnut obsession and buffoonish attitude in tow, Vash traverses the wasteland of the planet Gunsmoke, all the while followed by two insurance agents, Meryl Stryfe and Milly Thompson, who attempt to minimize his impact on the public. But soon, their misadventures evolve into life-or-death situations as a group of legendary assassins are summoned to bring about suffering to the trio. Vash's agonizing past will be unraveled and his morality and principles pushed to the breaking point.\\n\\n[Written by MAL Rewrite]   \n",
       "3                                                                                                                                                                                                                                                                                                                                                                                                                                                                                                                                                                                                                                                                        Robin Sena is a powerful craft user drafted into the STNJ—a group of specialized hunters that fight deadly beings known as Witches. Though her fire power is great, she's got a lot to learn about her powers and working with her cool and aloof partner, Amon. But the truth about the Witches and herself will leave Robin on an entirely new path that she never expected!\\n\\n(Source: Funimation)   \n",
       "4                                                                                                                                                                                                                                                                                                                             It is the dark century and the people are suffering under the rule of the devil, Vandel, who is able to manipulate monsters. The Vandel Busters are a group of people who hunt these devils, and among them, the Zenon Squad is known to be the strongest busters on the continent. A young boy, Beet, dreams of joining the Zenon Squad. However, one day, as a result of Beet's fault, the Zenon squad was defeated by the devil, Beltose. The five dying busters sacrificed their life power into their five weapons, Saiga. After giving their weapons to Beet, they passed away. Years have passed since then and the young Vandel Buster, Beet, begins his adventure to carry out the Zenon Squad's will to put an end to the dark century.   \n",
       "\n",
       "                                                      cover  \n",
       "0     https://cdn.myanimelist.net/images/anime/4/19644l.jpg  \n",
       "1  https://cdn.myanimelist.net/images/anime/1439/93480l.jpg  \n",
       "2     https://cdn.myanimelist.net/images/anime/7/20310l.jpg  \n",
       "3    https://cdn.myanimelist.net/images/anime/10/19969l.jpg  \n",
       "4     https://cdn.myanimelist.net/images/anime/7/21569l.jpg  "
      ]
     },
     "execution_count": 5,
     "metadata": {},
     "output_type": "execute_result"
    }
   ],
   "source": [
    "anime_cleaned.head()"
   ]
  },
  {
   "cell_type": "code",
   "execution_count": 6,
   "metadata": {},
   "outputs": [],
   "source": [
    "anime_features = cleaning.prepare_supervised_content_based(anime_cleaned)"
   ]
  },
  {
   "cell_type": "code",
   "execution_count": 7,
   "metadata": {},
   "outputs": [
    {
     "data": {
      "text/html": [
       "<div>\n",
       "<style scoped>\n",
       "    .dataframe tbody tr th:only-of-type {\n",
       "        vertical-align: middle;\n",
       "    }\n",
       "\n",
       "    .dataframe tbody tr th {\n",
       "        vertical-align: top;\n",
       "    }\n",
       "\n",
       "    .dataframe thead th {\n",
       "        text-align: right;\n",
       "    }\n",
       "</style>\n",
       "<table border=\"1\" class=\"dataframe\">\n",
       "  <thead>\n",
       "    <tr style=\"text-align: right;\">\n",
       "      <th></th>\n",
       "      <th>Action</th>\n",
       "      <th>Adventure</th>\n",
       "      <th>Comedy</th>\n",
       "      <th>Drama</th>\n",
       "      <th>Dementia</th>\n",
       "      <th>Mecha</th>\n",
       "      <th>Historical</th>\n",
       "      <th>School</th>\n",
       "      <th>Hentai</th>\n",
       "      <th>Horror</th>\n",
       "      <th>Demons</th>\n",
       "      <th>Ecchi</th>\n",
       "      <th>Fantasy</th>\n",
       "      <th>Shounen</th>\n",
       "      <th>Game</th>\n",
       "      <th>Mystery</th>\n",
       "      <th>Cars</th>\n",
       "      <th>Magic</th>\n",
       "      <th>Romance</th>\n",
       "      <th>Sci-Fi</th>\n",
       "      <th>Harem</th>\n",
       "      <th>Kids</th>\n",
       "      <th>Shoujo</th>\n",
       "      <th>Military</th>\n",
       "      <th>Super Power</th>\n",
       "      <th>Martial Arts</th>\n",
       "      <th>Music</th>\n",
       "      <th>Slice of Life</th>\n",
       "      <th>Sports</th>\n",
       "      <th>Supernatural</th>\n",
       "      <th>Parody</th>\n",
       "      <th>Vampire</th>\n",
       "      <th>Psychological</th>\n",
       "      <th>Samurai</th>\n",
       "      <th>Yaoi</th>\n",
       "      <th>Seinen</th>\n",
       "      <th>Josei</th>\n",
       "      <th>Thriller</th>\n",
       "      <th>Space</th>\n",
       "      <th>Shounen Ai</th>\n",
       "      <th>Police</th>\n",
       "      <th>Yuri</th>\n",
       "      <th>Shoujo Ai</th>\n",
       "      <th>Movie</th>\n",
       "      <th>Music</th>\n",
       "      <th>ONA</th>\n",
       "      <th>OVA</th>\n",
       "      <th>Special</th>\n",
       "      <th>TV</th>\n",
       "    </tr>\n",
       "  </thead>\n",
       "  <tbody>\n",
       "    <tr>\n",
       "      <th>0</th>\n",
       "      <td>1</td>\n",
       "      <td>1</td>\n",
       "      <td>1</td>\n",
       "      <td>1</td>\n",
       "      <td>0</td>\n",
       "      <td>0</td>\n",
       "      <td>0</td>\n",
       "      <td>0</td>\n",
       "      <td>0</td>\n",
       "      <td>0</td>\n",
       "      <td>0</td>\n",
       "      <td>0</td>\n",
       "      <td>0</td>\n",
       "      <td>0</td>\n",
       "      <td>0</td>\n",
       "      <td>0</td>\n",
       "      <td>0</td>\n",
       "      <td>0</td>\n",
       "      <td>0</td>\n",
       "      <td>1</td>\n",
       "      <td>0</td>\n",
       "      <td>0</td>\n",
       "      <td>0</td>\n",
       "      <td>0</td>\n",
       "      <td>0</td>\n",
       "      <td>0</td>\n",
       "      <td>0</td>\n",
       "      <td>0</td>\n",
       "      <td>0</td>\n",
       "      <td>0</td>\n",
       "      <td>0</td>\n",
       "      <td>0</td>\n",
       "      <td>0</td>\n",
       "      <td>0</td>\n",
       "      <td>0</td>\n",
       "      <td>0</td>\n",
       "      <td>0</td>\n",
       "      <td>0</td>\n",
       "      <td>1</td>\n",
       "      <td>0</td>\n",
       "      <td>0</td>\n",
       "      <td>0</td>\n",
       "      <td>0</td>\n",
       "      <td>0</td>\n",
       "      <td>0</td>\n",
       "      <td>0</td>\n",
       "      <td>0</td>\n",
       "      <td>0</td>\n",
       "      <td>1</td>\n",
       "    </tr>\n",
       "  </tbody>\n",
       "</table>\n",
       "</div>"
      ],
      "text/plain": [
       "   Action  Adventure  Comedy  Drama  Dementia  Mecha  Historical  School  \\\n",
       "0       1          1       1      1         0      0           0       0   \n",
       "\n",
       "   Hentai  Horror  Demons  Ecchi  Fantasy  Shounen  Game  Mystery  Cars  \\\n",
       "0       0       0       0      0        0        0     0        0     0   \n",
       "\n",
       "   Magic  Romance  Sci-Fi  Harem  Kids  Shoujo  Military  Super Power  \\\n",
       "0      0        0       1      0     0       0         0            0   \n",
       "\n",
       "   Martial Arts  Music  Slice of Life  Sports  Supernatural  Parody  Vampire  \\\n",
       "0             0      0              0       0             0       0        0   \n",
       "\n",
       "   Psychological  Samurai  Yaoi  Seinen  Josei  Thriller  Space  Shounen Ai  \\\n",
       "0              0        0     0       0      0         0      1           0   \n",
       "\n",
       "   Police  Yuri  Shoujo Ai  Movie  Music  ONA  OVA  Special  TV  \n",
       "0       0     0          0      0      0    0    0        0   1  "
      ]
     },
     "execution_count": 7,
     "metadata": {},
     "output_type": "execute_result"
    }
   ],
   "source": [
    "anime_features.head(1)"
   ]
  },
  {
   "cell_type": "code",
   "execution_count": 8,
   "metadata": {},
   "outputs": [
    {
     "data": {
      "text/plain": [
       "(12121, 49)"
      ]
     },
     "execution_count": 8,
     "metadata": {},
     "output_type": "execute_result"
    }
   ],
   "source": [
    "anime_features.shape"
   ]
  },
  {
   "cell_type": "code",
   "execution_count": 9,
   "metadata": {},
   "outputs": [],
   "source": [
    "min_max = MinMaxScaler()\n",
    "min_max_features = min_max.fit_transform(anime_features)"
   ]
  },
  {
   "cell_type": "code",
   "execution_count": 10,
   "metadata": {},
   "outputs": [
    {
     "data": {
      "text/plain": [
       "(12121, 49)"
      ]
     },
     "execution_count": 10,
     "metadata": {},
     "output_type": "execute_result"
    }
   ],
   "source": [
    "min_max_features.shape"
   ]
  },
  {
   "cell_type": "code",
   "execution_count": 11,
   "metadata": {},
   "outputs": [
    {
     "data": {
      "text/plain": [
       "array([[1., 1., 1., ..., 0., 0., 1.],\n",
       "       [1., 0., 0., ..., 0., 0., 0.],\n",
       "       [1., 0., 1., ..., 0., 0., 1.],\n",
       "       ...,\n",
       "       [0., 0., 0., ..., 0., 0., 1.],\n",
       "       [0., 0., 1., ..., 0., 0., 1.],\n",
       "       [0., 1., 0., ..., 0., 0., 0.]])"
      ]
     },
     "execution_count": 11,
     "metadata": {},
     "output_type": "execute_result"
    }
   ],
   "source": [
    "np.round(min_max_features,2)"
   ]
  },
  {
   "attachments": {},
   "cell_type": "markdown",
   "metadata": {},
   "source": [
    "## Finding the best parameters for NearestNeighbors model"
   ]
  },
  {
   "cell_type": "code",
   "execution_count": 12,
   "metadata": {},
   "outputs": [
    {
     "name": "stderr",
     "output_type": "stream",
     "text": [
      "c:\\Users\\christiandda\\miniconda3\\envs\\stlit\\lib\\site-packages\\sklearn\\model_selection\\_search.py:952: UserWarning: One or more of the test scores are non-finite: [nan nan nan ... nan nan nan]\n",
      "  warnings.warn(\n"
     ]
    },
    {
     "data": {
      "text/plain": [
       "{'algorithm': 'auto',\n",
       " 'leaf_size': 30,\n",
       " 'metric': 'minkowski',\n",
       " 'n_neighbors': 1,\n",
       " 'p': 1,\n",
       " 'radius': 0.0}"
      ]
     },
     "execution_count": 12,
     "metadata": {},
     "output_type": "execute_result"
    }
   ],
   "source": [
    "testing.param_NearestNeighbors(min_max_features)"
   ]
  },
  {
   "attachments": {},
   "cell_type": "markdown",
   "metadata": {},
   "source": [
    "## Building model with the best parameters"
   ]
  },
  {
   "cell_type": "code",
   "execution_count": 13,
   "metadata": {},
   "outputs": [
    {
     "data": {
      "text/plain": [
       "array([[    0,  1118,   376, ...,  1029,   955,  1034],\n",
       "       [    1,  3154,  7607, ...,  3268,  1405,  1381],\n",
       "       [ 3409, 12113,  3940, ...,  3231,   376,  3353],\n",
       "       ...,\n",
       "       [ 7973,  3292,   626, ...,  8364,  8387,  9359],\n",
       "       [12119,  7536, 11332, ...,  1083,  7440,  2463],\n",
       "       [ 7527, 12120,  9683, ...,  8052,  7518,  2190]], dtype=int64)"
      ]
     },
     "execution_count": 13,
     "metadata": {},
     "output_type": "execute_result"
    }
   ],
   "source": [
    "training.model_NearestNeighbors(min_max_features)"
   ]
  },
  {
   "attachments": {},
   "cell_type": "markdown",
   "metadata": {},
   "source": [
    "## Get recommendations"
   ]
  },
  {
   "cell_type": "code",
   "execution_count": 15,
   "metadata": {},
   "outputs": [
    {
     "name": "stdout",
     "output_type": "stream",
     "text": [
      "These are the recommendations for similar animes to \u001b[1mnaruto\u001b[0m \n",
      "\n"
     ]
    },
    {
     "data": {
      "text/html": [
       "<div>\n",
       "<style scoped>\n",
       "    .dataframe tbody tr th:only-of-type {\n",
       "        vertical-align: middle;\n",
       "    }\n",
       "\n",
       "    .dataframe tbody tr th {\n",
       "        vertical-align: top;\n",
       "    }\n",
       "\n",
       "    .dataframe thead th {\n",
       "        text-align: right;\n",
       "    }\n",
       "</style>\n",
       "<table border=\"1\" class=\"dataframe\">\n",
       "  <thead>\n",
       "    <tr style=\"text-align: right;\">\n",
       "      <th></th>\n",
       "      <th>name</th>\n",
       "      <th>english_title</th>\n",
       "      <th>japanses_title</th>\n",
       "      <th>genre</th>\n",
       "      <th>type</th>\n",
       "      <th>source</th>\n",
       "      <th>duration</th>\n",
       "      <th>episodes</th>\n",
       "      <th>rating</th>\n",
       "      <th>score</th>\n",
       "      <th>rank</th>\n",
       "      <th>synopsis</th>\n",
       "      <th>cover</th>\n",
       "    </tr>\n",
       "  </thead>\n",
       "  <tbody>\n",
       "    <tr>\n",
       "      <th></th>\n",
       "      <td>yakitate   japan</td>\n",
       "      <td>Yakitate!! Japan</td>\n",
       "      <td>焼きたて!! ジャぱん</td>\n",
       "      <td>Comedy, Shounen</td>\n",
       "      <td>TV</td>\n",
       "      <td>Manga</td>\n",
       "      <td>24 min per ep</td>\n",
       "      <td>69.0</td>\n",
       "      <td>PG-13 - Teens 13 or older</td>\n",
       "      <td>7.92</td>\n",
       "      <td>687.0</td>\n",
       "      <td>While countries such as France, England, and Germany all have their own internationally celebrated bread, Japan simply does not have one that can match in reputation.\\n\\nThus after discovering the wonders of breadmaking at a young age, Kazuma Azuma embarks on a quest to create Japan's own unique national bread. And being blessed with unusually warm hands that allow dough to ferment faster, Azuma is able to bring his baking innovations to another level.\\n\\nAs he begins working at the prestigious Japanese bakery chain, Pantasia, Azuma encounters other talented bakers and experiences firsthand the competitive world of baking. Along with his newfound friends and rivals, Azuma strives to create new and unparalleled bread that will start a baking revolution. \\n\\n[Written by MAL Rewrite]</td>\n",
       "      <td>https://cdn.myanimelist.net/images/anime/3/76432l.jpg</td>\n",
       "    </tr>\n",
       "  </tbody>\n",
       "</table>\n",
       "</div>"
      ],
      "text/plain": [
       "              name     english_title japanses_title            genre type  \\\n",
       "  yakitate   japan  Yakitate!! Japan    焼きたて!! ジャぱん  Comedy, Shounen   TV   \n",
       "\n",
       " source       duration  episodes                     rating  score   rank  \\\n",
       "  Manga  24 min per ep      69.0  PG-13 - Teens 13 or older   7.92  687.0   \n",
       "\n",
       "                                                                                                                                                                                                                                                                                                                                                                                                                                                                                                                                                                                                                                                                                                                                                                                                                 synopsis  \\\n",
       "  While countries such as France, England, and Germany all have their own internationally celebrated bread, Japan simply does not have one that can match in reputation.\\n\\nThus after discovering the wonders of breadmaking at a young age, Kazuma Azuma embarks on a quest to create Japan's own unique national bread. And being blessed with unusually warm hands that allow dough to ferment faster, Azuma is able to bring his baking innovations to another level.\\n\\nAs he begins working at the prestigious Japanese bakery chain, Pantasia, Azuma encounters other talented bakers and experiences firsthand the competitive world of baking. Along with his newfound friends and rivals, Azuma strives to create new and unparalleled bread that will start a baking revolution. \\n\\n[Written by MAL Rewrite]   \n",
       "\n",
       "                                                  cover  \n",
       "  https://cdn.myanimelist.net/images/anime/3/76432l.jpg  "
      ]
     },
     "execution_count": 15,
     "metadata": {},
     "output_type": "execute_result"
    }
   ],
   "source": [
    "# We can get the recommendation as a dataframe\n",
    "# We selec the name of the anime we want to find similitudes\n",
    "# Then the genre we want (or write \"All\")\n",
    "# Then the type we want (or write \"All\")\n",
    "# Then the number of suggestions we have(we might get less if there not so many o none if there is no matches)\n",
    "\n",
    "recommend.create_df(recommend.print_similar_animes(\"naruto\"),\"All\",\"All\",1)"
   ]
  },
  {
   "cell_type": "code",
   "execution_count": 16,
   "metadata": {},
   "outputs": [
    {
     "name": "stdout",
     "output_type": "stream",
     "text": [
      "I guess you misspelled the name\n",
      " Are you looking similitudes for the anime named \u001b[1mmonster\u001b[0m? \n",
      "Here are the recommendations:\n"
     ]
    },
    {
     "data": {
      "text/plain": [
       "[{'name': 'elfen lied',\n",
       "  'english_title': 'Elfen Lied',\n",
       "  'japanses_title': 'エルフェンリート',\n",
       "  'genre': 'Action, Drama, Horror, Psychological, Romance, Seinen, Supernatural',\n",
       "  'type': 'TV',\n",
       "  'source': 'Manga',\n",
       "  'duration': '25 min per ep',\n",
       "  'episodes': 13.0,\n",
       "  'rating': 'R+ - Mild Nudity',\n",
       "  'score': 7.49,\n",
       "  'rank': 1770.0,\n",
       "  'synopsis': 'Lucy is a special breed of human referred to as \"Diclonius,\" born with a short pair of horns and invisible telekinetic hands that lands her as a victim of inhumane scientific experimentation by the government. However, once circumstances present her an opportunity to escape, Lucy, corrupted by the confinement and torture, unleashes a torrent of bloodshed as she escapes her captors.\\n\\nDuring her breakout, she receives a crippling head injury that leaves her with a split personality: someone with the mentality of a harmless child possessing limited speech capacity. In this state of instability, she stumbles upon two college students, Kouta and his cousin Yuka, who unknowingly take an injured fugitive into their care, unaware of her murderous tendencies. This act of kindness will change their lives, as they soon find themselves dragged into the shadowy world of government secrecy and conspiracy.\\n\\n[Written by MAL Rewrite]',\n",
       "  'cover': 'https://cdn.myanimelist.net/images/anime/1780/121555l.jpg'},\n",
       " {'name': 'jigoku shoujo',\n",
       "  'english_title': 'Jigoku Shoujo',\n",
       "  'japanses_title': '地獄少女',\n",
       "  'genre': 'Horror, Mystery, Psychological, Supernatural',\n",
       "  'type': 'TV',\n",
       "  'source': 'Original',\n",
       "  'duration': '25 min per ep',\n",
       "  'episodes': 26.0,\n",
       "  'rating': 'R - 17+ (violence & profanity)',\n",
       "  'score': 7.61,\n",
       "  'rank': 1381.0,\n",
       "  'synopsis': \"It is said that if someone seeks revenge, they should dig two graves—and this is especially true of those who use the Hell Correspondence website. At the stroke of midnight, this ominous web domain becomes accessible, and whoever inputs the name of their grudge will get a visit from Ai Enma, the Hell Girl. Ai explains that she will send the target's soul to hell, but the requester will also end up in hell when they die.\\n\\nFor some, that price is far too steep; for others, where they will spend their afterlife has no bearing on their current, day-to-day hell. But one thing is certain: the Hell Girl will always be available to those in need of revenge, while she stoically performs her duty of ferrying souls into the darkness.\\n\\n[Written by MAL Rewrite]\",\n",
       "  'cover': 'https://cdn.myanimelist.net/images/anime/4/86907l.jpg'},\n",
       " {'name': 'gankutsuou',\n",
       "  'english_title': 'Gankutsuou',\n",
       "  'japanses_title': '巌窟王',\n",
       "  'genre': 'Drama, Mystery, Sci-Fi, Supernatural, Thriller',\n",
       "  'type': 'TV',\n",
       "  'source': 'Novel',\n",
       "  'duration': '24 min per ep',\n",
       "  'episodes': 24.0,\n",
       "  'rating': 'R - 17+ (violence & profanity)',\n",
       "  'score': 8.14,\n",
       "  'rank': 407.0,\n",
       "  'synopsis': \"In the year 5053, French aristocrats Viscount Albert de Morcerf and Baron Franz d'Epinay attend the festival of Carnival on the moon city of Luna. While Franz is just looking to have fun, Albert is seeking something more to fill his life—but he finds more than he bargained for in The Count of Monte Cristo, a mysterious and charming self-made nobleman who meets his gaze during an opera performance.\\n \\nThrough a few twists and turns, Albert befriends the Count and introduces him into French society. The Count, however, has more on his mind than just friendship; he plots to finally unleash his vengeance on those who wronged him years earlier. Gankutsuou follows Albert and the Count's intertwined destinies and the ultimate price paid for enacting revenge.\\n\\n[Written by MAL Rewrite]\",\n",
       "  'cover': 'https://cdn.myanimelist.net/images/anime/10/2235l.jpg'},\n",
       " {'name': 'mousou dairinin',\n",
       "  'english_title': 'Mousou Dairinin',\n",
       "  'japanses_title': '妄想代理人',\n",
       "  'genre': 'Drama, Mystery, Police, Psychological, Supernatural, Thriller',\n",
       "  'type': 'TV',\n",
       "  'source': 'Original',\n",
       "  'duration': '24 min per ep',\n",
       "  'episodes': 13.0,\n",
       "  'rating': 'R+ - Mild Nudity',\n",
       "  'score': 7.67,\n",
       "  'rank': 1206.0,\n",
       "  'synopsis': \"The infamous Shounen Bat (Lil' Slugger) is terrorizing the residents of Musashino City. Flying around on his rollerblades and beating people down with a golden baseball bat, the assailant seems impossible to catch—much less understand. His first victim, the well-known yet timid character designer Tsukiko Sagi, is suspected of orchestrating the attacks. Believed only by her anthropomorphic pink stuffed animal, Maromi, Tsukiko is just one of Shounen Bat's many victims.\\n\\nAs Shounen Bat continues his relentless assault on the town, detectives Keiichi Ikari and Mitsuhiro Maniwa begin to investigate the identity of the attacker. However, more and more people fall victim to the notorious golden bat, and news of the assailant begins circulating around the town. Paranoia starts to set in as chilling rumors spread amongst adults and children alike.\\n\\nWill the two detectives be able to unravel the truth behind Shounen Bat, or will the paranoia get to them first?\\n\\n[Written by MAL Rewrite]\",\n",
       "  'cover': 'https://cdn.myanimelist.net/images/anime/7/10240l.jpg'},\n",
       " {'name': 'boogiepop wa warawanai  boogiepop phantom',\n",
       "  'english_title': 'Boogiepop wa Warawanai',\n",
       "  'japanses_title': 'ブギーポップは笑わない Boogiepop Phantom',\n",
       "  'genre': 'Dementia, Drama, Horror, Mystery, Psychological, Supernatural',\n",
       "  'type': 'TV',\n",
       "  'source': 'Light novel',\n",
       "  'duration': '24 min per ep',\n",
       "  'episodes': 12.0,\n",
       "  'rating': 'R+ - Mild Nudity',\n",
       "  'score': 7.15,\n",
       "  'rank': 3335.0,\n",
       "  'synopsis': 'Five years ago, a string of grisly murders shook the city to its core and now the rumors have begun once more. Boogiepop... Everyone knows about Boogiepop: meet her one dark night and you are taken. People tell each other the stories and laugh: no one believes that she can possibly exist in this day and age. Still, strange things appear to be going on and the darkness is taking on many forms. Something is out there. Are you safe?\\n\\n(Source: RightStuf)',\n",
       "  'cover': 'https://cdn.myanimelist.net/images/anime/1327/95777l.jpg'},\n",
       " {'name': 'xxxholic',\n",
       "  'english_title': 'xxxHOLiC',\n",
       "  'japanses_title': '×××HOLiC（ホリック）',\n",
       "  'genre': 'Comedy, Drama, Mystery, Psychological, Supernatural',\n",
       "  'type': 'TV',\n",
       "  'source': 'Manga',\n",
       "  'duration': '24 min per ep',\n",
       "  'episodes': 24.0,\n",
       "  'rating': 'PG-13 - Teens 13 or older',\n",
       "  'score': 7.98,\n",
       "  'rank': 608.0,\n",
       "  'synopsis': 'Kimihiro Watanuki can see spirits and other assorted supernatural creatures, which is quite a bothersome ability he strongly dislikes. On the way home one day, while plagued by some spirits, he is inexplicably compelled to enter a strange house. There, he encounters Yuuko, a mysterious woman who claims to be able to rid him of the ability to see and attract the troublesome creatures—for a price. She demands that he work at her \"store\" that grants wishes to people, and thus begins Watanuki\\'s adventures through weird and wonderful events.\\n\\n[Written by MAL Rewrite]',\n",
       "  'cover': 'https://cdn.myanimelist.net/images/anime/5/21858l.jpg'},\n",
       " {'name': 'higurashi no naku koro ni',\n",
       "  'english_title': 'Higurashi no Naku Koro ni',\n",
       "  'japanses_title': 'ひぐらしのなく頃に',\n",
       "  'genre': 'Horror, Mystery, Psychological, Supernatural, Thriller',\n",
       "  'type': 'TV',\n",
       "  'source': 'Visual novel',\n",
       "  'duration': '24 min per ep',\n",
       "  'episodes': 26.0,\n",
       "  'rating': 'R - 17+ (violence & profanity)',\n",
       "  'score': 7.89,\n",
       "  'rank': 753.0,\n",
       "  'synopsis': \"Keiichi Maebara has just moved to the quiet little village of Hinamizawa in the summer of 1983, and quickly becomes inseparable friends with schoolmates Rena Ryuuguu, Mion Sonozaki, Satoko Houjou, and Rika Furude. However, darkness lurks underneath the seemingly idyllic life they lead. \\n\\nAs the village prepares for its annual festival, Keiichi learns about the local legends surrounding it. To his horror, he discovers that there have been several murders and disappearances in the village in the recent years, and that they all seem to be connected to the festival and the village's patron god, Oyashiro. Keiichi tries to ask his new friends about these incidents, but they are suspiciously silent and refuse to give him the answers he needs. As more and more bizarre events occur, he wonders just what else his friends might be keeping from him, and if he can even trust them at all.\\n\\nWhen madness and paranoia begin taking root in Keiichi's heart, he will stumble straight into the mysteries at work in Higurashi no Naku Koro ni, a story that is told across multiple arcs.\\n\\n[Written by MAL Rewrite]\",\n",
       "  'cover': 'https://cdn.myanimelist.net/images/anime/12/19634l.jpg'},\n",
       " {'name': 'night head genesis',\n",
       "  'english_title': 'Night Head Genesis',\n",
       "  'japanses_title': 'NIGHT HEAD GENESIS (ナイト ヘッド ジェネシス)',\n",
       "  'genre': 'Drama, Horror, Mystery, Psychological, Supernatural',\n",
       "  'type': 'TV',\n",
       "  'source': 'Manga',\n",
       "  'duration': '24 min per ep',\n",
       "  'episodes': 24.0,\n",
       "  'rating': 'R - 17+ (violence & profanity)',\n",
       "  'score': 6.75,\n",
       "  'rank': 5222.0,\n",
       "  'synopsis': 'Following a 15-year long seclusion in a research facility, brothers Naoto and Naoya Kirihara finally escape after the psychic barrier separating them from the outside world collapses. Abandoned by their parents, who feared their supernatural powers, the siblings now strive for a normal life. However, the two are soon forced to use their talents to save lives as the \"minus energy\" begins to engulf the world and crimes involving psychic abilities gradually multiply.  \\n\\nLearning to control their capabilities and using them for the sake of others will prove challenging, for Naoya is traumatized by his psychic abilities that allow him to read people\\'s minds; while Naoto has hurt many close ones due to his unstable psychokinetic powers. With the help of the mysterious Shouko Futami, who can see into the future, the Kirihara brothers must find a way to foil the plans of an organization that seems to be linked to the harmful events related to gifted individuals.\\n\\n[Written by MAL Rewrite]',\n",
       "  'cover': 'https://cdn.myanimelist.net/images/anime/1208/111006l.jpg'},\n",
       " {'name': 'gakkou no kaidan',\n",
       "  'english_title': 'Gakkou no Kaidan',\n",
       "  'japanses_title': '学校の怪談',\n",
       "  'genre': 'Horror, Mystery, Supernatural',\n",
       "  'type': 'TV',\n",
       "  'source': 'Novel',\n",
       "  'duration': '24 min per ep',\n",
       "  'episodes': 19.0,\n",
       "  'rating': 'PG-13 - Teens 13 or older',\n",
       "  'score': 7.73,\n",
       "  'rank': 1073.0,\n",
       "  'synopsis': \"Years ago, all of the ghosts in a haunted schoolhouse were banished by a certain student. Now, they're back—and they want revenge...\\n \\nSatsuki and Keiichirou Miyanoshita are two siblings recovering from the tragic loss of their mother. After moving to their mother's hometown, they learn that the local school they have transferred to is an old building—one said to be haunted. Despite initially brushing it off as a silly rumor, the two soon discover that ghosts are indeed real and that they're after them! Gakkou no Kaidan is the creepy tale of the lives of these siblings and their newfound friends as they try to survive the school's ghosts—with a little help from their pet cat along the way.\\n\\n[Written by MAL Rewrite]\",\n",
       "  'cover': 'https://cdn.myanimelist.net/images/anime/1414/112029l.jpg'},\n",
       " {'name': 'death note',\n",
       "  'english_title': 'Death Note',\n",
       "  'japanses_title': 'デスノート',\n",
       "  'genre': 'Mystery, Police, Psychological, Supernatural, Thriller',\n",
       "  'type': 'TV',\n",
       "  'source': 'Manga',\n",
       "  'duration': '23 min per ep',\n",
       "  'episodes': 37.0,\n",
       "  'rating': 'R - 17+ (violence & profanity)',\n",
       "  'score': 8.62,\n",
       "  'rank': 79.0,\n",
       "  'synopsis': 'Brutal murders, petty thefts, and senseless violence pollute the human world. In contrast, the realm of death gods is a humdrum, unchanging gambling den. The ingenious 17-year-old Japanese student Light Yagami and sadistic god of death Ryuk share one belief: their worlds are rotten.\\n\\nFor his own amusement, Ryuk drops his \"Death Note\" into the human world. Light stumbles upon it, deeming the first of its rules ridiculous: the human whose name is written in this note shall die. However, the temptation is too great, and Light experiments by writing a felon\\'s name, which disturbingly enacts his first murder.\\n\\nAware of the terrifying godlike power that has fallen into his hands, Light—under the alias \"Kira\"—follows his wicked sense of justice with the ultimate goal of cleansing the world of all evil-doers. The meticulous mastermind detective L is already on his trail, but as Light\\'s brilliance rivals L\\'s, the grand chase for Kira turns into an intense battle of wits that can only end when one of them is dead.\\n\\n[Written by MAL Rewrite]',\n",
       "  'cover': 'https://cdn.myanimelist.net/images/anime/9/9453l.jpg'}]"
      ]
     },
     "execution_count": 16,
     "metadata": {},
     "output_type": "execute_result"
    }
   ],
   "source": [
    "# We can get the recommendation as a dictionary\n",
    "# We selec the name of the anime we want to find similitudes\n",
    "# Then the genre we want (or write \"All\")\n",
    "# Then the type we want (or write \"All\")\n",
    "# Then the number of suggestions we have(we might get less if there not so many o none if there is no matches)\n",
    "\n",
    "recommend.create_dict(recommend.print_similar_animes(\"Monster\"),\"Supernatural\",\"All\",10)"
   ]
  }
 ],
 "metadata": {
  "kernelspec": {
   "display_name": "stlit",
   "language": "python",
   "name": "python3"
  },
  "language_info": {
   "codemirror_mode": {
    "name": "ipython",
    "version": 3
   },
   "file_extension": ".py",
   "mimetype": "text/x-python",
   "name": "python",
   "nbconvert_exporter": "python",
   "pygments_lexer": "ipython3",
   "version": "3.10.6"
  },
  "orig_nbformat": 4,
  "vscode": {
   "interpreter": {
    "hash": "8120e94be8c887b90a4a4cecf0d7be35c08afb61c8d77a193b8a384ad1a0b7e8"
   }
  }
 },
 "nbformat": 4,
 "nbformat_minor": 2
}
