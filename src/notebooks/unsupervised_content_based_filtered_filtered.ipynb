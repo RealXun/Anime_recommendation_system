{
 "cells": [
  {
   "attachments": {},
   "cell_type": "markdown",
   "metadata": {},
   "source": [
    "# Unsupervised content based recommendation system"
   ]
  },
  {
   "attachments": {},
   "cell_type": "markdown",
   "metadata": {},
   "source": [
    "## Import Libraries"
   ]
  },
  {
   "cell_type": "code",
   "execution_count": 1,
   "metadata": {},
   "outputs": [
    {
     "name": "stderr",
     "output_type": "stream",
     "text": [
      "c:\\Users\\Chrisitan\\miniconda3\\envs\\stlit\\lib\\site-packages\\fuzzywuzzy\\fuzz.py:11: UserWarning: Using slow pure-python SequenceMatcher. Install python-Levenshtein to remove this warning\n",
      "  warnings.warn('Using slow pure-python SequenceMatcher. Install python-Levenshtein to remove this warning')\n"
     ]
    }
   ],
   "source": [
    "# Standard library imports\n",
    "import os # allows access to OS-dependent functionalities\n",
    "import sys # provides access to system-specific parameters and functions in Python.\n",
    "\n",
    "import numpy as np # functions for working in domain of linear algebra, fourier transform, matrices and arrays\n",
    "import pandas as pd # data analysis and manipulation tool\n",
    "\n",
    "# setting display options\n",
    "pd.set_option('display.max_columns', None)\n",
    "pd.set_option('display.max_rows', None)\n",
    "pd.set_option('display.max_colwidth', None)\n",
    "\n",
    "# Get the current working directory\n",
    "cwd = os.getcwd()\n",
    "\n",
    "# Add the path of the utils directory to sys.path\n",
    "utils_path = os.path.abspath(os.path.join(cwd, '..', 'utils'))\n",
    "sys.path.append(utils_path)\n",
    "\n",
    "# Utils libraries\n",
    "from cleaning import *\n",
    "from recommend import *\n",
    "from testing import *\n",
    "from training import *\n",
    "\n",
    "#Preparing folder variables\n",
    "main_folder = os.path.abspath(os.path.join(os.pardir))\n",
    "data_folder = (main_folder + \"/\" +\"data\")\n",
    "saved_models_folder = (data_folder + \"/\" + \"saved_models\")\n",
    "raw_data = (data_folder + \"/\" + \"_raw\")\n",
    "processed_data = (data_folder + \"/\" + \"processed\")\n",
    "content_based_supervised_data = (main_folder + \"/\" + \"processed\" + \"/\" + \"content_based_supervised\")"
   ]
  },
  {
   "attachments": {},
   "cell_type": "markdown",
   "metadata": {},
   "source": [
    "## Cleaning and preparing the data"
   ]
  },
  {
   "attachments": {},
   "cell_type": "markdown",
   "metadata": {},
   "source": [
    "### Checking "
   ]
  },
  {
   "cell_type": "code",
   "execution_count": 2,
   "metadata": {},
   "outputs": [],
   "source": [
    "# CSV file called \"anime.csv\" from a directory called raw_data and returns the contents as a Pandas DataFrame\n",
    "anime = pd.read_csv(raw_data + \"/\" + \"anime.csv\") \n",
    "\n",
    "# CSV file called \"rating.csv.zip\" from a directory called raw_data and returns the contents as a Pandas DataFrame\n",
    "rating = pd.read_csv(raw_data + \"/\" + \"rating.csv.zip\")"
   ]
  },
  {
   "cell_type": "code",
   "execution_count": 3,
   "metadata": {},
   "outputs": [
    {
     "name": "stdout",
     "output_type": "stream",
     "text": [
      "Unique values of column: rating \n",
      "\n",
      "['R - 17+ (violence & profanity)' 'PG-13 - Teens 13 or older'\n",
      " 'PG - Children' 'R+ - Mild Nudity' 'G - All Ages' 'Rx - Hentai' nan] \n",
      "\n",
      "Unique values of column: genre \n",
      "\n",
      "['Action, Adventure, Comedy, Drama, Sci-Fi, Space'\n",
      " 'Action, Drama, Mystery, Sci-Fi, Space' 'Action, Comedy, Sci-Fi' ...\n",
      " 'Action, Fantasy, Super Power, Supernatural, Vampire'\n",
      " 'Action, Adventure, Fantasy, Game, Kids'\n",
      " 'Comedy, Fantasy, Slice of Life, Supernatural'] \n",
      "\n",
      "Unique values of column: type \n",
      "\n",
      "['TV' 'Movie' 'OVA' 'Special' 'ONA' 'Music' nan] \n",
      "\n",
      "Unique values of column: source \n",
      "\n",
      "['Original' 'Manga' 'Light novel' 'Game' 'Visual novel' '4-koma manga'\n",
      " 'Novel' 'Other' 'Unknown' 'Picture book' 'Web manga' 'Music' 'Radio'\n",
      " 'Book' 'Card game' 'Mixed media'] \n",
      "\n"
     ]
    }
   ],
   "source": [
    "# Checking for unique values.\n",
    "to_check = [\"rating\",\"genre\",\"type\",\"source\"]\n",
    "for i in to_check:\n",
    "    print (\"Unique values of column:\",i,\"\\n\")\n",
    "    print (anime[i].unique(),\"\\n\")"
   ]
  },
  {
   "attachments": {},
   "cell_type": "markdown",
   "metadata": {},
   "source": [
    "We can see that we have some NaN and Unknown values."
   ]
  },
  {
   "cell_type": "code",
   "execution_count": 4,
   "metadata": {},
   "outputs": [
    {
     "name": "stdout",
     "output_type": "stream",
     "text": [
      "score             14.048029\n",
      "rank               9.572986\n",
      "synopsis           2.475207\n",
      "rating             1.614622\n",
      "genre              0.499959\n",
      "type               0.172117\n",
      "japanses_title     0.155725\n",
      "anime_id           0.000000\n",
      "name               0.000000\n",
      "english_title      0.000000\n",
      "source             0.000000\n",
      "duration           0.000000\n",
      "episodes           0.000000\n",
      "members            0.000000\n",
      "cover              0.000000\n",
      "dtype: float64\n",
      "Total number of records: 12201\n"
     ]
    }
   ],
   "source": [
    "# the null values\n",
    "print(((anime.isnull().sum() / len(anime))*100).sort_values(ascending = False))\n",
    "print(f\"Total number of records: {len(anime)}\")"
   ]
  },
  {
   "attachments": {},
   "cell_type": "markdown",
   "metadata": {},
   "source": [
    "### Cleaning "
   ]
  },
  {
   "attachments": {},
   "cell_type": "markdown",
   "metadata": {},
   "source": [
    "The columns rank, synopsis and japanses_title will only be use for showing the results of the recommendation, so we do not care about this 3 columns.\n",
    "\n",
    "We will deal with the others.\n",
    "\n",
    "To do that we will call the next functions from cleaning.py in utils folder.\n",
    "- clean_anime_df\n",
    "- predict_source\n",
    "- clean_synopsis"
   ]
  },
  {
   "cell_type": "code",
   "execution_count": 5,
   "metadata": {},
   "outputs": [
    {
     "name": "stdout",
     "output_type": "stream",
     "text": [
      "The function clean_anime_df() takes an anime dataframe as input and performs several \n",
      "    cleaning and preprocessing steps, such as removing special characters from anime names, \n",
      "    converting all names to lowercase, filling missing values for \"episodes\" and \"score\" \n",
      "    columns with their median, dropping rows with null values for \"genre\" or \"type\" columns, \n",
      "    and saving the cleaned dataframe to a CSV file. The cleaned dataframe is also returned as output.\n"
     ]
    }
   ],
   "source": [
    "print(clean_anime_df.__doc__)"
   ]
  },
  {
   "cell_type": "code",
   "execution_count": 6,
   "metadata": {},
   "outputs": [
    {
     "name": "stdout",
     "output_type": "stream",
     "text": [
      "\n",
      "    The function takes a pandas dataframe containing anime data and \n",
      "    fills in missing values in the 'source' column using a Decision \n",
      "    Tree Classifier based on the 'episodes' and 'type' columns. The \n",
      "    'type' column is converted to categorical data using get_dummies \n",
      "    before fitting the model. The function returns the original \n",
      "    dataframe with missing values filled in and the model accuracy score.\n",
      "    \n"
     ]
    }
   ],
   "source": [
    "print(predict_source.__doc__)"
   ]
  },
  {
   "cell_type": "code",
   "execution_count": 7,
   "metadata": {},
   "outputs": [
    {
     "name": "stdout",
     "output_type": "stream",
     "text": [
      "\n",
      "    This code uses regular expressions to clean up the text in the \"synopsis\" column\n",
      "    of a pandas DataFrame. It removes any text in square brackets, removes any c\n",
      "    arriage returns or newline characters, and removes any extra whitespace at \n",
      "    the beginning or end of the string.\n",
      "    \n"
     ]
    }
   ],
   "source": [
    "print(clean_synopsis.__doc__)"
   ]
  },
  {
   "attachments": {},
   "cell_type": "markdown",
   "metadata": {},
   "source": [
    "The steps of this function:\n",
    "- Create a copy of the original dataframe called anime_cleaned\n",
    "- Remove all non-word characters from the name column and replace them with spaces\n",
    "- Convert all names to lowercase\n",
    "- Replace all \"Unknown\" values in the episodes column with NaN\n",
    "- Replace all NaN values in the episodes column with the median of the column\n",
    "- Convert the score column to float type\n",
    "- Replace all NaN values in the score column with the median of the column\n",
    "- Convert the members column to float type\n",
    "- Apply the clean_synopsis function to the synopsis column\n",
    "    - Remove \\r and \\n from synopsis\n",
    "    - Remove extra spaces from synopsis\n",
    "    - Replace encoded characters\n",
    "    - Return synopsis\n",
    "- Add prediction to the source column of the dataframe using the predict_source function\n",
    "    - change unknown values to NaN from 'source' column\n",
    "    - fill missing values in the 'episodes' column with 0\n",
    "    - create dummy variables for the 'type' column\n",
    "    - create dummy variables for the 'rating' column\n",
    "    - First, we area going to split the genre column by comma, then expand the list, so there is a column for each genre. We will have 13 columns, because the anime with most genres tags has 13 tags\n",
    "    - Now we can get the list of unique genres. We \"convert\" the dataframe into a single dimension array and take the unique values\n",
    "    - Getting the dummy variables will result in having a lot more columns than unique genres\n",
    "    - So we sum up the columns with the same genre to have a single column for each genre\n",
    "    - split the data into training and validation sets\n",
    "    - create the decision tree classifier\n",
    "    - train the model using the training data\n",
    "    - predict the 'source' values for the validation data\n",
    "    - fill the 'NaN' 'source' values in the original DataFrame with the predicted values\n",
    "    - undo the get_dummies() operation to convert the one-hot encoded 'type' and 'rating' columns back to a single categorical column\n",
    "    - Dropping unnecessary columns\n",
    "    - calculate the accuracy of the model\n",
    "- Replace all NaN values in the genre column with the mode of the column\n",
    "- Replace all NaN values in the rating column with the mode of the column\n",
    "- Replace all NaN values in the type column with the mode of the column\n",
    "- Save the cleaned dataframe to a CSV file called \"_anime_to_compare_with_name.csv\" "
   ]
  },
  {
   "cell_type": "code",
   "execution_count": 8,
   "metadata": {},
   "outputs": [
    {
     "name": "stdout",
     "output_type": "stream",
     "text": [
      "The accuracy of source prediction is 0.8886884550084889\n"
     ]
    }
   ],
   "source": [
    "anime_cleaned = clean_anime_df(anime)# from cleaning.py"
   ]
  },
  {
   "cell_type": "code",
   "execution_count": 9,
   "metadata": {},
   "outputs": [
    {
     "data": {
      "text/plain": [
       "(12201, 15)"
      ]
     },
     "execution_count": 9,
     "metadata": {},
     "output_type": "execute_result"
    }
   ],
   "source": [
    "anime_cleaned.shape"
   ]
  },
  {
   "attachments": {},
   "cell_type": "markdown",
   "metadata": {},
   "source": [
    "We can see that we have no null values in the columns we need."
   ]
  },
  {
   "cell_type": "code",
   "execution_count": 10,
   "metadata": {},
   "outputs": [
    {
     "name": "stdout",
     "output_type": "stream",
     "text": [
      "rank              9.572986\n",
      "synopsis          2.475207\n",
      "japanses_title    0.155725\n",
      "anime_id          0.000000\n",
      "name              0.000000\n",
      "english_title     0.000000\n",
      "genre             0.000000\n",
      "source            0.000000\n",
      "duration          0.000000\n",
      "episodes          0.000000\n",
      "score             0.000000\n",
      "members           0.000000\n",
      "cover             0.000000\n",
      "type              0.000000\n",
      "rating            0.000000\n",
      "dtype: float64\n",
      "Total number of records: 12201\n"
     ]
    }
   ],
   "source": [
    "# let's check the result of this cleaning process.\n",
    "print(((anime_cleaned.isnull().sum() / len(anime_cleaned))*100).sort_values(ascending = False))\n",
    "print(f\"Total number of records: {len(anime_cleaned)}\")"
   ]
  },
  {
   "attachments": {},
   "cell_type": "markdown",
   "metadata": {},
   "source": [
    "### Preparing the data"
   ]
  },
  {
   "attachments": {},
   "cell_type": "markdown",
   "metadata": {},
   "source": [
    "Now we are going to prepare the data for NearestNeighbors model\n",
    "\n",
    "To do that we will call the next function from cleaning.py in utils folder.\n",
    "- prepare_supervised_content_based\n",
    "\n",
    "Since que are the columnas \"episodes\", \"score\" and \"members\", we will as well use:\n",
    "\n",
    "- MinMaxScaler and calling fit_transform()."
   ]
  },
  {
   "cell_type": "code",
   "execution_count": 11,
   "metadata": {},
   "outputs": [
    {
     "name": "stdout",
     "output_type": "stream",
     "text": [
      "\n",
      "    This function prepares the content-based features for a supervised \n",
      "    learning model. It first splits the genres into separate columns and \n",
      "    gets unique genres. It then creates dummy variables for genres and \n",
      "    type, and sum up the columns for the same genre to have a single \n",
      "    column for each genre. Finally, it drops irrelevant columns and saves \n",
      "    the resulting dataframe to a CSV file. The function returns the resulting dataframe.\n",
      "    \n"
     ]
    }
   ],
   "source": [
    "print(prepare_supervised_content_based.__doc__)"
   ]
  },
  {
   "cell_type": "markdown",
   "metadata": {},
   "source": [
    "The steps of this function:\n",
    "- Split the \"genre\" column into multiple columns  \n",
    "- Get unique genre values \n",
    "- Create dummy variables for the genre columns  \n",
    "- For each unique genre, sum up the corresponding dummy variables and add a new column for that genre  \n",
    "- Create dummy variables for the \"type\" column  \n",
    "- Create dummy variables for the \"rating\" column \n",
    "- Create dummy variables for the \"source\" column   \n",
    "- Concatenate the \"type\" dummy variables with the existing DataFrame  \n",
    "- Drop unnecessary columns  \n",
    "- Create a new DataFrame that is a copy of the modified DataFrame\n",
    "- Reset the index of the new DataFrame\n",
    "- Save the modified DataFrame as a CSV file\n",
    "- Return the modified DataFrame\n"
   ]
  },
  {
   "cell_type": "code",
   "execution_count": 12,
   "metadata": {},
   "outputs": [],
   "source": [
    "anime_features = prepare_supervised_content_based(anime_cleaned) # from cleaning.py"
   ]
  },
  {
   "attachments": {},
   "cell_type": "markdown",
   "metadata": {},
   "source": [
    "anime_features.head(5)"
   ]
  },
  {
   "cell_type": "code",
   "execution_count": 13,
   "metadata": {},
   "outputs": [
    {
     "data": {
      "text/plain": [
       "(12201, 73)"
      ]
     },
     "execution_count": 13,
     "metadata": {},
     "output_type": "execute_result"
    }
   ],
   "source": [
    "anime_features.shape"
   ]
  },
  {
   "attachments": {},
   "cell_type": "markdown",
   "metadata": {},
   "source": [
    "In order to apply the MinMaxScaler to a dataset, typically we need to first \"fit\" the scaler to the data, which means calculating the minimum and maximum values for each feature in the dataset. This is done using the fit() method of the MinMaxScaler object. After fitting the scaler, you can then \"transform\" the data using the transform() method, which applies the scaling formula to each feature.\n",
    "\n",
    "However, in some cases, if better to both fit the scaler to the data and transform the data in a single step. This is where the fit_transform() method comes in handy. Calling fit_transform() on a MinMaxScaler object will both fit the scaler to the data and transform the data in a single step.\n",
    "\n",
    "Using a MinMaxScaler and calling fit_transform() is a common way to scale feature values to be within a specific range."
   ]
  },
  {
   "cell_type": "code",
   "execution_count": 14,
   "metadata": {},
   "outputs": [],
   "source": [
    "min_max = MinMaxScaler()\n",
    "min_max_features = min_max.fit_transform(anime_features)"
   ]
  },
  {
   "cell_type": "code",
   "execution_count": 15,
   "metadata": {},
   "outputs": [
    {
     "data": {
      "text/plain": [
       "(12201, 73)"
      ]
     },
     "execution_count": 15,
     "metadata": {},
     "output_type": "execute_result"
    }
   ],
   "source": [
    "min_max_features.shape"
   ]
  },
  {
   "cell_type": "code",
   "execution_count": 16,
   "metadata": {},
   "outputs": [
    {
     "data": {
      "text/plain": [
       "array([[1.37589433e-02, 9.50413223e-01, 4.80139302e-01, ...,\n",
       "        0.00000000e+00, 0.00000000e+00, 1.00000000e+00],\n",
       "       [0.00000000e+00, 8.99449036e-01, 1.35742550e-01, ...,\n",
       "        0.00000000e+00, 0.00000000e+00, 0.00000000e+00],\n",
       "       [1.37589433e-02, 8.77410468e-01, 2.79180047e-01, ...,\n",
       "        0.00000000e+00, 0.00000000e+00, 1.00000000e+00],\n",
       "       ...,\n",
       "       [5.50357733e-04, 6.43250689e-01, 3.70840862e-04, ...,\n",
       "        0.00000000e+00, 0.00000000e+00, 1.00000000e+00],\n",
       "       [5.50357733e-04, 6.30853994e-01, 1.01586725e-04, ...,\n",
       "        0.00000000e+00, 0.00000000e+00, 1.00000000e+00],\n",
       "       [0.00000000e+00, 6.33608815e-01, 0.00000000e+00, ...,\n",
       "        0.00000000e+00, 0.00000000e+00, 0.00000000e+00]])"
      ]
     },
     "execution_count": 16,
     "metadata": {},
     "output_type": "execute_result"
    }
   ],
   "source": [
    "min_max_features"
   ]
  },
  {
   "attachments": {},
   "cell_type": "markdown",
   "metadata": {},
   "source": [
    "Rounding the values using np.round(min_max_features, 2) will round each value in min_max_features to 2 decimal places, which can make the resulting array easier to read and work with. This is especially useful when dealing with large arrays or matrices, where the values can be difficult to interpret if there are too many decimal places.\n",
    "\n",
    "It's worth noting that the use of np.round() in this code is not strictly necessary and is largely a matter of personal preference. Some people might prefer to work with the original unscaled values or may choose to use a different rounding method depending on the specific requirements of their project."
   ]
  },
  {
   "cell_type": "code",
   "execution_count": 17,
   "metadata": {},
   "outputs": [
    {
     "data": {
      "text/plain": [
       "array([[0.01, 0.95, 0.48, ..., 0.  , 0.  , 1.  ],\n",
       "       [0.  , 0.9 , 0.14, ..., 0.  , 0.  , 0.  ],\n",
       "       [0.01, 0.88, 0.28, ..., 0.  , 0.  , 1.  ],\n",
       "       ...,\n",
       "       [0.  , 0.64, 0.  , ..., 0.  , 0.  , 1.  ],\n",
       "       [0.  , 0.63, 0.  , ..., 0.  , 0.  , 1.  ],\n",
       "       [0.  , 0.63, 0.  , ..., 0.  , 0.  , 0.  ]])"
      ]
     },
     "execution_count": 17,
     "metadata": {},
     "output_type": "execute_result"
    }
   ],
   "source": [
    "np.round(min_max_features,2)"
   ]
  },
  {
   "attachments": {},
   "cell_type": "markdown",
   "metadata": {},
   "source": [
    "## Finding the best parameters for NearestNeighbors model"
   ]
  },
  {
   "cell_type": "code",
   "execution_count": 18,
   "metadata": {},
   "outputs": [
    {
     "name": "stdout",
     "output_type": "stream",
     "text": [
      "\n",
      "    The function param_NearestNeighbors uses GridSearchCV from scikit-learn \n",
      "    to perform a grid search over a range of hyperparameters for the \n",
      "    NearestNeighbors model. It takes a dataframe df as input and returns \n",
      "    the best hyperparameters found during the grid search. The hyperparameters \n",
      "    being searched over include n_neighbors, radius, algorithm, leaf_size, \n",
      "    metric, and p. The scoring metric being used is \"accuracy\" and the refit \n",
      "    parameter is set to \"precision_score\". cv=2 sets the number of cross-validation \n",
      "    folds to 2, and n_jobs=-1 sets the number of CPU cores used to parallelize \n",
      "    the search to be the maximum available.\n",
      "    \n"
     ]
    }
   ],
   "source": [
    "print(param_NearestNeighbors.__doc__)"
   ]
  },
  {
   "attachments": {},
   "cell_type": "markdown",
   "metadata": {},
   "source": [
    "The GridSearchCV function works by training and evaluating the estimator (in this case, the NearestNeighbors() object) for each combination of parameter values specified in the param_grid argument. It then returns the combination of parameter values that resulted in the best performance, as determined by the specified scoring metric.\n",
    "\n",
    "Overall, using GridSearchCV in NearestNeighbors() allows us to fine-tune the hyperparameters of the k-nearest neighbors algorithm to improve its accuracy and make better recommendations."
   ]
  },
  {
   "attachments": {},
   "cell_type": "markdown",
   "metadata": {},
   "source": [
    "We will finde the best parameters passing the min_max_features.\n",
    "\n",
    "Steps:\n",
    "- Define dictionary of hyperparameters to test using GridSearchCV\n",
    "- Create GridSearchCV object with NearestNeighbors algorithm and hyperparameters defined in the parametros dictionary\n",
    "- Return the best hyperparameters found by the grid search"
   ]
  },
  {
   "cell_type": "code",
   "execution_count": 19,
   "metadata": {},
   "outputs": [
    {
     "name": "stderr",
     "output_type": "stream",
     "text": [
      "c:\\Users\\Chrisitan\\miniconda3\\envs\\stlit\\lib\\site-packages\\sklearn\\model_selection\\_search.py:952: UserWarning: One or more of the test scores are non-finite: [nan nan nan ... nan nan nan]\n",
      "  warnings.warn(\n"
     ]
    },
    {
     "data": {
      "text/plain": [
       "{'algorithm': 'auto',\n",
       " 'leaf_size': 30,\n",
       " 'metric': 'minkowski',\n",
       " 'n_neighbors': 1,\n",
       " 'p': 1,\n",
       " 'radius': 0.0}"
      ]
     },
     "execution_count": 19,
     "metadata": {},
     "output_type": "execute_result"
    }
   ],
   "source": [
    "param_NearestNeighbors(min_max_features) # from testing.py "
   ]
  },
  {
   "attachments": {},
   "cell_type": "markdown",
   "metadata": {},
   "source": [
    "## Building the model"
   ]
  },
  {
   "cell_type": "code",
   "execution_count": 20,
   "metadata": {},
   "outputs": [
    {
     "name": "stdout",
     "output_type": "stream",
     "text": [
      "\n",
      "    The function model_NearestNeighbors builds and trains a \n",
      "    k-Nearest Neighbors model on a given dataset, using specified \n",
      "    parameters. It then saves the indices of the nearest neighbors \n",
      "    to a file and returns them.\n",
      "    \n"
     ]
    }
   ],
   "source": [
    "print(model_NearestNeighbors.__doc__) # from testing.py "
   ]
  },
  {
   "attachments": {},
   "cell_type": "markdown",
   "metadata": {},
   "source": [
    "- Build and \"train\" the model using NearestNeighbors algorithm\n",
    "\t- algorithm: algorithm used to compute the nearest neighbors (‘auto’, ‘ball_tree’, ‘kd_tree’, ‘brute’)\n",
    "\t- leaf_size: leaf size passed to BallTree or KDTree\n",
    "\t- metric: distance metric used for the tree. Can be 'minkowski', 'euclidean', etc.\n",
    "\t- n_neighbors: number of neighbors to use for kneighbors queries\n",
    "\t- p: power parameter for the Minkowski metric. When p = 1, this is equivalent to using manhattan_distance\n",
    "- Get the distances and indices of the nearest neighbors\n",
    "\t- distances: array representing the lengths to points, only present if return_distance=True\n",
    "\t- indices: indices of the nearest points in the population matrix\n",
    "- Save the model to a file using joblib.dump\n",
    "- Return the indices of the nearest neighbors"
   ]
  },
  {
   "cell_type": "code",
   "execution_count": 21,
   "metadata": {},
   "outputs": [
    {
     "data": {
      "text/plain": [
       "array([[    0,  3445, 10833, ...,  1722,  1079,  1081],\n",
       "       [    1,  7697,  4530, ...,   992,  7474,  4234],\n",
       "       [    2,  3409, 11218, ...,  2198,  1659,   798],\n",
       "       ...,\n",
       "       [12198,  7973,  5977, ...,  8464, 11500,  8846],\n",
       "       [12199,  1825,   187, ...,  4780,  1894,  2670],\n",
       "       [12200,  8769,  9684, ...,  4427,  8354,  2523]], dtype=int64)"
      ]
     },
     "execution_count": 21,
     "metadata": {},
     "output_type": "execute_result"
    }
   ],
   "source": [
    "model_NearestNeighbors(min_max_features)"
   ]
  },
  {
   "attachments": {},
   "cell_type": "markdown",
   "metadata": {},
   "source": [
    "## Get recommendations"
   ]
  },
  {
   "attachments": {},
   "cell_type": "markdown",
   "metadata": {},
   "source": [
    "To get the recommendations we will use the next functions:"
   ]
  },
  {
   "cell_type": "code",
   "execution_count": 22,
   "metadata": {},
   "outputs": [
    {
     "name": "stdout",
     "output_type": "stream",
     "text": [
      "\n",
      "    This function takes a user input anime name query and returns a list of recommended anime similar to the query.\n",
      "    It uses a pre-trained model and a dataset of anime information to find recommendations. \n",
      "    If the user query has any misspelling, the function tries to find the closest match to \n",
      "    the query and provides recommendations based on that.\n",
      "    \n"
     ]
    }
   ],
   "source": [
    "print(print_similar_animes.__doc__)"
   ]
  },
  {
   "cell_type": "code",
   "execution_count": 23,
   "metadata": {},
   "outputs": [
    {
     "name": "stdout",
     "output_type": "stream",
     "text": [
      "\n",
      "    Function that takes in a string title and a pandas DataFrame df as input arguments, \n",
      "    and returns a tuple containing the closest matching title to the input title \n",
      "    and the Levenshtein distance score between the closest title and the input title.\n",
      "    in other words, the function returns the most similar title to the name a user typed\n",
      "    \n"
     ]
    }
   ],
   "source": [
    "print(finding_the_closest_title.__doc__)"
   ]
  },
  {
   "attachments": {},
   "cell_type": "markdown",
   "metadata": {},
   "source": [
    "Steps of finding_the_closest_title:\n",
    "- This function takes a string `title` and a pandas DataFrame `df` as input arguments.\n",
    "- Create a new variable `anime` to hold the DataFrame `df` for readability.\n",
    "- Calculate the Levenshtein distance between each title in the 'name' column of the DataFrame and the input `title`.\n",
    "- The `match_the_score` function is used to calculate the distance score.\n",
    "- The `enumerate` function adds an index number to each distance score.\n",
    "- Sort the list of (index, distance score) tuples in descending order by the distance score. sorted_levenshtein_scores = sorted(levenshtein_scores, key=lambda x: x[1], reverse=True)\n",
    "- Get the closest matching title to the input `title` by using the index of the highest scoring match.\n",
    "- The `from_index_to_title` function is used to return the title string from the DataFrame given an index.\n",
    "- Get the Levenshtein distance score of the closest matching title.\n",
    "- Return a tuple containing the closest matching title and its Levenshtein distance score."
   ]
  },
  {
   "cell_type": "code",
   "execution_count": 24,
   "metadata": {},
   "outputs": [
    {
     "name": "stdout",
     "output_type": "stream",
     "text": [
      "\n",
      "    Function to return the matched index number of the anime name\n",
      "    \n"
     ]
    }
   ],
   "source": [
    "print(from_title_to_index.__doc__) # just one step"
   ]
  },
  {
   "cell_type": "code",
   "execution_count": 25,
   "metadata": {},
   "outputs": [
    {
     "name": "stdout",
     "output_type": "stream",
     "text": [
      "\n",
      "    Function to find the closest title, It uses Levenshtein Distance to calculate the differences between sequences\n",
      "    \n"
     ]
    }
   ],
   "source": [
    "print(match_the_score.__doc__) # just one step"
   ]
  },
  {
   "cell_type": "code",
   "execution_count": 26,
   "metadata": {},
   "outputs": [
    {
     "name": "stdout",
     "output_type": "stream",
     "text": [
      "\n",
      "    Function to return the anime name that mtches de index number\n",
      "    \n"
     ]
    }
   ],
   "source": [
    "print(from_index_to_title.__doc__) # just one step"
   ]
  },
  {
   "attachments": {},
   "cell_type": "markdown",
   "metadata": {},
   "source": [
    "The information resulted is pass to:\n",
    "- create_dict\n",
    "- filtering_and\n",
    "- filtering_or"
   ]
  },
  {
   "cell_type": "code",
   "execution_count": null,
   "metadata": {},
   "outputs": [],
   "source": [
    "print(create_dict.__doc__)"
   ]
  },
  {
   "attachments": {},
   "cell_type": "markdown",
   "metadata": {},
   "source": [
    "Steps of create_dict:\n",
    "- This function takes in a list of anime titles `names`, lists of `gen`res and `typ`es, a filtering method `method`, and an optional number of results `n`.\n",
    "- Load the anime dataframe from a CSV file using pandas.\n",
    "- Filter the anime dataframe to only include titles that match those in the input list `names`.\n",
    "- Remove the 'anime_id' and 'members' columns from the resulting dataframe.\n",
    "- Reset the index of the resulting dataframe.\n",
    "- Apply a filtering method based on the input `method`.\n",
    "- If 'or', use the `filtering_or()` function to filter the dataframe.\n",
    "- If 'and', use the `filtering_and()` function to filter the dataframe.\n",
    "- If `method` is neither 'or' nor 'and', raise a ValueError.\n",
    "- Drop any duplicate titles from the resulting dataframe.\n",
    "- Limit the resulting dataframe to the first `n` rows.\n",
    "- If the resulting dataframe is empty, print an error message and return None.\n",
    "- Otherwise, convert the resulting dataframe to a dictionary and return the dictionary."
   ]
  },
  {
   "cell_type": "code",
   "execution_count": null,
   "metadata": {},
   "outputs": [],
   "source": [
    "print(filtering_and.__doc__)"
   ]
  },
  {
   "attachments": {},
   "cell_type": "markdown",
   "metadata": {},
   "source": [
    "Steps of filtering_and:\n",
    "- This function takes a DataFrame `df`, a list of `genres`, and a list of `types` as input arguments.\n",
    "- Create a boolean mask that filters rows where the genre column contains all of the genres in the `genres` list.\n",
    "- Create a boolean mask that filters rows where the type column is in the `types` list.\n",
    "- Apply both masks to the DataFrame `df` and create a new DataFrame `filtered_df` that includes only rows where both masks are True.\n",
    "- Return the filtered DataFrame."
   ]
  },
  {
   "cell_type": "code",
   "execution_count": null,
   "metadata": {},
   "outputs": [],
   "source": [
    "print(filtering_or.__doc__)"
   ]
  },
  {
   "attachments": {},
   "cell_type": "markdown",
   "metadata": {},
   "source": [
    "Steps of filtering_or:\n",
    "- Make a copy of the input DataFrame\n",
    "- Split the genre column into a list of genres\n",
    "- Explode the genre column to create a new row for each genre in the list\n",
    "- If genres are specified and 'ALL' is not one of them, filter the DataFrame to keep only rows where the genre is in the specified list  \n",
    "- If types are specified and 'ALL' is not one of them, filter the DataFrame to keep only rows where the type is in the specified list\n",
    "- If both genres and types are specified\n",
    "- If 'ALL' is in the genres list, set genres to be all the unique genres in the filtered DataFrame\n",
    "- If 'ALL' is in the types list, set types to be all the unique types in the filtered DataFrame\n",
    "- Filter the DataFrame to keep only rows where the genre is in the genres list AND the type is in the types list\n",
    "- Return the filtered DataFrame"
   ]
  },
  {
   "cell_type": "code",
   "execution_count": 28,
   "metadata": {},
   "outputs": [
    {
     "name": "stdout",
     "output_type": "stream",
     "text": [
      "I guess you misspelled the name\n",
      " Are you looking similitudes for the anime named \u001b[1mnaruto\u001b[0m? \n",
      "Here are the recommendations:\n",
      "or\n"
     ]
    },
    {
     "data": {
      "text/plain": [
       "[{'name': 'eyeshield 21',\n",
       "  'english_title': 'Eyeshield 21',\n",
       "  'japanses_title': 'アイシールド21',\n",
       "  'genre': 'Shounen',\n",
       "  'source': 'Manga',\n",
       "  'duration': '23 min per ep',\n",
       "  'episodes': 145.0,\n",
       "  'score': 7.92,\n",
       "  'rank': 702.0,\n",
       "  'synopsis': 'Shy, reserved, and small-statured, Deimon High School student Sena Kobayakawa is the perfect target for bullies. However, as a result of running errands throughout his life, Sena has become agile and developed a skill for avoiding crowds of people. After the cunning Youichi Hiruma—captain of the Deimon Devil Bats football team—witnesses Sena\\'s rapid legs in motion, he coerces the timid boy into joining his squad. As Hiruma wants to conceal Sena\\'s identity from other clubs, Sena is forced to hide under the visored helmet of \"Eyeshield 21,\" a mysterious running back wearing the number 21 jersey. The legendary Eyeshield 21 can supposedly run at the speed of light and has achieved remarkable feats in the United States during his time at the Notre Dame College. Accustomed to avoiding his problems in the past, Sena\\'s specialty might just help him become the new secret weapon of the Deimon Devil Bats. As he interacts with his teammates, Sena gradually gains more self-confidence and forges valuable bonds along the way. [Written by MAL Rewrite]',\n",
       "  'cover': 'https://cdn.myanimelist.net/images/anime/12/66961l.jpg',\n",
       "  'type': 'TV',\n",
       "  'rating': 'PG-13 - Teens 13 or older'},\n",
       " {'name': 'one piece',\n",
       "  'english_title': 'One Piece',\n",
       "  'japanses_title': 'ONE PIECE',\n",
       "  'genre': 'Shounen',\n",
       "  'source': 'Manga',\n",
       "  'duration': '24 min',\n",
       "  'episodes': 2.0,\n",
       "  'score': 8.68,\n",
       "  'rank': 57.0,\n",
       "  'synopsis': 'Gol D. Roger was known as the \"Pirate King,\" the strongest and most infamous being to have sailed the Grand Line. The capture and execution of Roger by the World Government brought a change throughout the world. His last words before his death revealed the existence of the greatest treasure in the world, One Piece. It was this revelation that brought about the Grand Age of Pirates, men who dreamed of finding One Piece—which promises an unlimited amount of riches and fame—and quite possibly the pinnacle of glory and the title of the Pirate King. Enter Monkey D. Luffy, a 17-year-old boy who defies your standard definition of a pirate. Rather than the popular persona of a wicked, hardened, toothless pirate ransacking villages for fun, Luffy\\'s reason for being a pirate is one of pure wonder: the thought of an exciting adventure that leads him to intriguing people and ultimately, the promised treasure. Following in the footsteps of his childhood hero, Luffy and his crew travel across the Grand Line, experiencing crazy adventures, unveiling dark mysteries and battling strong enemies, all in order to reach the most coveted of all fortunes—One Piece. [Written by MAL Rewrite]',\n",
       "  'cover': 'https://cdn.myanimelist.net/images/anime/6/73245l.jpg',\n",
       "  'type': 'TV',\n",
       "  'rating': 'PG-13 - Teens 13 or older'},\n",
       " {'name': 'prince of tennis',\n",
       "  'english_title': 'Tennis no Ouji-sama',\n",
       "  'japanses_title': 'テニスの王子様',\n",
       "  'genre': 'Shounen',\n",
       "  'source': 'Manga',\n",
       "  'duration': '22 min per ep',\n",
       "  'episodes': 178.0,\n",
       "  'score': 7.86,\n",
       "  'rank': 799.0,\n",
       "  'synopsis': 'At the request of his father, tennis prodigy Ryouma Echizen has returned from America and is ready to take the Japanese tennis scene by storm. Aiming to become the best tennis player in the country, he enrolls in Seishun Academy—home to one of the best middle school tennis teams in Japan. After Ryouma catches the captain\\'s eye, he finds himself playing for a spot on the starting lineup in the intra-school ranking matches despite only being a freshman. Due to his age, the rest of the Seishun Boys\\' Tennis Team are initially reluctant to accept him, but his skill and determination convinces them to let him in. Armed with their new \"super rookie,\" Seishun sets out to claim a spot in the National Tournament, hoping to take the coveted title for themselves. In order to do so, the team must qualify by playing through the Tokyo Prefectural and Kanto Regionals. Yet, the road ahead of them is shared by a plethora of strong schools, each playing tennis in unique ways for their own reasons. Ryouma and his teammates must learn to cooperate if they want to become the champions they aspire to be. [Written by MAL Rewrite]',\n",
       "  'cover': 'https://cdn.myanimelist.net/images/anime/6/21624l.jpg',\n",
       "  'type': 'TV',\n",
       "  'rating': 'PG-13 - Teens 13 or older'},\n",
       " {'name': 'yakitate   japan',\n",
       "  'english_title': 'Yakitate!! Japan',\n",
       "  'japanses_title': '焼きたて!! ジャぱん',\n",
       "  'genre': 'Shounen',\n",
       "  'source': 'Manga',\n",
       "  'duration': '24 min per ep',\n",
       "  'episodes': 69.0,\n",
       "  'score': 7.92,\n",
       "  'rank': 687.0,\n",
       "  'synopsis': \"While countries such as France, England, and Germany all have their own internationally celebrated bread, Japan simply does not have one that can match in reputation. Thus after discovering the wonders of breadmaking at a young age, Kazuma Azuma embarks on a quest to create Japan's own unique national bread. And being blessed with unusually warm hands that allow dough to ferment faster, Azuma is able to bring his baking innovations to another level. As he begins working at the prestigious Japanese bakery chain, Pantasia, Azuma encounters other talented bakers and experiences firsthand the competitive world of baking. Along with his newfound friends and rivals, Azuma strives to create new and unparalleled bread that will start a baking revolution. [Written by MAL Rewrite]\",\n",
       "  'cover': 'https://cdn.myanimelist.net/images/anime/3/76432l.jpg',\n",
       "  'type': 'TV',\n",
       "  'rating': 'PG-13 - Teens 13 or older'},\n",
       " {'name': 'black cat',\n",
       "  'english_title': 'Black Cat (TV)',\n",
       "  'japanses_title': 'ブラックキャット',\n",
       "  'genre': 'Shounen',\n",
       "  'source': 'Manga',\n",
       "  'duration': '24 min per ep',\n",
       "  'episodes': 23.0,\n",
       "  'score': 7.33,\n",
       "  'rank': 2390.0,\n",
       "  'synopsis': 'Completing every job with ruthless accuracy, Train Heartnet is an infamous assassin with no regard for human life. Donning the moniker \"Black Cat\" in the underground world, the elite killer works for the powerful secret organization known only as Chronos. One gloomy night, the blasé gunman stumbles upon Saya Minatsuki, an enigmatic bounty hunter, and soon develops an odd friendship with her. Influenced by Saya\\'s positive outlook on life, Train begins to rethink his life. Deciding to abandon his role as the Black Cat, he instead opts to head down a virtuous path as an honest bounty hunter. However, Chronos—and particularly Creed Diskenth, Train\\'s possessive underling—is not impressed with Train\\'s sudden change of heart and vows to resort to extreme measures in order to bring back the emissary of bad luck. This assassin turned \"stray cat\" can only wander so far before the deafening sound of gunfire rings out. [Written by MAL Rewrite]',\n",
       "  'cover': 'https://cdn.myanimelist.net/images/anime/1183/133280l.jpg',\n",
       "  'type': 'TV',\n",
       "  'rating': 'PG-13 - Teens 13 or older'},\n",
       " {'name': 'chuuka ichiban ',\n",
       "  'english_title': 'Chuuka Ichiban!',\n",
       "  'japanses_title': '中華一番',\n",
       "  'genre': 'Shounen',\n",
       "  'source': 'Manga',\n",
       "  'duration': '23 min per ep',\n",
       "  'episodes': 52.0,\n",
       "  'score': 7.59,\n",
       "  'rank': 1413.0,\n",
       "  'synopsis': 'The story takes place in 19th century China during the Qing Dynasty, where the Emperor was weakened and the country was close to chaos. It is also during a fictitious era called \"The Era of the Cooking Wars\". It was an era in which top chefs with different cooking styles tried their best to improve their skills and to become the best chef in China. It is a country where insulting a high-grade chef or fooling around with cooking could land a person in a jail, and impersonating a top-chef is as good as usurpation of authority. Chefs compete with each other in order to gain respect and even power, but also with the risks of losing everything. The country of China has four major regions: Beijing, Szechuan, Shanghai, and Guangdong. The beginning of the story takes place in Szechuan, Mao\\'s birthplace. After the death of Mao\\'s mother, Pai, who was called the \\'Fairy of Cuisine\\', Mao becomes a Super Chef in order to take the title as Master Chef of his mother\\'s restaurant. However, before he takes his mother\\'s place as Master Chef, he continues to travel China in order to learn more of the many ways of cooking, in the hopes of becoming a legendary chef, just like his mother. During his journey, he meets great friends and fierce rivals who wish to challenge him in the field of cooking. (Source: Wikipedia)',\n",
       "  'cover': 'https://cdn.myanimelist.net/images/anime/6/75283l.jpg',\n",
       "  'type': 'TV',\n",
       "  'rating': 'PG-13 - Teens 13 or older'},\n",
       " {'name': 'sakigake   cromartie koukou',\n",
       "  'english_title': 'Sakigake!! Cromartie Koukou',\n",
       "  'japanses_title': '魁!! クロマティ高校',\n",
       "  'genre': 'Shounen',\n",
       "  'source': 'Manga',\n",
       "  'duration': '12 min per ep',\n",
       "  'episodes': 26.0,\n",
       "  'score': 7.9,\n",
       "  'rank': 720.0,\n",
       "  'synopsis': 'Takashi Kamiyama is your typical mild-mannered high school student—polite, aloof, and pacifistic, with a slightly above-average IQ. But would your average high school student really enroll himself at the infamous Cromartie High School, known as a breeding ground for the toughest delinquents out there? Apparently so, as that is exactly what Takashi does, though for reasons he\\'d rather leave unmentioned. However, one thing is for sure: the \"hard-boiled rabbit in a den full of hungry lions\" is never going to have another dull day. And how could he, now that he\\'s surrounded by mohawked punks, obnoxious robots, and... gorillas? And was that Freddie Mercury riding a horse down the corridor? Follow Takashi as he earnestly dedicates his new high school life to better his school\\'s reputation while his classmates are hellbent on wreaking havoc. [Written by MAL Rewrite]',\n",
       "  'cover': 'https://cdn.myanimelist.net/images/anime/1419/101839l.jpg',\n",
       "  'type': 'TV',\n",
       "  'rating': 'PG-13 - Teens 13 or older'},\n",
       " {'name': 'getbackers',\n",
       "  'english_title': 'GetBackers',\n",
       "  'japanses_title': 'ゲットバッカーズ\\u3000奪還屋',\n",
       "  'genre': 'Shounen',\n",
       "  'source': 'Manga',\n",
       "  'duration': '24 min per ep',\n",
       "  'episodes': 49.0,\n",
       "  'score': 7.58,\n",
       "  'rank': 1462.0,\n",
       "  'synopsis': 'Mido Ban and Amano Ginji are known as the Get Backers, retrievers with a success rate of 100%. Whatever is lost or stolen, they can definitely get it back. Despite their powerful abilities and enthusiastic behavior, Ban and Ginji are terminally broke no matter what they do simply because few people would actually desire to hire them. As a result, the pair of them tend to do dangerous jobs, often leading to unwanted re-encounters with their old (and dangerous) friends.',\n",
       "  'cover': 'https://cdn.myanimelist.net/images/anime/4/7547l.jpg',\n",
       "  'type': 'TV',\n",
       "  'rating': 'PG-13 - Teens 13 or older'},\n",
       " {'name': 'hunter x hunter',\n",
       "  'english_title': 'Hunter x Hunter',\n",
       "  'japanses_title': 'HUNTER×HUNTER（ハンター×ハンター）',\n",
       "  'genre': 'Shounen',\n",
       "  'source': 'Manga',\n",
       "  'duration': '23 min per ep',\n",
       "  'episodes': 62.0,\n",
       "  'score': 8.41,\n",
       "  'rank': 166.0,\n",
       "  'synopsis': 'Hunters are specialized in a wide variety of fields, ranging from treasure hunting to cooking. They have access to otherwise unavailable funds and information that allow them to pursue their dreams and interests. However, being a hunter is a special privilege, only attained by taking a deadly exam with an extremely low success rate. Gon Freecss, a 12-year-old boy with the hope of finding his missing father, sets out on a quest to take the Hunter Exam. Along the way, he picks up three companions who also aim to take the dangerous test: the revenge-seeking Kurapika, aspiring doctor Leorio Paladiknight, and a mischievous child the same age as Gon, Killua Zoldyck. As the four aspiring hunters embark on a perilous adventure, they fight for their dreams while defying the odds. [Written by MAL Rewrite]',\n",
       "  'cover': 'https://cdn.myanimelist.net/images/anime/1305/132237l.jpg',\n",
       "  'type': 'TV',\n",
       "  'rating': 'PG-13 - Teens 13 or older'},\n",
       " {'name': 'dragon ball',\n",
       "  'english_title': 'Dragon Ball',\n",
       "  'japanses_title': 'ドラゴンボール',\n",
       "  'genre': 'Shounen',\n",
       "  'source': 'Manga',\n",
       "  'duration': '24 min per ep',\n",
       "  'episodes': 153.0,\n",
       "  'score': 7.96,\n",
       "  'rank': 630.0,\n",
       "  'synopsis': 'Gokuu Son is a young boy who lives in the woods all alone—that is, until a girl named Bulma runs into him in her search for a set of magical objects called the \"Dragon Balls.\" Since the artifacts are said to grant one wish to whoever collects all seven, Bulma hopes to gather them and wish for a perfect boyfriend. Gokuu happens to be in possession of a dragon ball, but unfortunately for Bulma, he refuses to part ways with it, so she makes him a deal: he can tag along on her journey if he lets her borrow the dragon ball\\'s power. With that, the two set off on the journey of a lifetime. They don\\'t go on the journey alone. On the way, they meet the old Muten-Roshi and wannabe disciple Kuririn, with whom Gokuu trains to become a stronger martial artist for the upcoming World Martial Arts Tournament. However, it\\'s not all fun and games; the ability to make any wish come true is a powerful one, and there are others who would do much worse than just wishing for a boyfriend. To stop those who would try to abuse the legendary power, they train to become stronger fighters, using their newfound strength to help the people around them along the way. [Written by MAL Rewrite]',\n",
       "  'cover': 'https://cdn.myanimelist.net/images/anime/1887/92364l.jpg',\n",
       "  'type': 'TV',\n",
       "  'rating': 'PG-13 - Teens 13 or older'},\n",
       " {'name': 'rekka no honoo',\n",
       "  'english_title': 'Rekka no Honoo',\n",
       "  'japanses_title': '烈火の炎',\n",
       "  'genre': 'Shounen',\n",
       "  'source': 'Manga',\n",
       "  'duration': '23 min per ep',\n",
       "  'episodes': 42.0,\n",
       "  'score': 7.34,\n",
       "  'rank': 2349.0,\n",
       "  'synopsis': 'Most people think that ninjas are a thing of the past, but Rekka Hanabishi wishes otherwise. Although he comes from a family that makes fireworks, he likes to think of himself as a self-styled, modern-day ninja. Sounds like fun, right? Maybe not. Rekka ends up in lots of fights because he once made the bold announcement that if someone can defeat him, he will become their servant. Then one day, Rekka meets Yanagi Sakoshita, a gentle girl with the ability to heal any wound or injury. Their meeting sets off a chain of events, which culminate into a shocking discovery. Rekka is the last surviving member of a legendary ninja clan that was wiped out centuries ago. Even more astonishing than being an actual ninja, he also wields the power to control fire. What does this mean for Rekka? Who are these strange people after him and Yanagi? Find out in Rekka no Honoo!',\n",
       "  'cover': 'https://cdn.myanimelist.net/images/anime/1646/113504l.jpg',\n",
       "  'type': 'TV',\n",
       "  'rating': 'PG-13 - Teens 13 or older'},\n",
       " {'name': 'bleach',\n",
       "  'english_title': 'Bleach',\n",
       "  'japanses_title': 'BLEACH - ブリーチ -',\n",
       "  'genre': 'Shounen',\n",
       "  'source': 'Manga',\n",
       "  'duration': '24 min per ep',\n",
       "  'episodes': 366.0,\n",
       "  'score': 7.9,\n",
       "  'rank': 722.0,\n",
       "  'synopsis': \"Ichigo Kurosaki is an ordinary high schooler—until his family is attacked by a Hollow, a corrupt spirit that seeks to devour human souls. It is then that he meets a Soul Reaper named Rukia Kuchiki, who gets injured while protecting Ichigo's family from the assailant. To save his family, Ichigo accepts Rukia's offer of taking her powers and becomes a Soul Reaper as a result. However, as Rukia is unable to regain her powers, Ichigo is given the daunting task of hunting down the Hollows that plague their town. However, he is not alone in his fight, as he is later joined by his friends—classmates Orihime Inoue, Yasutora Sado, and Uryuu Ishida—who each have their own unique abilities. As Ichigo and his comrades get used to their new duties and support each other on and off the battlefield, the young Soul Reaper soon learns that the Hollows are not the only real threat to the human world. [Written by MAL Rewrite]\",\n",
       "  'cover': 'https://cdn.myanimelist.net/images/anime/3/40451l.jpg',\n",
       "  'type': 'TV',\n",
       "  'rating': 'PG-13 - Teens 13 or older'},\n",
       " {'name': 'yuu yuu hakusho',\n",
       "  'english_title': 'Yuu☆Yuu☆Hakusho',\n",
       "  'japanses_title': '幽☆遊☆白書',\n",
       "  'genre': 'Shounen',\n",
       "  'source': 'Manga',\n",
       "  'duration': '24 min per ep',\n",
       "  'episodes': 112.0,\n",
       "  'score': 8.45,\n",
       "  'rank': 145.0,\n",
       "  'synopsis': \"One fateful day, Yuusuke Urameshi, a 14-year-old delinquent with a dim future, gets a miraculous chance to turn it all around when he throws himself in front of a moving car to save a young boy. His ultimate sacrifice is so out of character that the authorities of the spirit realm are not yet prepared to let him pass on. Koenma, heir to the throne of the spirit realm, offers Yuusuke an opportunity to regain his life through completion of a series of tasks. With the guidance of the death god Botan, he is to thwart evil presences on Earth as a Spirit Detective. To help him on his venture, Yuusuke enlists ex-rival Kazuma Kuwabara, and two demons, Hiei and Kurama, who have criminal pasts. Together, they train and battle against enemies who would threaten humanity's very existence. [Written by MAL Rewrite]\",\n",
       "  'cover': 'https://cdn.myanimelist.net/images/anime/1228/111372l.jpg',\n",
       "  'type': 'TV',\n",
       "  'rating': 'PG-13 - Teens 13 or older'},\n",
       " {'name': 'yu gi oh   duel monsters gx',\n",
       "  'english_title': 'Yu☆Gi☆Oh! Duel Monsters GX',\n",
       "  'japanses_title': '遊☆戯☆王\\u3000デュエルモンスターズ GX',\n",
       "  'genre': 'Shounen',\n",
       "  'source': 'Manga',\n",
       "  'duration': '23 min per ep',\n",
       "  'episodes': 180.0,\n",
       "  'score': 7.19,\n",
       "  'rank': 3125.0,\n",
       "  'synopsis': 'In the world of Duel Monsters, a new generation of duelists await their turn to bid for the highest title: The King of Games. As an aspiring duelist, the happy-go-lucky Juudai Yuuki enrolls at the Duel Academy, a reputable institution tasked with nurturing these potential challengers. On his first day, however, Juudai\\'s laid back and careless attitude causes him to arrive late to his entrance exam. There, he stumbles upon a familiar figure who entrusts him the \"Winged Kuriboh,\" a card which becomes Judai\\'s new partner. Soon, he begins living as a duelist—but will destiny and darkness bend his reality into something beyond his imagination? Yu☆Gi☆Oh!: Duel Monsters GX follows the story of Juudai as he strives to fulfill his goal of becoming the next King of Games. As they are thrust into countless unprecedented circumstances, one thing is for sure for Juudai and his friends—there will never be a dull moment at the Duel Academy! [Written by MAL Rewrite]',\n",
       "  'cover': 'https://cdn.myanimelist.net/images/anime/6/20873l.jpg',\n",
       "  'type': 'TV',\n",
       "  'rating': 'PG-13 - Teens 13 or older'},\n",
       " {'name': 'keroro gunsou',\n",
       "  'english_title': 'Keroro Gunsou',\n",
       "  'japanses_title': 'ケロロ軍曹',\n",
       "  'genre': 'Shounen',\n",
       "  'source': 'Manga',\n",
       "  'duration': '23 min per ep',\n",
       "  'episodes': 358.0,\n",
       "  'score': 7.69,\n",
       "  'rank': 1163.0,\n",
       "  'synopsis': \"It is the year 2004 AD, and pandemonium breaks as a mysterious frog-like alien race fills the sky with UFOs—or so 12-year-old Fuyuki Hinata dreams. Coincidentally, Sergeant Keroro, leader of a preliminary squad for the Keronian invasion of Pekopon—the alien name for Earth—begins his mission by invading Fuyuki's home. After subduing the boy and his sister, Keroro plans to reunite with his comrades and return to the mothership to repair his invaluable invasion device, the Kero Ball. Unfortunately, he receives word that headquarters has abandoned his unit's retrieval due to an unprecedented issue that forced the rest of the Keronians to flee. Consequently, Keroro is forced to stay at the Hinata residence together with the friendly, starry-eyed Fuyuki; his athletic, short-tempered sister Natsumi; and their hardworking, attractive mother Aki. Now stuck until further notice, Keroro and his platoon spend each day plotting world domination, but are thwarted each and every time by various unexpected factors. Nevertheless, as they live alongside humans, they learn to treat them as friends and allies, forming comedic yet meaningful connections that make their lives on Earth worthwhile. [Written by MAL Rewrite]\",\n",
       "  'cover': 'https://cdn.myanimelist.net/images/anime/2/21764l.jpg',\n",
       "  'type': 'TV',\n",
       "  'rating': 'PG-13 - Teens 13 or older'},\n",
       " {'name': 'yu gi oh ',\n",
       "  'english_title': 'Yu☆Gi☆Oh!',\n",
       "  'japanses_title': '遊☆戯☆王',\n",
       "  'genre': 'Shounen',\n",
       "  'source': 'Manga',\n",
       "  'duration': '24 min per ep',\n",
       "  'episodes': 27.0,\n",
       "  'score': 7.22,\n",
       "  'rank': 2958.0,\n",
       "  'synopsis': 'Bullies often target someone frail and weak—someone exactly like Yuugi Mutou. His beautiful childhood friend, Anzu Mazaki, is always there to stand up for him, but he can\\'t depend on her forever. Katsuya Jonouchi, who is almost always accompanied by his verbal sparring partner Hiroto Honda, doesn\\'t seem like a bad person either, despite always bringing Yuugi trouble. But most of all, Yuugi wishes for a true friend who understands him and would never betray him. Yuugi treasures his Millennium Puzzle, an ancient Egyptian artifact that was brought into his grandfather\\'s game shop. Believing that solving the puzzle will grant him his wish, he completes the puzzle, unleashing a new personality within him—the soul of the \"King of Games.\" Dark, twisted, strong, and reliable, the new personality named Yami Yuugi is the exact opposite of Yuugi. Upon any injustice toward him, Yami Yuugi takes over Yuugi\\'s body and forces the opponent into a \"Shadow Game.\" The stakes are high as whoever loses shall have a taste of the darkness that resides within their own heart. [Written by MAL Rewrite]',\n",
       "  'cover': 'https://cdn.myanimelist.net/images/anime/4/47487l.jpg',\n",
       "  'type': 'TV',\n",
       "  'rating': 'PG-13 - Teens 13 or older'},\n",
       " {'name': 'dragon ball z',\n",
       "  'english_title': 'Dragon Ball Z',\n",
       "  'japanses_title': 'ドラゴンボールZ',\n",
       "  'genre': 'Shounen',\n",
       "  'source': 'Manga',\n",
       "  'duration': '24 min per ep',\n",
       "  'episodes': 291.0,\n",
       "  'score': 8.16,\n",
       "  'rank': 389.0,\n",
       "  'synopsis': \"Five years after winning the World Martial Arts tournament, Gokuu is now living a peaceful life with his wife and son. This changes, however, with the arrival of a mysterious enemy named Raditz who presents himself as Gokuu's long-lost brother. He reveals that Gokuu is a warrior from the once powerful but now virtually extinct Saiyan race, whose homeworld was completely annihilated. When he was sent to Earth as a baby, Gokuu's sole purpose was to conquer and destroy the planet; but after suffering amnesia from a head injury, his violent and savage nature changed, and instead was raised as a kind and well-mannered boy, now fighting to protect others. With his failed attempt at forcibly recruiting Gokuu as an ally, Raditz warns Gokuu's friends of a new threat that's rapidly approaching Earth—one that could plunge Earth into an intergalactic conflict and cause the heavens themselves to shake. A war will be fought over the seven mystical dragon balls, and only the strongest will survive in Dragon Ball Z. [Written by MAL Rewrite]\",\n",
       "  'cover': 'https://cdn.myanimelist.net/images/anime/1607/117271l.jpg',\n",
       "  'type': 'TV',\n",
       "  'rating': 'PG-13 - Teens 13 or older'},\n",
       " {'name': 'lupin iii',\n",
       "  'english_title': 'Lupin III',\n",
       "  'japanses_title': 'ルパン三世',\n",
       "  'genre': 'Shounen',\n",
       "  'source': 'Manga',\n",
       "  'duration': '25 min per ep',\n",
       "  'episodes': 23.0,\n",
       "  'score': 7.63,\n",
       "  'rank': 1313.0,\n",
       "  'synopsis': \"Arsène Lupin III is the grandson of world-famous thief Arsène Lupin, and he's living up to his grandfather's memory as a high-profile thief himself. Due to his infamy, Lupin III attracts the attention of the persistent Inspector Zenigata of the ICPO, as well as rival criminals. Lupin III's criminal lifestyle even seeps into his love life. The main woman in Lupin III's world is femme fatale Fujiko Mine, who Lupin III can never tell is working with or against him. Follow Lupin and his gunman partner Daisuke Jigen on their quest to own the world－or at least the valuable bits!\",\n",
       "  'cover': 'https://cdn.myanimelist.net/images/anime/10/15625l.jpg',\n",
       "  'type': 'TV',\n",
       "  'rating': 'PG-13 - Teens 13 or older'},\n",
       " {'name': 'lupin iii  part ii',\n",
       "  'english_title': 'Lupin III: Part II',\n",
       "  'japanses_title': '新・ルパン三世',\n",
       "  'genre': 'Shounen',\n",
       "  'source': 'Manga',\n",
       "  'duration': '25 min per ep',\n",
       "  'episodes': 155.0,\n",
       "  'score': 7.77,\n",
       "  'rank': 978.0,\n",
       "  'synopsis': \"Lupin III chronicles the adventures of Arsene Lupin III, the world's greatest thief, and his partners in crime: master marksman Daisuke Jigen, beautiful and scheming Fujiko Mine and stoic samurai Goemon Ishikawa XIII. Lupin and his gang travel around the globe in search of the world's greatest treasures and riches and always keeping one step ahead of the tireless Inspector Zenigata, who has vowed to bring Lupin to justice. (Source: ANN)\",\n",
       "  'cover': 'https://cdn.myanimelist.net/images/anime/7/34035l.jpg',\n",
       "  'type': 'TV',\n",
       "  'rating': 'PG-13 - Teens 13 or older'},\n",
       " {'name': 'city hunter',\n",
       "  'english_title': 'City Hunter',\n",
       "  'japanses_title': 'シティーハンター',\n",
       "  'genre': 'Shounen',\n",
       "  'source': 'Manga',\n",
       "  'duration': '24 min per ep',\n",
       "  'episodes': 51.0,\n",
       "  'score': 7.92,\n",
       "  'rank': 700.0,\n",
       "  'synopsis': '\"City Hunter\" is a notorious contractor group with the call sign \"XYZ.\" No matter the job, they will take it, cleaning up the scum on the streets of Tokyo. The key member of City Hunter is Ryou Saeba; armed with his trusty Colt Python and pinpoint accuracy, he works alongside willful tomboy Kaori Makimura. Together they solve tough cases and tackle the numerous dangers that accompany their trade head-on. However, when he\\'s not out hunting crooks and villains, Ryou finds pleasure in chasing beautiful ladies with only Kaori and her one hundred-ton hammer to keep him in check. From pickpockets and arms dealers to crime syndicates, nothing can stand in the way of Ryou Saeba when he takes aim at his next mission. [Written by MAL Rewrite]',\n",
       "  'cover': 'https://cdn.myanimelist.net/images/anime/8/20587l.jpg',\n",
       "  'type': 'TV',\n",
       "  'rating': 'PG-13 - Teens 13 or older'}]"
      ]
     },
     "execution_count": 28,
     "metadata": {},
     "output_type": "execute_result"
    }
   ],
   "source": [
    "# We can get the recommendation as a dictionary\n",
    "# We selec the name of the anime we want to find similitudes\n",
    "# Then the genre we want (or write \"All\")\n",
    "# Then the type we want (or write \"All\")\n",
    "# Then the number of suggestions we have(we might get less if there not so many o none if there is no matches)\n",
    "\n",
    "create_dict(print_similar_animes(\"Naruto\"),[\"Shounen\"],[\"TV\"],\"or\",20)"
   ]
  }
 ],
 "metadata": {
  "kernelspec": {
   "display_name": "stlit",
   "language": "python",
   "name": "python3"
  },
  "language_info": {
   "codemirror_mode": {
    "name": "ipython",
    "version": 3
   },
   "file_extension": ".py",
   "mimetype": "text/x-python",
   "name": "python",
   "nbconvert_exporter": "python",
   "pygments_lexer": "ipython3",
   "version": "3.10.6"
  },
  "orig_nbformat": 4,
  "vscode": {
   "interpreter": {
    "hash": "cecd28889de614796b096279bba34faf450ea72cc4d265581beb94f7bfeace2c"
   }
  }
 },
 "nbformat": 4,
 "nbformat_minor": 2
}
