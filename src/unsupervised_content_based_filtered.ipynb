{
 "cells": [
  {
   "attachments": {},
   "cell_type": "markdown",
   "metadata": {},
   "source": [
    "# Unsupervised content based recommendation system"
   ]
  },
  {
   "attachments": {},
   "cell_type": "markdown",
   "metadata": {},
   "source": [
    "## Import Libraries"
   ]
  },
  {
   "cell_type": "code",
   "execution_count": 1,
   "metadata": {},
   "outputs": [
    {
     "name": "stderr",
     "output_type": "stream",
     "text": [
      "c:\\Users\\christiandda\\miniconda3\\envs\\stlit\\lib\\site-packages\\fuzzywuzzy\\fuzz.py:11: UserWarning: Using slow pure-python SequenceMatcher. Install python-Levenshtein to remove this warning\n",
      "  warnings.warn('Using slow pure-python SequenceMatcher. Install python-Levenshtein to remove this warning')\n"
     ]
    }
   ],
   "source": [
    "# Standard library imports\n",
    "import os # allows access to OS-dependent functionalities\n",
    "import re #  regular expression matching operations similar to those found in Perl\n",
    "import sys # to manipulate different parts of the Python runtime environment\n",
    "import warnings # is used to display the message Warning\n",
    "import pickle # serializing and deserializing a Python object structure.\n",
    "\n",
    "# Third party libraries\n",
    "from fastparquet import write # parquet format, aiming integrate into python-based big data work-flows\n",
    "from fuzzywuzzy import fuzz # used for string matching\n",
    "\n",
    "import numpy as np # functions for working in domain of linear algebra, fourier transform, matrices and arrays\n",
    "import pandas as pd # data analysis and manipulation tool\n",
    "import joblib # set of tools to provide lightweight pipelining in Python\n",
    "\n",
    "# deal with sparse data libraries\n",
    "from scipy.sparse import csr_matrix # Returns a copy of column i of the matrix, as a (m x 1) CSR matrix (column vector).\n",
    "\n",
    "# visualization\n",
    "#import seaborn as sns # data visualization library based on matplotlib.\n",
    "import matplotlib.pyplot as plt # collection of functions that make matplotlib work like MATLAB.\n",
    "\n",
    "## scikit Preprocessing data libraries\n",
    "from sklearn.preprocessing import MinMaxScaler # Transform features by scaling each feature to a given range.\n",
    "\n",
    "## scikit Feature Extraction libraries\n",
    "from sklearn.feature_extraction.text import TfidfVectorizer # Convert a collection of raw documents to a matrix of TF-IDF features\n",
    "from sklearn.feature_extraction.text import CountVectorizer # Convert a collection of text documents to a matrix of token counts.\n",
    "\n",
    "## scikit Pairwise metrics libraries\n",
    "#implements utilities to evaluate pairwise distances or affinity of sets of samples.\n",
    "from sklearn.metrics.pairwise import sigmoid_kernel\n",
    "from sklearn.metrics.pairwise import cosine_similarity \n",
    "from sklearn.metrics.pairwise import linear_kernel \n",
    "\n",
    "## scikit Cross validation iterators libraries\n",
    "from sklearn.model_selection import GridSearchCV\n",
    "\n",
    "# Unsupervised learner for implementing neighbor searches.\n",
    "from sklearn.neighbors import NearestNeighbors\n",
    "\n",
    "# setting display options\n",
    "pd.set_option('display.max_columns', None)\n",
    "pd.set_option('display.max_rows', None)\n",
    "pd.set_option('display.max_colwidth', None)\n",
    "\n",
    "# Utils libraries\n",
    "from utils import cleaning\n",
    "from utils import recommend\n",
    "from utils import testing\n",
    "from utils import training\n",
    "\n",
    "#Preparing folder variables\n",
    "os.chdir(os.path.dirname(sys.path[0])) # This command makes the notebook the main path and can work in cascade.\n",
    "main_folder = sys.path[0]\n",
    "data_folder = (main_folder + \"\\data\")\n",
    "saved_models_folder = (data_folder + \"\\saved_models\")\n",
    "raw_data = (data_folder + \"\\_raw\")\n",
    "processed_data = (data_folder + \"\\processed\")\n",
    "content_based_supervised_data = (data_folder + \"\\processed\\content_based_supervised\")"
   ]
  },
  {
   "attachments": {},
   "cell_type": "markdown",
   "metadata": {},
   "source": [
    "## Cleaning and preparing the data"
   ]
  },
  {
   "cell_type": "code",
   "execution_count": 17,
   "metadata": {},
   "outputs": [
    {
     "data": {
      "text/html": [
       "<div>\n",
       "<style scoped>\n",
       "    .dataframe tbody tr th:only-of-type {\n",
       "        vertical-align: middle;\n",
       "    }\n",
       "\n",
       "    .dataframe tbody tr th {\n",
       "        vertical-align: top;\n",
       "    }\n",
       "\n",
       "    .dataframe thead th {\n",
       "        text-align: right;\n",
       "    }\n",
       "</style>\n",
       "<table border=\"1\" class=\"dataframe\">\n",
       "  <thead>\n",
       "    <tr style=\"text-align: right;\">\n",
       "      <th></th>\n",
       "      <th>English_Title</th>\n",
       "      <th>Type</th>\n",
       "      <th>Source</th>\n",
       "      <th>N_Episodes</th>\n",
       "      <th>Duration</th>\n",
       "      <th>Rating</th>\n",
       "      <th>Score</th>\n",
       "      <th>Scored_by</th>\n",
       "      <th>Rank</th>\n",
       "      <th>Genre</th>\n",
       "      <th>Theme</th>\n",
       "      <th>Released</th>\n",
       "      <th>Studios</th>\n",
       "      <th>Producers</th>\n",
       "    </tr>\n",
       "  </thead>\n",
       "  <tbody>\n",
       "    <tr>\n",
       "      <th>0</th>\n",
       "      <td>Cowboy Bebop</td>\n",
       "      <td>TV</td>\n",
       "      <td>Original</td>\n",
       "      <td>26</td>\n",
       "      <td>24</td>\n",
       "      <td>R - 17+ (violence &amp; profanity)</td>\n",
       "      <td>8.75</td>\n",
       "      <td>873436</td>\n",
       "      <td>39</td>\n",
       "      <td>Action,Sci-Fi</td>\n",
       "      <td>Adult Cast,Space</td>\n",
       "      <td>1998</td>\n",
       "      <td>Sunrise</td>\n",
       "      <td>Bandai Visual</td>\n",
       "    </tr>\n",
       "    <tr>\n",
       "      <th>1</th>\n",
       "      <td>Cowboy Bebop: Tengoku no Tobira</td>\n",
       "      <td>Movie</td>\n",
       "      <td>Original</td>\n",
       "      <td>1</td>\n",
       "      <td>115</td>\n",
       "      <td>R - 17+ (violence &amp; profanity)</td>\n",
       "      <td>8.38</td>\n",
       "      <td>199329</td>\n",
       "      <td>185</td>\n",
       "      <td>Action,Sci-Fi</td>\n",
       "      <td>Adult Cast,Space</td>\n",
       "      <td>2001</td>\n",
       "      <td>Bones</td>\n",
       "      <td>Sunrise,Bandai Visual</td>\n",
       "    </tr>\n",
       "    <tr>\n",
       "      <th>2</th>\n",
       "      <td>Trigun</td>\n",
       "      <td>TV</td>\n",
       "      <td>Manga</td>\n",
       "      <td>26</td>\n",
       "      <td>24</td>\n",
       "      <td>PG-13 - Teens 13 or older</td>\n",
       "      <td>8.22</td>\n",
       "      <td>339491</td>\n",
       "      <td>323</td>\n",
       "      <td>Action,Adventure,Comedy,Drama,Sci-Fi</td>\n",
       "      <td>Adult Cast</td>\n",
       "      <td>1998</td>\n",
       "      <td>Madhouse</td>\n",
       "      <td>Victor Entertainment</td>\n",
       "    </tr>\n",
       "    <tr>\n",
       "      <th>3</th>\n",
       "      <td>Witch Hunter Robin</td>\n",
       "      <td>TV</td>\n",
       "      <td>Original</td>\n",
       "      <td>26</td>\n",
       "      <td>25</td>\n",
       "      <td>PG-13 - Teens 13 or older</td>\n",
       "      <td>7.25</td>\n",
       "      <td>42135</td>\n",
       "      <td>2766</td>\n",
       "      <td>Action,Drama,Mystery,Supernatural</td>\n",
       "      <td>Detective</td>\n",
       "      <td>2002</td>\n",
       "      <td>Sunrise</td>\n",
       "      <td>TV Tokyo,Bandai Visual,Dentsu,Victor Entertainment</td>\n",
       "    </tr>\n",
       "    <tr>\n",
       "      <th>4</th>\n",
       "      <td>Bouken Ou Beet</td>\n",
       "      <td>TV</td>\n",
       "      <td>Manga</td>\n",
       "      <td>52</td>\n",
       "      <td>23</td>\n",
       "      <td>PG - Children</td>\n",
       "      <td>6.95</td>\n",
       "      <td>6307</td>\n",
       "      <td>4188</td>\n",
       "      <td>Adventure,Fantasy,Supernatural</td>\n",
       "      <td>Unknown</td>\n",
       "      <td>2004</td>\n",
       "      <td>Toei Animation</td>\n",
       "      <td>TV Tokyo,Dentsu</td>\n",
       "    </tr>\n",
       "  </tbody>\n",
       "</table>\n",
       "</div>"
      ],
      "text/plain": [
       "                     English_Title   Type    Source  N_Episodes  Duration  \\\n",
       "0                     Cowboy Bebop     TV  Original          26        24   \n",
       "1  Cowboy Bebop: Tengoku no Tobira  Movie  Original           1       115   \n",
       "2                           Trigun     TV     Manga          26        24   \n",
       "3               Witch Hunter Robin     TV  Original          26        25   \n",
       "4                   Bouken Ou Beet     TV     Manga          52        23   \n",
       "\n",
       "                           Rating  Score  Scored_by  Rank  \\\n",
       "0  R - 17+ (violence & profanity)   8.75     873436    39   \n",
       "1  R - 17+ (violence & profanity)   8.38     199329   185   \n",
       "2       PG-13 - Teens 13 or older   8.22     339491   323   \n",
       "3       PG-13 - Teens 13 or older   7.25      42135  2766   \n",
       "4                   PG - Children   6.95       6307  4188   \n",
       "\n",
       "                                  Genre             Theme  Released  \\\n",
       "0                         Action,Sci-Fi  Adult Cast,Space      1998   \n",
       "1                         Action,Sci-Fi  Adult Cast,Space      2001   \n",
       "2  Action,Adventure,Comedy,Drama,Sci-Fi        Adult Cast      1998   \n",
       "3     Action,Drama,Mystery,Supernatural         Detective      2002   \n",
       "4        Adventure,Fantasy,Supernatural           Unknown      2004   \n",
       "\n",
       "          Studios                                           Producers  \n",
       "0         Sunrise                                       Bandai Visual  \n",
       "1           Bones                               Sunrise,Bandai Visual  \n",
       "2        Madhouse                                Victor Entertainment  \n",
       "3         Sunrise  TV Tokyo,Bandai Visual,Dentsu,Victor Entertainment  \n",
       "4  Toei Animation                                     TV Tokyo,Dentsu  "
      ]
     },
     "execution_count": 17,
     "metadata": {},
     "output_type": "execute_result"
    }
   ],
   "source": [
    "fichero = open(raw_data + \"/\" +\"anime.pkl\",\"rb\")\n",
    "anime_covers_cleaned = pickle.load(fichero)\n",
    "fichero.close()\n",
    "anime_covers_cleaned.head(5)"
   ]
  },
  {
   "cell_type": "code",
   "execution_count": 19,
   "metadata": {},
   "outputs": [],
   "source": [
    "anime = pd.read_csv(raw_data + \"/\" + \"anime.csv\")# load anime df"
   ]
  },
  {
   "cell_type": "code",
   "execution_count": 20,
   "metadata": {},
   "outputs": [
    {
     "data": {
      "text/html": [
       "<div>\n",
       "<style scoped>\n",
       "    .dataframe tbody tr th:only-of-type {\n",
       "        vertical-align: middle;\n",
       "    }\n",
       "\n",
       "    .dataframe tbody tr th {\n",
       "        vertical-align: top;\n",
       "    }\n",
       "\n",
       "    .dataframe thead th {\n",
       "        text-align: right;\n",
       "    }\n",
       "</style>\n",
       "<table border=\"1\" class=\"dataframe\">\n",
       "  <thead>\n",
       "    <tr style=\"text-align: right;\">\n",
       "      <th></th>\n",
       "      <th>anime_id</th>\n",
       "      <th>name</th>\n",
       "      <th>genre</th>\n",
       "      <th>type</th>\n",
       "      <th>episodes</th>\n",
       "      <th>rating</th>\n",
       "      <th>members</th>\n",
       "    </tr>\n",
       "  </thead>\n",
       "  <tbody>\n",
       "    <tr>\n",
       "      <th>0</th>\n",
       "      <td>32281</td>\n",
       "      <td>Kimi no Na wa.</td>\n",
       "      <td>Drama, Romance, School, Supernatural</td>\n",
       "      <td>Movie</td>\n",
       "      <td>1</td>\n",
       "      <td>9.37</td>\n",
       "      <td>200630</td>\n",
       "    </tr>\n",
       "    <tr>\n",
       "      <th>1</th>\n",
       "      <td>5114</td>\n",
       "      <td>Fullmetal Alchemist: Brotherhood</td>\n",
       "      <td>Action, Adventure, Drama, Fantasy, Magic, Military, Shounen</td>\n",
       "      <td>TV</td>\n",
       "      <td>64</td>\n",
       "      <td>9.26</td>\n",
       "      <td>793665</td>\n",
       "    </tr>\n",
       "    <tr>\n",
       "      <th>2</th>\n",
       "      <td>28977</td>\n",
       "      <td>Gintama°</td>\n",
       "      <td>Action, Comedy, Historical, Parody, Samurai, Sci-Fi, Shounen</td>\n",
       "      <td>TV</td>\n",
       "      <td>51</td>\n",
       "      <td>9.25</td>\n",
       "      <td>114262</td>\n",
       "    </tr>\n",
       "    <tr>\n",
       "      <th>3</th>\n",
       "      <td>9253</td>\n",
       "      <td>Steins;Gate</td>\n",
       "      <td>Sci-Fi, Thriller</td>\n",
       "      <td>TV</td>\n",
       "      <td>24</td>\n",
       "      <td>9.17</td>\n",
       "      <td>673572</td>\n",
       "    </tr>\n",
       "    <tr>\n",
       "      <th>4</th>\n",
       "      <td>9969</td>\n",
       "      <td>Gintama&amp;#039;</td>\n",
       "      <td>Action, Comedy, Historical, Parody, Samurai, Sci-Fi, Shounen</td>\n",
       "      <td>TV</td>\n",
       "      <td>51</td>\n",
       "      <td>9.16</td>\n",
       "      <td>151266</td>\n",
       "    </tr>\n",
       "  </tbody>\n",
       "</table>\n",
       "</div>"
      ],
      "text/plain": [
       "   anime_id                              name  \\\n",
       "0     32281                    Kimi no Na wa.   \n",
       "1      5114  Fullmetal Alchemist: Brotherhood   \n",
       "2     28977                          Gintama°   \n",
       "3      9253                       Steins;Gate   \n",
       "4      9969                     Gintama&#039;   \n",
       "\n",
       "                                                          genre   type  \\\n",
       "0                          Drama, Romance, School, Supernatural  Movie   \n",
       "1   Action, Adventure, Drama, Fantasy, Magic, Military, Shounen     TV   \n",
       "2  Action, Comedy, Historical, Parody, Samurai, Sci-Fi, Shounen     TV   \n",
       "3                                              Sci-Fi, Thriller     TV   \n",
       "4  Action, Comedy, Historical, Parody, Samurai, Sci-Fi, Shounen     TV   \n",
       "\n",
       "  episodes  rating  members  \n",
       "0        1    9.37   200630  \n",
       "1       64    9.26   793665  \n",
       "2       51    9.25   114262  \n",
       "3       24    9.17   673572  \n",
       "4       51    9.16   151266  "
      ]
     },
     "execution_count": 20,
     "metadata": {},
     "output_type": "execute_result"
    }
   ],
   "source": [
    "anime.head(5)"
   ]
  },
  {
   "cell_type": "code",
   "execution_count": 3,
   "metadata": {},
   "outputs": [
    {
     "data": {
      "text/plain": [
       "(12294, 7)"
      ]
     },
     "execution_count": 3,
     "metadata": {},
     "output_type": "execute_result"
    }
   ],
   "source": [
    "anime.shape"
   ]
  },
  {
   "cell_type": "code",
   "execution_count": 4,
   "metadata": {},
   "outputs": [
    {
     "data": {
      "text/html": [
       "<div>\n",
       "<style scoped>\n",
       "    .dataframe tbody tr th:only-of-type {\n",
       "        vertical-align: middle;\n",
       "    }\n",
       "\n",
       "    .dataframe tbody tr th {\n",
       "        vertical-align: top;\n",
       "    }\n",
       "\n",
       "    .dataframe thead th {\n",
       "        text-align: right;\n",
       "    }\n",
       "</style>\n",
       "<table border=\"1\" class=\"dataframe\">\n",
       "  <thead>\n",
       "    <tr style=\"text-align: right;\">\n",
       "      <th></th>\n",
       "      <th>anime_id</th>\n",
       "      <th>name</th>\n",
       "      <th>genre</th>\n",
       "      <th>type</th>\n",
       "      <th>episodes</th>\n",
       "      <th>rating</th>\n",
       "      <th>members</th>\n",
       "    </tr>\n",
       "  </thead>\n",
       "  <tbody>\n",
       "    <tr>\n",
       "      <th>0</th>\n",
       "      <td>32281</td>\n",
       "      <td>kimi no na wa</td>\n",
       "      <td>Drama, Romance, School, Supernatural</td>\n",
       "      <td>Movie</td>\n",
       "      <td>1</td>\n",
       "      <td>9.37</td>\n",
       "      <td>200630.0</td>\n",
       "    </tr>\n",
       "    <tr>\n",
       "      <th>1</th>\n",
       "      <td>5114</td>\n",
       "      <td>fullmetal alchemist  brotherhood</td>\n",
       "      <td>Action, Adventure, Drama, Fantasy, Magic, Military, Shounen</td>\n",
       "      <td>TV</td>\n",
       "      <td>64</td>\n",
       "      <td>9.26</td>\n",
       "      <td>793665.0</td>\n",
       "    </tr>\n",
       "    <tr>\n",
       "      <th>2</th>\n",
       "      <td>28977</td>\n",
       "      <td>gintama</td>\n",
       "      <td>Action, Comedy, Historical, Parody, Samurai, Sci-Fi, Shounen</td>\n",
       "      <td>TV</td>\n",
       "      <td>51</td>\n",
       "      <td>9.25</td>\n",
       "      <td>114262.0</td>\n",
       "    </tr>\n",
       "    <tr>\n",
       "      <th>3</th>\n",
       "      <td>9253</td>\n",
       "      <td>steins gate</td>\n",
       "      <td>Sci-Fi, Thriller</td>\n",
       "      <td>TV</td>\n",
       "      <td>24</td>\n",
       "      <td>9.17</td>\n",
       "      <td>673572.0</td>\n",
       "    </tr>\n",
       "    <tr>\n",
       "      <th>4</th>\n",
       "      <td>9969</td>\n",
       "      <td>gintama  039</td>\n",
       "      <td>Action, Comedy, Historical, Parody, Samurai, Sci-Fi, Shounen</td>\n",
       "      <td>TV</td>\n",
       "      <td>51</td>\n",
       "      <td>9.16</td>\n",
       "      <td>151266.0</td>\n",
       "    </tr>\n",
       "    <tr>\n",
       "      <th>5</th>\n",
       "      <td>32935</td>\n",
       "      <td>haikyuu    karasuno koukou vs shiratorizawa gakuen koukou</td>\n",
       "      <td>Comedy, Drama, School, Shounen, Sports</td>\n",
       "      <td>TV</td>\n",
       "      <td>10</td>\n",
       "      <td>9.15</td>\n",
       "      <td>93351.0</td>\n",
       "    </tr>\n",
       "    <tr>\n",
       "      <th>6</th>\n",
       "      <td>11061</td>\n",
       "      <td>hunter x hunter  2011</td>\n",
       "      <td>Action, Adventure, Shounen, Super Power</td>\n",
       "      <td>TV</td>\n",
       "      <td>148</td>\n",
       "      <td>9.13</td>\n",
       "      <td>425855.0</td>\n",
       "    </tr>\n",
       "    <tr>\n",
       "      <th>7</th>\n",
       "      <td>820</td>\n",
       "      <td>ginga eiyuu densetsu</td>\n",
       "      <td>Drama, Military, Sci-Fi, Space</td>\n",
       "      <td>OVA</td>\n",
       "      <td>110</td>\n",
       "      <td>9.11</td>\n",
       "      <td>80679.0</td>\n",
       "    </tr>\n",
       "    <tr>\n",
       "      <th>8</th>\n",
       "      <td>15335</td>\n",
       "      <td>gintama movie  kanketsu hen   yorozuya yo eien nare</td>\n",
       "      <td>Action, Comedy, Historical, Parody, Samurai, Sci-Fi, Shounen</td>\n",
       "      <td>Movie</td>\n",
       "      <td>1</td>\n",
       "      <td>9.10</td>\n",
       "      <td>72534.0</td>\n",
       "    </tr>\n",
       "    <tr>\n",
       "      <th>9</th>\n",
       "      <td>15417</td>\n",
       "      <td>gintama  039   enchousen</td>\n",
       "      <td>Action, Comedy, Historical, Parody, Samurai, Sci-Fi, Shounen</td>\n",
       "      <td>TV</td>\n",
       "      <td>13</td>\n",
       "      <td>9.11</td>\n",
       "      <td>81109.0</td>\n",
       "    </tr>\n",
       "  </tbody>\n",
       "</table>\n",
       "</div>"
      ],
      "text/plain": [
       "   anime_id                                                       name  \\\n",
       "0     32281                                             kimi no na wa    \n",
       "1      5114                           fullmetal alchemist  brotherhood   \n",
       "2     28977                                                   gintama    \n",
       "3      9253                                                steins gate   \n",
       "4      9969                                              gintama  039    \n",
       "5     32935  haikyuu    karasuno koukou vs shiratorizawa gakuen koukou   \n",
       "6     11061                                     hunter x hunter  2011    \n",
       "7       820                                       ginga eiyuu densetsu   \n",
       "8     15335        gintama movie  kanketsu hen   yorozuya yo eien nare   \n",
       "9     15417                                   gintama  039   enchousen   \n",
       "\n",
       "                                                          genre   type  \\\n",
       "0                          Drama, Romance, School, Supernatural  Movie   \n",
       "1   Action, Adventure, Drama, Fantasy, Magic, Military, Shounen     TV   \n",
       "2  Action, Comedy, Historical, Parody, Samurai, Sci-Fi, Shounen     TV   \n",
       "3                                              Sci-Fi, Thriller     TV   \n",
       "4  Action, Comedy, Historical, Parody, Samurai, Sci-Fi, Shounen     TV   \n",
       "5                        Comedy, Drama, School, Shounen, Sports     TV   \n",
       "6                       Action, Adventure, Shounen, Super Power     TV   \n",
       "7                                Drama, Military, Sci-Fi, Space    OVA   \n",
       "8  Action, Comedy, Historical, Parody, Samurai, Sci-Fi, Shounen  Movie   \n",
       "9  Action, Comedy, Historical, Parody, Samurai, Sci-Fi, Shounen     TV   \n",
       "\n",
       "  episodes  rating   members  \n",
       "0        1    9.37  200630.0  \n",
       "1       64    9.26  793665.0  \n",
       "2       51    9.25  114262.0  \n",
       "3       24    9.17  673572.0  \n",
       "4       51    9.16  151266.0  \n",
       "5       10    9.15   93351.0  \n",
       "6      148    9.13  425855.0  \n",
       "7      110    9.11   80679.0  \n",
       "8        1    9.10   72534.0  \n",
       "9       13    9.11   81109.0  "
      ]
     },
     "execution_count": 4,
     "metadata": {},
     "output_type": "execute_result"
    }
   ],
   "source": [
    "anime_cleaned = cleaning.clean_anime_df(anime)\n",
    "anime_cleaned.head(10)\n",
    "\n"
   ]
  },
  {
   "cell_type": "code",
   "execution_count": 5,
   "metadata": {},
   "outputs": [
    {
     "data": {
      "text/plain": [
       "(12210, 7)"
      ]
     },
     "execution_count": 5,
     "metadata": {},
     "output_type": "execute_result"
    }
   ],
   "source": [
    "anime_cleaned.shape"
   ]
  },
  {
   "cell_type": "code",
   "execution_count": 6,
   "metadata": {},
   "outputs": [],
   "source": [
    "anime_features = cleaning.prepare_supervised_content_based(anime_cleaned)"
   ]
  },
  {
   "cell_type": "code",
   "execution_count": 7,
   "metadata": {},
   "outputs": [
    {
     "data": {
      "text/plain": [
       "(12210, 52)"
      ]
     },
     "execution_count": 7,
     "metadata": {},
     "output_type": "execute_result"
    }
   ],
   "source": [
    "anime_features.shape"
   ]
  },
  {
   "cell_type": "code",
   "execution_count": 8,
   "metadata": {},
   "outputs": [],
   "source": [
    "min_max = MinMaxScaler()\n",
    "min_max_features = min_max.fit_transform(anime_features)"
   ]
  },
  {
   "cell_type": "code",
   "execution_count": 9,
   "metadata": {},
   "outputs": [
    {
     "data": {
      "text/plain": [
       "(12210, 52)"
      ]
     },
     "execution_count": 9,
     "metadata": {},
     "output_type": "execute_result"
    }
   ],
   "source": [
    "min_max_features.shape"
   ]
  },
  {
   "cell_type": "code",
   "execution_count": 10,
   "metadata": {},
   "outputs": [
    {
     "data": {
      "text/plain": [
       "array([[0.  , 0.92, 0.2 , ..., 0.  , 0.  , 0.  ],\n",
       "       [0.03, 0.91, 0.78, ..., 0.  , 0.  , 1.  ],\n",
       "       [0.03, 0.91, 0.11, ..., 0.  , 0.  , 1.  ],\n",
       "       ...,\n",
       "       [0.  , 0.39, 0.  , ..., 1.  , 0.  , 0.  ],\n",
       "       [0.  , 0.4 , 0.  , ..., 1.  , 0.  , 0.  ],\n",
       "       [0.  , 0.45, 0.  , ..., 0.  , 0.  , 0.  ]])"
      ]
     },
     "execution_count": 10,
     "metadata": {},
     "output_type": "execute_result"
    }
   ],
   "source": [
    "np.round(min_max_features,2)"
   ]
  },
  {
   "attachments": {},
   "cell_type": "markdown",
   "metadata": {},
   "source": [
    "## Finding the best parameters for NearestNeighbors model"
   ]
  },
  {
   "cell_type": "code",
   "execution_count": 11,
   "metadata": {},
   "outputs": [
    {
     "name": "stderr",
     "output_type": "stream",
     "text": [
      "c:\\Users\\christiandda\\miniconda3\\envs\\stlit\\lib\\site-packages\\sklearn\\model_selection\\_search.py:952: UserWarning: One or more of the test scores are non-finite: [nan nan nan ... nan nan nan]\n",
      "  warnings.warn(\n"
     ]
    },
    {
     "data": {
      "text/plain": [
       "{'algorithm': 'auto',\n",
       " 'leaf_size': 30,\n",
       " 'metric': 'minkowski',\n",
       " 'n_neighbors': 1,\n",
       " 'p': 1,\n",
       " 'radius': 0.0}"
      ]
     },
     "execution_count": 11,
     "metadata": {},
     "output_type": "execute_result"
    }
   ],
   "source": [
    "testing.param_NearestNeighbors(min_max_features)"
   ]
  },
  {
   "attachments": {},
   "cell_type": "markdown",
   "metadata": {},
   "source": [
    "## Building model with the best parameters"
   ]
  },
  {
   "cell_type": "code",
   "execution_count": 12,
   "metadata": {},
   "outputs": [
    {
     "data": {
      "text/plain": [
       "array([[    0,   208,  1111, ...,  6272,  6460,  8395],\n",
       "       [    1,   200,   268, ...,  4443,  8275,  4964],\n",
       "       [    2,     4,     9, ...,  4905, 10874,  4910],\n",
       "       ...,\n",
       "       [12207, 12156, 12155, ..., 12035, 12037, 12039],\n",
       "       [12208, 12149, 12150, ..., 12034, 12030, 12032],\n",
       "       [12209, 11723, 11656, ...,  7291,  7313, 12018]], dtype=int64)"
      ]
     },
     "execution_count": 12,
     "metadata": {},
     "output_type": "execute_result"
    }
   ],
   "source": [
    "training.model_NearestNeighbors(min_max_features)"
   ]
  },
  {
   "attachments": {},
   "cell_type": "markdown",
   "metadata": {},
   "source": [
    "## Get recommendations"
   ]
  },
  {
   "cell_type": "code",
   "execution_count": 13,
   "metadata": {},
   "outputs": [
    {
     "name": "stdout",
     "output_type": "stream",
     "text": [
      "These are the recommendations for similar animes to \u001b[1mnaruto\u001b[0m \n",
      "\n"
     ]
    },
    {
     "data": {
      "text/html": [
       "<div>\n",
       "<style scoped>\n",
       "    .dataframe tbody tr th:only-of-type {\n",
       "        vertical-align: middle;\n",
       "    }\n",
       "\n",
       "    .dataframe tbody tr th {\n",
       "        vertical-align: top;\n",
       "    }\n",
       "\n",
       "    .dataframe thead th {\n",
       "        text-align: right;\n",
       "    }\n",
       "</style>\n",
       "<table border=\"1\" class=\"dataframe\">\n",
       "  <thead>\n",
       "    <tr style=\"text-align: right;\">\n",
       "      <th></th>\n",
       "      <th>name</th>\n",
       "      <th>genre</th>\n",
       "      <th>type</th>\n",
       "      <th>episodes</th>\n",
       "      <th>rating</th>\n",
       "    </tr>\n",
       "  </thead>\n",
       "  <tbody>\n",
       "    <tr>\n",
       "      <th></th>\n",
       "      <td>hunter x hunter  2011</td>\n",
       "      <td>Action, Adventure, Shounen, Super Power</td>\n",
       "      <td>TV</td>\n",
       "      <td>148.0</td>\n",
       "      <td>9.13</td>\n",
       "    </tr>\n",
       "    <tr>\n",
       "      <th></th>\n",
       "      <td>ansatsu kyoushitsu  tv  2nd season</td>\n",
       "      <td>Action, Comedy, School, Shounen</td>\n",
       "      <td>TV</td>\n",
       "      <td>25.0</td>\n",
       "      <td>8.68</td>\n",
       "    </tr>\n",
       "    <tr>\n",
       "      <th></th>\n",
       "      <td>hunter x hunter</td>\n",
       "      <td>Action, Adventure, Shounen, Super Power</td>\n",
       "      <td>TV</td>\n",
       "      <td>62.0</td>\n",
       "      <td>8.48</td>\n",
       "    </tr>\n",
       "    <tr>\n",
       "      <th></th>\n",
       "      <td>katekyo hitman reborn</td>\n",
       "      <td>Action, Comedy, Shounen, Super Power</td>\n",
       "      <td>TV</td>\n",
       "      <td>203.0</td>\n",
       "      <td>8.37</td>\n",
       "    </tr>\n",
       "    <tr>\n",
       "      <th></th>\n",
       "      <td>boku no hero academia</td>\n",
       "      <td>Action, Comedy, School, Shounen, Super Power</td>\n",
       "      <td>TV</td>\n",
       "      <td>13.0</td>\n",
       "      <td>8.36</td>\n",
       "    </tr>\n",
       "    <tr>\n",
       "      <th></th>\n",
       "      <td>dragon ball z</td>\n",
       "      <td>Action, Adventure, Comedy, Fantasy, Martial Arts, Shounen, Super Power</td>\n",
       "      <td>TV</td>\n",
       "      <td>291.0</td>\n",
       "      <td>8.32</td>\n",
       "    </tr>\n",
       "    <tr>\n",
       "      <th></th>\n",
       "      <td>shijou saikyou no deshi kenichi</td>\n",
       "      <td>Action, Comedy, Martial Arts, School, Shounen</td>\n",
       "      <td>TV</td>\n",
       "      <td>50.0</td>\n",
       "      <td>8.25</td>\n",
       "    </tr>\n",
       "    <tr>\n",
       "      <th></th>\n",
       "      <td>kill la kill</td>\n",
       "      <td>Action, Comedy, School, Super Power</td>\n",
       "      <td>TV</td>\n",
       "      <td>24.0</td>\n",
       "      <td>8.23</td>\n",
       "    </tr>\n",
       "    <tr>\n",
       "      <th></th>\n",
       "      <td>ansatsu kyoushitsu  tv</td>\n",
       "      <td>Action, Comedy, School, Shounen</td>\n",
       "      <td>TV</td>\n",
       "      <td>22.0</td>\n",
       "      <td>8.20</td>\n",
       "    </tr>\n",
       "    <tr>\n",
       "      <th></th>\n",
       "      <td>d gray man</td>\n",
       "      <td>Action, Adventure, Comedy, Shounen</td>\n",
       "      <td>TV</td>\n",
       "      <td>103.0</td>\n",
       "      <td>8.20</td>\n",
       "    </tr>\n",
       "  </tbody>\n",
       "</table>\n",
       "</div>"
      ],
      "text/plain": [
       "                                name  \\\n",
       "              hunter x hunter  2011    \n",
       "  ansatsu kyoushitsu  tv  2nd season   \n",
       "                     hunter x hunter   \n",
       "              katekyo hitman reborn    \n",
       "               boku no hero academia   \n",
       "                       dragon ball z   \n",
       "     shijou saikyou no deshi kenichi   \n",
       "                        kill la kill   \n",
       "             ansatsu kyoushitsu  tv    \n",
       "                          d gray man   \n",
       "\n",
       "                                                                   genre type  \\\n",
       "                                 Action, Adventure, Shounen, Super Power   TV   \n",
       "                                         Action, Comedy, School, Shounen   TV   \n",
       "                                 Action, Adventure, Shounen, Super Power   TV   \n",
       "                                    Action, Comedy, Shounen, Super Power   TV   \n",
       "                            Action, Comedy, School, Shounen, Super Power   TV   \n",
       "  Action, Adventure, Comedy, Fantasy, Martial Arts, Shounen, Super Power   TV   \n",
       "                           Action, Comedy, Martial Arts, School, Shounen   TV   \n",
       "                                     Action, Comedy, School, Super Power   TV   \n",
       "                                         Action, Comedy, School, Shounen   TV   \n",
       "                                      Action, Adventure, Comedy, Shounen   TV   \n",
       "\n",
       "  episodes  rating  \n",
       "     148.0    9.13  \n",
       "      25.0    8.68  \n",
       "      62.0    8.48  \n",
       "     203.0    8.37  \n",
       "      13.0    8.36  \n",
       "     291.0    8.32  \n",
       "      50.0    8.25  \n",
       "      24.0    8.23  \n",
       "      22.0    8.20  \n",
       "     103.0    8.20  "
      ]
     },
     "execution_count": 13,
     "metadata": {},
     "output_type": "execute_result"
    }
   ],
   "source": [
    "# We can get the recommendation as a dataframe\n",
    "# We selec the name of the anime we want to find similitudes\n",
    "# Then the genre we want (or write \"All\")\n",
    "# Then the type we want (or write \"All\")\n",
    "# Then the number of suggestions we have(we might get less if there not so many o none if there is no matches)\n",
    "\n",
    "recommend.create_df(recommend.print_similar_animes(\"naruto\"),\"All\",\"All\",10)"
   ]
  },
  {
   "cell_type": "code",
   "execution_count": 14,
   "metadata": {},
   "outputs": [
    {
     "name": "stdout",
     "output_type": "stream",
     "text": [
      "I guess you misspelled the name\n",
      " Are you looking similitudes for the anime named \u001b[1mmonster\u001b[0m? \n",
      "Here are the recommendations:\n"
     ]
    },
    {
     "data": {
      "text/plain": [
       "[{'name': 'death note',\n",
       "  'genre': 'Mystery, Police, Psychological, Supernatural, Thriller',\n",
       "  'type': 'TV',\n",
       "  'episodes': 37.0,\n",
       "  'rating': 8.71},\n",
       " {'name': 'boku dake ga inai machi',\n",
       "  'genre': 'Mystery, Psychological, Seinen, Supernatural',\n",
       "  'type': 'TV',\n",
       "  'episodes': 12.0,\n",
       "  'rating': 8.65},\n",
       " {'name': 'shinsekai yori',\n",
       "  'genre': 'Drama, Horror, Mystery, Sci-Fi, Supernatural',\n",
       "  'type': 'TV',\n",
       "  'episodes': 25.0,\n",
       "  'rating': 8.53},\n",
       " {'name': 'higurashi no naku koro ni kai',\n",
       "  'genre': 'Mystery, Psychological, Supernatural, Thriller',\n",
       "  'type': 'TV',\n",
       "  'episodes': 24.0,\n",
       "  'rating': 8.41},\n",
       " {'name': 'bungou stray dogs 2nd season',\n",
       "  'genre': 'Mystery, Seinen, Supernatural',\n",
       "  'type': 'TV',\n",
       "  'episodes': 12.0,\n",
       "  'rating': 8.39},\n",
       " {'name': 'xxxholic kei',\n",
       "  'genre': 'Comedy, Drama, Mystery, Psychological, Supernatural',\n",
       "  'type': 'TV',\n",
       "  'episodes': 13.0,\n",
       "  'rating': 8.34},\n",
       " {'name': 'gankutsuou',\n",
       "  'genre': 'Drama, Mystery, Sci-Fi, Supernatural, Thriller',\n",
       "  'type': 'TV',\n",
       "  'episodes': 24.0,\n",
       "  'rating': 8.27},\n",
       " {'name': 'higurashi no naku koro ni',\n",
       "  'genre': 'Horror, Mystery, Psychological, Supernatural, Thriller',\n",
       "  'type': 'TV',\n",
       "  'episodes': 26.0,\n",
       "  'rating': 8.17},\n",
       " {'name': 'ajin 2nd season',\n",
       "  'genre': 'Action, Horror, Mystery, Seinen, Supernatural',\n",
       "  'type': 'TV',\n",
       "  'episodes': 13.0,\n",
       "  'rating': 8.12},\n",
       " {'name': 'xxxholic',\n",
       "  'genre': 'Comedy, Drama, Mystery, Psychological, Supernatural',\n",
       "  'type': 'TV',\n",
       "  'episodes': 24.0,\n",
       "  'rating': 8.11}]"
      ]
     },
     "execution_count": 14,
     "metadata": {},
     "output_type": "execute_result"
    }
   ],
   "source": [
    "# We can get the recommendation as a dictionary\n",
    "# We selec the name of the anime we want to find similitudes\n",
    "# Then the genre we want (or write \"All\")\n",
    "# Then the type we want (or write \"All\")\n",
    "# Then the number of suggestions we have(we might get less if there not so many o none if there is no matches)\n",
    "\n",
    "recommend.create_dict(recommend.print_similar_animes(\"Monster\"),\"Supernatural\",\"All\",10)"
   ]
  }
 ],
 "metadata": {
  "kernelspec": {
   "display_name": "stlit",
   "language": "python",
   "name": "python3"
  },
  "language_info": {
   "codemirror_mode": {
    "name": "ipython",
    "version": 3
   },
   "file_extension": ".py",
   "mimetype": "text/x-python",
   "name": "python",
   "nbconvert_exporter": "python",
   "pygments_lexer": "ipython3",
   "version": "3.10.6"
  },
  "orig_nbformat": 4,
  "vscode": {
   "interpreter": {
    "hash": "8120e94be8c887b90a4a4cecf0d7be35c08afb61c8d77a193b8a384ad1a0b7e8"
   }
  }
 },
 "nbformat": 4,
 "nbformat_minor": 2
}
